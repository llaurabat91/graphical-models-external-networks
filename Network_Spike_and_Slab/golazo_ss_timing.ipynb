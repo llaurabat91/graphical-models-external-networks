{
 "cells": [
  {
   "cell_type": "markdown",
   "metadata": {},
   "source": [
    "## Limiting the number of cores that NumPyro can use\n",
    "\n",
    "https://stackoverflow.com/questions/30791550/limit-number-of-threads-in-numpy?fbclid=IwAR3KpUvkrqQR5DR74zKoMFATxkFz_LxNOCoT2dCHNPEAEgohEHMDydSUyEU"
   ]
  },
  {
   "cell_type": "code",
   "execution_count": 1,
   "metadata": {},
   "outputs": [],
   "source": [
    "#!pip install threadpoolctl"
   ]
  },
  {
   "cell_type": "code",
   "execution_count": 1,
   "metadata": {},
   "outputs": [
    {
     "name": "stdout",
     "output_type": "stream",
     "text": [
      "[{'filepath': '/home/usuario/anaconda3/lib/python3.8/site-packages/numpy.libs/libopenblasp-r0-09e95953.3.13.so',\n",
      "  'internal_api': 'openblas',\n",
      "  'num_threads': 16,\n",
      "  'prefix': 'libopenblas',\n",
      "  'threading_layer': 'pthreads',\n",
      "  'user_api': 'blas',\n",
      "  'version': '0.3.13'}]\n"
     ]
    }
   ],
   "source": [
    "from threadpoolctl import threadpool_limits\n",
    "from threadpoolctl import threadpool_info\n",
    "from pprint import pprint\n",
    "import numpy\n",
    "pprint(threadpool_info())\n",
    "\n",
    "#with threadpool_limits(limits=1, user_api='blas'):\n",
    "  # single threaded numpy code..."
   ]
  },
  {
   "cell_type": "code",
   "execution_count": 2,
   "metadata": {},
   "outputs": [],
   "source": [
    "import os\n",
    "#os.chdir(\"/content/\")\n",
    "# os.chdir(\"/Users/llaurabat/Dropbox/BGSE_work/LJRZH_graphs/graphical-regression-with-networks/numpyro\")\n",
    "\n",
    "os.chdir(\"/home/usuario/Documents/Barcelona_Yr1/GraphicalModels_NetworkData/Lauracode\")"
   ]
  },
  {
   "cell_type": "markdown",
   "metadata": {
    "id": "MWUcerDSsx7l"
   },
   "source": [
    "### Import modules, utils"
   ]
  },
  {
   "cell_type": "code",
   "execution_count": 3,
   "metadata": {
    "id": "KquK4KJ0o1jJ"
   },
   "outputs": [],
   "source": [
    "import sys\n",
    "#sys.path.append(\"./graphical-regression-with-networks/numpyro/functions\")\n",
    "sys.path.append(\"functions\")"
   ]
  },
  {
   "cell_type": "code",
   "execution_count": 4,
   "metadata": {
    "id": "KquK4KJ0o1jJ"
   },
   "outputs": [],
   "source": [
    "# save data to DRIVE, not to cloned repo\n",
    "#data_save_path = './drive/MyDrive/graphical_reg_with_networks/stock_market_application/data/'\n",
    "data_save_path = './simulations/final_models/data/'\n",
    "\n",
    "sim_data_path = '/home/usuario/Documents/Barcelona_Yr1/GraphicalModels_NetworkData/LiLicode/Bayesian/GOLAZO_SS_SimData/data/'\n"
   ]
  },
  {
   "cell_type": "code",
   "execution_count": 5,
   "metadata": {
    "colab": {
     "base_uri": "https://localhost:8080/"
    },
    "id": "uy7Jbg5uo4Zs",
    "outputId": "36315114-c22a-4792-a139-dd0d30e0247f"
   },
   "outputs": [
    {
     "name": "stdout",
     "output_type": "stream",
     "text": [
      "cpu\n",
      "Is 64 precision enabled?: True\n",
      "cpu\n",
      "Is 64 precision enabled?: True\n"
     ]
    }
   ],
   "source": [
    "import models\n",
    "import my_utils"
   ]
  },
  {
   "cell_type": "code",
   "execution_count": 6,
   "metadata": {},
   "outputs": [
    {
     "name": "stdout",
     "output_type": "stream",
     "text": [
      "cpu\n",
      "Is 64 precision enabled?: True\n",
      "cpu\n",
      "Is 64 precision enabled?: True\n"
     ]
    },
    {
     "data": {
      "text/plain": [
       "<module 'my_utils' from 'functions/my_utils.py'>"
      ]
     },
     "execution_count": 6,
     "metadata": {},
     "output_type": "execute_result"
    }
   ],
   "source": [
    "import importlib\n",
    "importlib.reload(models)\n",
    "importlib.reload(my_utils)"
   ]
  },
  {
   "cell_type": "code",
   "execution_count": 7,
   "metadata": {
    "id": "eogcSYYbXHXX"
   },
   "outputs": [],
   "source": [
    "# imports\n",
    "import pandas as pd\n",
    "import numpy as np\n",
    "import matplotlib.pyplot as plt\n",
    "import pickle\n",
    "from numpyro.util import enable_x64\n",
    "import time\n",
    "from datetime import timedelta"
   ]
  },
  {
   "cell_type": "code",
   "execution_count": 8,
   "metadata": {
    "colab": {
     "base_uri": "https://localhost:8080/"
    },
    "id": "cjmzPepwXHXZ",
    "outputId": "af581e2a-fc7a-420e-dd5b-a2536ed1ceb7"
   },
   "outputs": [
    {
     "name": "stdout",
     "output_type": "stream",
     "text": [
      "cpu\n"
     ]
    }
   ],
   "source": [
    "import jax\n",
    "import numpyro\n",
    "# numpyro.set_platform('gpu')\n",
    "print(jax.lib.xla_bridge.get_backend().platform)\n",
    "\n",
    "from jax import random, vmap\n",
    "import jax.numpy as jnp\n",
    "\n",
    "import numpyro.distributions as dist\n",
    "from numpyro.infer import MCMC, NUTS, log_likelihood\n",
    "from jax.random import PRNGKey as Key\n",
    "from numpyro.infer import init_to_feasible, init_to_value\n",
    "from numpyro.diagnostics import print_summary\n",
    "from numpyro.handlers import condition, substitute, block, seed\n",
    "from optax import adam, exponential_decay\n",
    "from numpyro.infer import SVI, Trace_ELBO\n",
    "from numpyro.infer.autoguide import AutoDelta\n"
   ]
  },
  {
   "cell_type": "code",
   "execution_count": 9,
   "metadata": {},
   "outputs": [
    {
     "name": "stdout",
     "output_type": "stream",
     "text": [
      "Is 64 precision enabled?: True\n"
     ]
    }
   ],
   "source": [
    "enable_x64(use_x64=True)\n",
    "print(\"Is 64 precision enabled?:\", jax.config.jax_enable_x64)"
   ]
  },
  {
   "cell_type": "code",
   "execution_count": 17,
   "metadata": {},
   "outputs": [
    {
     "name": "stdout",
     "output_type": "stream",
     "text": [
      "(DeviceArray([  1,   2,   2, ..., 365, 365, 365], dtype=int64), DeviceArray([  0,   0,   1, ..., 362, 363, 364], dtype=int64))\n"
     ]
    }
   ],
   "source": [
    "p = 366\n",
    "tril_idx = jnp.tril_indices(n=p, k=-1, m=p)\n",
    "print(tril_idx)"
   ]
  },
  {
   "cell_type": "markdown",
   "metadata": {},
   "source": [
    "## p = 10"
   ]
  },
  {
   "cell_type": "code",
   "execution_count": 10,
   "metadata": {},
   "outputs": [],
   "source": [
    "n_sims = 10\n",
    "p = 10\n",
    "n = 2000\n",
    "n_cut = 100\n",
    "TP_thresh = 3"
   ]
  },
  {
   "cell_type": "markdown",
   "metadata": {},
   "source": [
    "# Run full model with MCMC, reparametrisation and is_dense=False"
   ]
  },
  {
   "cell_type": "code",
   "execution_count": 11,
   "metadata": {},
   "outputs": [],
   "source": [
    "# params\n",
    "n_warmup = 2000\n",
    "n_samples = 2000\n",
    "\n",
    "mu_m=0.\n",
    "mu_s=1.\n",
    "\n",
    "#my_model = models.NetworkSS_repr\n",
    "#my_model = models.golazo_ss_repr_etaRepr\n",
    "#my_model = models.NetworkSS_repr_loglikRepr\n",
    "my_model = models.NetworkSS_repr_etaRepr_loglikRepr\n",
    "is_dense=False\n",
    "verbose=False\n",
    "\n",
    "estimates_print = [\"w_slab\", \"mean_slab\", \"scale_slab\"]"
   ]
  },
  {
   "cell_type": "code",
   "execution_count": 12,
   "metadata": {},
   "outputs": [],
   "source": [
    "mu_fixed=jnp.zeros((p,))\n",
    "scale_spike_fixed=0.003"
   ]
  },
  {
   "cell_type": "code",
   "execution_count": 13,
   "metadata": {},
   "outputs": [],
   "source": [
    "# 85semidep params\n",
    "\n",
    "eta0_0_m_85SEMI=0.\n",
    "eta0_0_s_85SEMI=0.145\n",
    "eta0_coefs_m_85SEMI=0.\n",
    "eta0_coefs_s_85SEMI=0.145\n",
    "\n",
    "eta1_0_m_85SEMI=-2.197\n",
    "eta1_0_s_85SEMI=0.661\n",
    "eta1_coefs_m_85SEMI=0.\n",
    "eta1_coefs_s_85SEMI=0.661\n",
    "\n",
    "eta2_0_m_85SEMI=-2.722\n",
    "eta2_0_s_85SEMI=3.278\n",
    "eta2_coefs_m_85SEMI=0.\n",
    "eta2_coefs_s_85SEMI=3.278\n"
   ]
  },
  {
   "cell_type": "code",
   "execution_count": 14,
   "metadata": {},
   "outputs": [],
   "source": [
    "# init strategy\n",
    "#rho_init = jnp.diag(jnp.ones((p,)))\n",
    "rho_tilde_init = jnp.zeros((int(p*(p-1)/2),))\n",
    "u_init = jnp.ones((int(p*(p-1)/2),))*0.5\n",
    "\n",
    "mu_init = jnp.zeros((p,))\n",
    "sqrt_diag_init = jnp.ones((p,))\n",
    "\n",
    "my_init_strategy_85SEMI = init_to_value(values={#'rho':rho_init,\n",
    "                                                'rho_tilde':rho_tilde_init,\n",
    "                                                'u':u_init,\n",
    "                                                'mu':mu_init, \n",
    "                                                'sqrt_diag':sqrt_diag_init, \n",
    "                                                'tilde_eta0_0':0.0,\n",
    "                                                'tilde_eta1_0':0.0,\n",
    "                                                'tilde_eta2_0':0.0,\n",
    "                                                'tilde_eta0_coefs':jnp.array([0.0]),\n",
    "                                                'tilde_eta1_coefs':jnp.array([0.0]),\n",
    "                                                'tilde_eta2_coefs':jnp.array([0.0]),})\n",
    "\n",
    "\n",
    "#my_init_strategy = init_to_uniform()\n",
    "\n"
   ]
  },
  {
   "cell_type": "code",
   "execution_count": 15,
   "metadata": {
    "scrolled": true
   },
   "outputs": [
    {
     "name": "stdout",
     "output_type": "stream",
     "text": [
      "--------------------------------------------------------------------------------\n",
      " Simulation number: 0 \n",
      " Dimensions: p = 10, n = 100 \n",
      " Run Network-SS with A-85SEMIDEP\n"
     ]
    },
    {
     "name": "stderr",
     "output_type": "stream",
     "text": [
      "sample: 100%|██████████| 4000/4000 [00:22<00:00, 177.48it/s, 255 steps of size 1.83e-02. acc. prob=0.82] \n",
      "  0%|          | 0/4000 [00:00<?, ?it/s]"
     ]
    },
    {
     "name": "stdout",
     "output_type": "stream",
     "text": [
      "0:00:27.532592\n",
      "--------------------------------------------------------------------------------\n",
      " Simulation number: 1 \n",
      " Dimensions: p = 10, n = 100 \n",
      " Run Network-SS with A-85SEMIDEP\n"
     ]
    },
    {
     "name": "stderr",
     "output_type": "stream",
     "text": [
      "sample: 100%|██████████| 4000/4000 [00:37<00:00, 105.78it/s, 1023 steps of size 4.99e-03. acc. prob=0.96]\n"
     ]
    },
    {
     "name": "stdout",
     "output_type": "stream",
     "text": [
      "0:00:38.244036\n",
      "--------------------------------------------------------------------------------\n",
      " Simulation number: 2 \n",
      " Dimensions: p = 10, n = 100 \n",
      " Run Network-SS with A-85SEMIDEP\n"
     ]
    },
    {
     "name": "stderr",
     "output_type": "stream",
     "text": [
      "sample: 100%|██████████| 4000/4000 [00:19<00:00, 206.46it/s, 127 steps of size 3.23e-02. acc. prob=0.64] \n",
      "  0%|          | 0/4000 [00:00<?, ?it/s]"
     ]
    },
    {
     "name": "stdout",
     "output_type": "stream",
     "text": [
      "0:00:19.931269\n",
      "--------------------------------------------------------------------------------\n",
      " Simulation number: 3 \n",
      " Dimensions: p = 10, n = 100 \n",
      " Run Network-SS with A-85SEMIDEP\n"
     ]
    },
    {
     "name": "stderr",
     "output_type": "stream",
     "text": [
      "sample: 100%|██████████| 4000/4000 [00:23<00:00, 171.75it/s, 511 steps of size 1.22e-02. acc. prob=0.60] \n",
      "  0%|          | 0/4000 [00:00<?, ?it/s]"
     ]
    },
    {
     "name": "stdout",
     "output_type": "stream",
     "text": [
      "0:00:23.690944\n",
      "--------------------------------------------------------------------------------\n",
      " Simulation number: 4 \n",
      " Dimensions: p = 10, n = 100 \n",
      " Run Network-SS with A-85SEMIDEP\n"
     ]
    },
    {
     "name": "stderr",
     "output_type": "stream",
     "text": [
      "sample: 100%|██████████| 4000/4000 [00:30<00:00, 133.03it/s, 511 steps of size 8.26e-03. acc. prob=0.86] \n",
      "  0%|          | 0/4000 [00:00<?, ?it/s]"
     ]
    },
    {
     "name": "stdout",
     "output_type": "stream",
     "text": [
      "0:00:30.479508\n",
      "--------------------------------------------------------------------------------\n",
      " Simulation number: 5 \n",
      " Dimensions: p = 10, n = 100 \n",
      " Run Network-SS with A-85SEMIDEP\n"
     ]
    },
    {
     "name": "stderr",
     "output_type": "stream",
     "text": [
      "sample: 100%|██████████| 4000/4000 [00:39<00:00, 101.22it/s, 1023 steps of size 5.10e-03. acc. prob=0.94]\n",
      "  0%|          | 0/4000 [00:00<?, ?it/s]"
     ]
    },
    {
     "name": "stdout",
     "output_type": "stream",
     "text": [
      "0:00:39.925641\n",
      "--------------------------------------------------------------------------------\n",
      " Simulation number: 6 \n",
      " Dimensions: p = 10, n = 100 \n",
      " Run Network-SS with A-85SEMIDEP\n"
     ]
    },
    {
     "name": "stderr",
     "output_type": "stream",
     "text": [
      "sample: 100%|██████████| 4000/4000 [00:26<00:00, 153.42it/s, 511 steps of size 8.53e-03. acc. prob=0.74] \n",
      "  0%|          | 0/4000 [00:00<?, ?it/s]"
     ]
    },
    {
     "name": "stdout",
     "output_type": "stream",
     "text": [
      "0:00:26.465567\n",
      "--------------------------------------------------------------------------------\n",
      " Simulation number: 7 \n",
      " Dimensions: p = 10, n = 100 \n",
      " Run Network-SS with A-85SEMIDEP\n"
     ]
    },
    {
     "name": "stderr",
     "output_type": "stream",
     "text": [
      "sample: 100%|██████████| 4000/4000 [00:27<00:00, 144.28it/s, 511 steps of size 8.73e-03. acc. prob=0.89] \n",
      "  0%|          | 0/4000 [00:00<?, ?it/s]"
     ]
    },
    {
     "name": "stdout",
     "output_type": "stream",
     "text": [
      "0:00:28.156773\n",
      "--------------------------------------------------------------------------------\n",
      " Simulation number: 8 \n",
      " Dimensions: p = 10, n = 100 \n",
      " Run Network-SS with A-85SEMIDEP\n"
     ]
    },
    {
     "name": "stderr",
     "output_type": "stream",
     "text": [
      "sample: 100%|██████████| 4000/4000 [00:29<00:00, 133.42it/s, 511 steps of size 7.05e-03. acc. prob=0.90] \n",
      "  0%|          | 0/4000 [00:00<?, ?it/s]"
     ]
    },
    {
     "name": "stdout",
     "output_type": "stream",
     "text": [
      "0:00:30.368923\n",
      "--------------------------------------------------------------------------------\n",
      " Simulation number: 9 \n",
      " Dimensions: p = 10, n = 100 \n",
      " Run Network-SS with A-85SEMIDEP\n"
     ]
    },
    {
     "name": "stderr",
     "output_type": "stream",
     "text": [
      "sample: 100%|██████████| 4000/4000 [00:24<00:00, 162.47it/s, 127 steps of size 2.11e-02. acc. prob=0.60] \n"
     ]
    },
    {
     "name": "stdout",
     "output_type": "stream",
     "text": [
      "0:00:25.064740\n"
     ]
    }
   ],
   "source": [
    "diagnostics_all = {}\n",
    "with threadpool_limits(limits=6, user_api='blas'):\n",
    "    for s in range(n_sims):\n",
    "        print('--------------------------------------------------------------------------------')\n",
    "        print(f\" Simulation number: {s} \\n Dimensions: p = {p}, n = {n_cut} \\n Run Network-SS with A-85SEMIDEP\")\n",
    "        with open(sim_data_path + f'sim{s}_p{p}_n{n}.sav', 'rb') as fr:\n",
    "            sim_res = pickle.load(fr)\n",
    "\n",
    "        A_list = [jnp.array(sim_res[\"A_scaled_semi_dep85\"])]\n",
    "        my_model_args = {\"A_list\":A_list, \"eta0_0_m\":eta0_0_m_85SEMI, \"eta0_0_s\":eta0_0_s_85SEMI, \n",
    "                 \"eta0_coefs_m\":eta0_coefs_m_85SEMI, \"eta0_coefs_s\":eta0_coefs_s_85SEMI,\n",
    "                 \"eta1_0_m\":eta1_0_m_85SEMI, \"eta1_0_s\":eta1_0_s_85SEMI, \n",
    "                 \"eta1_coefs_m\":eta1_coefs_m_85SEMI, \"eta1_coefs_s\":eta1_coefs_s_85SEMI,\n",
    "                 \"eta2_0_m\":eta2_0_m_85SEMI, \"eta2_0_s\":eta2_0_s_85SEMI, \n",
    "                 \"eta2_coefs_m\":eta2_coefs_m_85SEMI, \"eta2_coefs_s\":eta2_coefs_s_85SEMI,\n",
    "                 \"mu_m\":mu_m, \"mu_s\":mu_s} \n",
    "    \n",
    "        # select data \n",
    "        Y = jnp.array(sim_res['Y'])\n",
    "        Y = Y[:n_cut,:]\n",
    "        # summaries\n",
    "        y_bar = Y.mean(axis=0) #p\n",
    "        S_bar = Y.T@Y/n_cut - jnp.outer(y_bar, y_bar) #(p,p)\n",
    "        my_model_args.update({\"y_bar\":y_bar, \"S_bar\":S_bar, \"n\":n_cut, \"p\":p})\n",
    "        #my_model_args.update({\"Y\":Y, \"n\":n_cut, \"p\":p})\n",
    "        theta_true = jnp.array(sim_res['theta_true'])\n",
    "        tril_idx = jnp.tril_indices(n=p, k=-1, m=p)\n",
    "        nonzero_true = (jnp.abs(theta_true[tril_idx]) != 0.)\n",
    "\n",
    "        # set model\n",
    "        fixed_params_dict = {\"scale_spike\":scale_spike_fixed, \n",
    "                         \"mu\":mu_fixed}\n",
    "        blocked_params_list = [\"scale_spike\", \"mu\"]\n",
    "        my_model_run = block(condition(my_model, fixed_params_dict), \n",
    "                         hide=blocked_params_list)\n",
    "\n",
    "\n",
    "        nuts_kernel = NUTS(my_model_run, init_strategy=my_init_strategy_85SEMI, \n",
    "                       dense_mass=is_dense)\n",
    "    \n",
    "    \n",
    "        # run model and time up\n",
    "        start_time = time.time()\n",
    "        mcmc = MCMC(nuts_kernel, num_warmup=n_warmup, num_samples=n_samples)\n",
    "        #mcmc.run(rng_key = Key(s+44), Y=Y, **my_model_args,\n",
    "        mcmc.run(rng_key = Key(s+44), **my_model_args,\n",
    "            extra_fields=('potential_energy','accept_prob', \n",
    "                          'num_steps', 'adapt_state'))\n",
    "\n",
    "        end_time = time.time()\n",
    "        seconds_elapsed = end_time - start_time\n",
    "\n",
    "        print(str(timedelta(seconds=seconds_elapsed)))\n",
    "\n",
    "        # save samples\n",
    "        res_all_samples = mcmc.get_samples()\n",
    "\n",
    "        # record diagnostics\n",
    "        params = ['eta0_0', 'eta0_coefs', 'eta1_0', 'eta1_coefs',\n",
    "             'eta2_0', 'eta2_coefs', 'rho_tilde', 'rho_lt', 'sqrt_diag']\n",
    "\n",
    "        diagnostics_dict = {'ESS':{}, 'r_hat':{}}\n",
    "\n",
    "        for par in params:\n",
    "            ESS = numpyro.diagnostics.summary(jnp.expand_dims(res_all_samples[par],\n",
    "                                                          0))['Param:0']['n_eff']\n",
    "\n",
    "            diagnostics_dict['ESS'][par] = ESS\n",
    "\n",
    "            r_hat = numpyro.diagnostics.summary(jnp.expand_dims(res_all_samples[par],\n",
    "                                                            0))['Param:0']['r_hat']\n",
    "\n",
    "            diagnostics_dict['r_hat'][par] = r_hat\n",
    "\n",
    "        diagnostics_dict.update({'potential_energy':mcmc.get_extra_fields()['potential_energy']})\n",
    "        diagnostics_dict.update({'seconds_elapsed':seconds_elapsed})\n",
    "\n",
    "\n",
    "        # save\n",
    "        with open(data_save_path + f'diagnostics_ss_A85semi_{s}_p{p}_n{n_cut}.sav' , 'wb') as f:\n",
    "            pickle.dump((diagnostics_dict), f)\n",
    "\n",
    "        if verbose:\n",
    "            # output indicators\n",
    "            prob_slab_all = []\n",
    "            for cs in range(n_samples):\n",
    "                prob_slab = my_utils.get_prob_slab(rho_lt=res_all_samples['rho_lt'][cs], \n",
    "                                            mean_slab=res_all_samples['mean_slab'][cs], \n",
    "                                            scale_slab=res_all_samples['scale_slab'][cs], \n",
    "                                            scale_spike=fixed_params_dict['scale_spike'], \n",
    "                                            w_slab=res_all_samples['w_slab'][cs], \n",
    "                                            w_spike=(1-res_all_samples['w_slab'])[cs])\n",
    "                prob_slab_all.append(prob_slab)\n",
    "            prob_slab_est = (jnp.array(prob_slab_all)).mean(0)\n",
    "            print('prob_slab_est', prob_slab_est.shape)\n",
    "\n",
    "            nonzero_preds_5 = (prob_slab_est>0.5).astype(int)\n",
    "            print(f'is_nonzero with thresh {0.5}', nonzero_preds_5)\n",
    "            nonzero_preds_95 = (prob_slab_est>0.95).astype(int)\n",
    "            print(f'is_nonzero with thresh {0.95}', nonzero_preds_95)\n",
    "\n",
    "\n",
    "            TP_5 = jnp.where((nonzero_preds_5 == True)&(nonzero_true == True))[0].shape[0]\n",
    "            FP_5 = jnp.where((nonzero_preds_5 == True)&(nonzero_true == False))[0].shape[0]\n",
    "            FN_5 = jnp.where((nonzero_preds_5 == False)&(nonzero_true == True))[0].shape[0]\n",
    "            TN_5 = jnp.where((nonzero_preds_5 == False)&(nonzero_true == False))[0].shape[0]\n",
    "\n",
    "            TP_95 = jnp.where((nonzero_preds_95 == True)&(nonzero_true == True))[0].shape[0]\n",
    "            FP_95 = jnp.where((nonzero_preds_95 == True)&(nonzero_true == False))[0].shape[0]\n",
    "            FN_95 = jnp.where((nonzero_preds_95 == False)&(nonzero_true == True))[0].shape[0]\n",
    "            TN_95 = jnp.where((nonzero_preds_95 == False)&(nonzero_true == False))[0].shape[0]\n",
    "\n",
    "            theta = res_all_samples['theta'].mean(0)\n",
    "            print('mse on estimated posterior mean for theta vs true theta: ', my_utils.get_MSE(theta, theta_true))\n",
    "            print(\" \")\n",
    "\n",
    "            for k in estimates_print:\n",
    "                est_mean = res_all_samples[f'{k}'].mean(0)\n",
    "                print(f'estimated mean posterior for {k} is {est_mean}')\n",
    "\n",
    "            print(\" \") \n",
    "            print(f'Lower triangle of estimated theta is {theta[tril_idx]}')\n",
    "            print(\" \")\n",
    "            print(f'Total for threshold 0.5:{p*(p-1)/2}, TP:{TP_5}, FP:{FP_5}, FN:{FN_5}, TN:{TN_5}')\n",
    "\n",
    "            TPR = my_utils.get_TPR(TP=TP_5, FN=FN_5)\n",
    "            FPR = my_utils.get_FPR(FP=FP_5, TN=TN_5)\n",
    "            FNR = my_utils.get_FNR(FN=FN_5, TP=TP_5)\n",
    "            print(f'TPR: {TPR}, FPR: {FPR}, FNR: {FNR}')\n",
    "            try:\n",
    "                FDiscR = my_utils.get_FDiscR(FP=FP_5, TP=TP_5)\n",
    "                print(f'FDiscR: {FDiscR}')\n",
    "            except:\n",
    "                print('FDiscR: N/A, no positives')\n",
    "            try:\n",
    "                FNonDiscR = my_utils.get_FNonDiscR(TN=TN_5, FN=FN_5)\n",
    "                print(f'FNonDiscR: {FNonDiscR}')\n",
    "            except:\n",
    "                print('FNonDiscR: N/A, no negatives')\n",
    "        \n",
    "        diagnostics_all[s] = diagnostics_dict\n",
    "    with open(data_save_path + f'diagnostics_ss_A85semi_all_p{p}_n{n_cut}.sav' , 'wb') as f:\n",
    "        pickle.dump((diagnostics_all), f)"
   ]
  },
  {
   "cell_type": "markdown",
   "metadata": {},
   "source": [
    "# Average diagnostics across simulations"
   ]
  },
  {
   "cell_type": "code",
   "execution_count": 17,
   "metadata": {},
   "outputs": [],
   "source": [
    "# load diagnostics_all\n",
    "with open(data_save_path + f'diagnostics_ss_A85semi_all_p{p}_n{n_cut}.sav', 'rb') as fr:\n",
    "    diagnostics_all = pickle.load(fr)"
   ]
  },
  {
   "cell_type": "code",
   "execution_count": 18,
   "metadata": {},
   "outputs": [],
   "source": [
    "params = ['eta0_0', 'eta0_coefs', 'eta1_0', 'eta1_coefs',\n",
    "         'eta2_0', 'eta2_coefs', 'rho_lt']\n"
   ]
  },
  {
   "cell_type": "code",
   "execution_count": 19,
   "metadata": {},
   "outputs": [],
   "source": [
    "avg_diagnostics = {}\n",
    "for d in ['potential_energy', 'seconds_elapsed']:\n",
    "    avg_d = []\n",
    "    for s in range(n_sims):\n",
    "        avg_d.append(diagnostics_all[s][d])\n",
    "\n",
    "    avg_d = jnp.array(avg_d).mean(0)\n",
    "    avg_diagnostics[d] = avg_d\n",
    "    "
   ]
  },
  {
   "cell_type": "code",
   "execution_count": 20,
   "metadata": {},
   "outputs": [],
   "source": [
    "avg_diagnostics.update({'ESS':{}, 'r_hat':{}})"
   ]
  },
  {
   "cell_type": "code",
   "execution_count": 21,
   "metadata": {},
   "outputs": [],
   "source": [
    "for d in ['ESS', 'r_hat']:\n",
    "    for par in params:\n",
    "        avg_d_par = []\n",
    "        for s in range(n_sims):\n",
    "            avg_d_par.append(diagnostics_all[s][d][par])\n",
    "        avg_d_par = jnp.array(avg_d_par).mean(0)  \n",
    "        avg_diagnostics[d].update({par:avg_d_par})"
   ]
  },
  {
   "cell_type": "code",
   "execution_count": 22,
   "metadata": {},
   "outputs": [
    {
     "data": {
      "text/plain": [
       "{'potential_energy': DeviceArray([1711.5835702 , 1713.5942495 , 1710.99282536, ...,\n",
       "              1706.252708  , 1708.88649717, 1713.899879  ], dtype=float64),\n",
       " 'seconds_elapsed': DeviceArray(28.98599925, dtype=float64),\n",
       " 'ESS': {'eta0_0': DeviceArray(643.79097641, dtype=float64),\n",
       "  'eta0_coefs': DeviceArray([527.16184097], dtype=float64),\n",
       "  'eta1_0': DeviceArray(749.84371188, dtype=float64),\n",
       "  'eta1_coefs': DeviceArray([487.85938066], dtype=float64),\n",
       "  'eta2_0': DeviceArray(393.09305663, dtype=float64),\n",
       "  'eta2_coefs': DeviceArray([332.77663487], dtype=float64),\n",
       "  'rho_lt': DeviceArray([ 797.89707322,  958.76987544,  866.15431994, 1039.80789967,\n",
       "               1036.26257315,  867.29874123, 1110.09581927,  836.79764716,\n",
       "                644.52304977,  949.17736962, 1129.00811207, 1121.77043314,\n",
       "                966.86320118, 1025.76169027, 1026.08458021, 1137.9181397 ,\n",
       "               1158.27093674, 1106.51880435, 1066.03284721,  855.50382716,\n",
       "                997.34671899, 1169.86552826,  719.58107278, 1139.23708248,\n",
       "                954.83703533,  828.1131344 , 1048.87156521,  971.7259581 ,\n",
       "               1032.03952892,  663.80915611,  798.59043147,  940.20027557,\n",
       "                905.84744598,  901.03940502,  853.93305927, 1152.53552512,\n",
       "                918.83158321, 1043.29976718,  981.43429605, 1051.19289924,\n",
       "               1087.67747445, 1079.64923211, 1099.08390204,  848.25428991,\n",
       "               1093.80685455], dtype=float64)},\n",
       " 'r_hat': {'eta0_0': DeviceArray(1.00511254, dtype=float64),\n",
       "  'eta0_coefs': DeviceArray([1.00065885], dtype=float64),\n",
       "  'eta1_0': DeviceArray(1.00101861, dtype=float64),\n",
       "  'eta1_coefs': DeviceArray([1.0033956], dtype=float64),\n",
       "  'eta2_0': DeviceArray(1.00751555, dtype=float64),\n",
       "  'eta2_coefs': DeviceArray([1.00385345], dtype=float64),\n",
       "  'rho_lt': DeviceArray([1.0016652 , 1.00099806, 1.00096196, 1.00140805, 1.00254267,\n",
       "               1.00057211, 1.00139835, 1.00580072, 1.00386115, 1.00168706,\n",
       "               1.00165394, 1.00199734, 1.00064472, 1.0012951 , 1.00061017,\n",
       "               1.00177924, 1.00111633, 1.00111912, 1.00184293, 1.00480781,\n",
       "               1.00107499, 1.00155808, 1.00845131, 1.00247025, 1.001435  ,\n",
       "               1.00351983, 1.00308002, 1.00370127, 1.00120917, 1.01344362,\n",
       "               1.00435479, 1.00319375, 1.00190271, 1.00297963, 1.00208016,\n",
       "               1.0022596 , 1.00167271, 1.00143479, 1.00237022, 1.00138018,\n",
       "               1.0027752 , 1.00327122, 1.00213534, 1.00233175, 1.00109143],            dtype=float64)}}"
      ]
     },
     "execution_count": 22,
     "metadata": {},
     "output_type": "execute_result"
    }
   ],
   "source": [
    "avg_diagnostics"
   ]
  },
  {
   "cell_type": "code",
   "execution_count": 23,
   "metadata": {},
   "outputs": [],
   "source": [
    "with open(data_save_path + f'diagnostics_ss_A85semi_avg_p{p}_n{n_cut}.sav' , 'wb') as f:\n",
    "    pickle.dump((avg_diagnostics), f)\n",
    "    "
   ]
  },
  {
   "cell_type": "code",
   "execution_count": 24,
   "metadata": {},
   "outputs": [
    {
     "data": {
      "text/plain": [
       "DeviceArray([522.42093357], dtype=float64)"
      ]
     },
     "execution_count": 24,
     "metadata": {},
     "output_type": "execute_result"
    }
   ],
   "source": [
    "(avg_diagnostics['ESS']['eta0_0'] + avg_diagnostics['ESS']['eta0_coefs'] + \n",
    " avg_diagnostics['ESS']['eta1_0'] + avg_diagnostics['ESS']['eta1_coefs'] + \n",
    " avg_diagnostics['ESS']['eta2_0'] + avg_diagnostics['ESS']['eta2_coefs'])/6"
   ]
  },
  {
   "cell_type": "code",
   "execution_count": 25,
   "metadata": {},
   "outputs": [
    {
     "data": {
      "text/plain": [
       "DeviceArray(977.36267027, dtype=float64)"
      ]
     },
     "execution_count": 25,
     "metadata": {},
     "output_type": "execute_result"
    }
   ],
   "source": [
    "avg_diagnostics['ESS']['rho_lt'].mean()"
   ]
  },
  {
   "cell_type": "code",
   "execution_count": 26,
   "metadata": {},
   "outputs": [
    {
     "data": {
      "text/plain": [
       "{0: {'ESS': {'eta0_0': 611.9942110194539,\n",
       "   'eta0_coefs': array([711.74007071]),\n",
       "   'eta1_0': 884.9290856763812,\n",
       "   'eta1_coefs': array([796.50774556]),\n",
       "   'eta2_0': 255.25463787242188,\n",
       "   'eta2_coefs': array([344.30961243]),\n",
       "   'rho_tilde': array([1438.68516507, 1094.4205754 , 1162.57557855, 1893.13423238,\n",
       "          1731.56248849, 1267.07975245, 1557.09976447, 1411.73550365,\n",
       "           646.17067197, 1104.33407267, 1444.18587445, 1580.03480093,\n",
       "          1759.47539194, 1498.34733447, 1627.85393583, 1724.25038678,\n",
       "          1740.87425153, 1582.63780516, 1131.90603917, 1976.97435902,\n",
       "          1782.71635832, 1342.56441549, 1032.90802829, 1136.57448907,\n",
       "          1189.4492062 , 2061.72382927,  965.85639182,  969.41084389,\n",
       "          1522.67578577,  570.49751304,  260.48313128, 2270.04257458,\n",
       "          1199.12243656, 1197.93472045, 1523.87008956,  556.62376658,\n",
       "          1409.20585249, 1191.67056995, 1675.23859104, 1569.28885369,\n",
       "          1426.12895384, 1349.31538802, 1864.3095229 , 1524.17291833,\n",
       "          1102.4167888 ]),\n",
       "   'rho_lt': array([1373.62924518,  487.49959965, 1393.747226  ,  528.03768212,\n",
       "           344.22317943, 1769.77202853,  310.47977734,  957.5614905 ,\n",
       "          1071.99037744, 1693.19279681,  412.12226712,  546.80503789,\n",
       "           510.79756376, 1101.60553508, 2243.86895432,  388.72619301,\n",
       "           596.73287585,  651.9511955 ,  425.99449282,  476.52239368,\n",
       "           467.42754205,  398.56878342,  957.163545  ,  324.51528974,\n",
       "           642.04396788,  292.78177476,  411.97315647, 1739.61255749,\n",
       "           743.39488117, 1099.64603204,  478.23685598,  464.58990249,\n",
       "           312.17687744,  449.45457052,  589.16720843, 1785.05323446,\n",
       "           392.05001884,  343.57128227,  344.0855955 ,  462.00013518,\n",
       "           564.43162371,  426.48220208,  379.9361142 ,  612.17011762,\n",
       "          1655.73877695]),\n",
       "   'sqrt_diag': array([1097.6954161 , 1950.47301084, 1798.39612893, 1986.23230625,\n",
       "          2562.91919716, 2024.7615792 , 1672.34261669, 1857.44320381,\n",
       "          1219.02778176, 1556.4593384 ])},\n",
       "  'r_hat': {'eta0_0': 1.0075015815563042,\n",
       "   'eta0_coefs': array([1.00286921]),\n",
       "   'eta1_0': 1.0027660533692089,\n",
       "   'eta1_coefs': array([1.00366488]),\n",
       "   'eta2_0': 1.012531583451403,\n",
       "   'eta2_coefs': array([1.01049758]),\n",
       "   'rho_tilde': array([0.99950475, 1.00099228, 1.00012767, 0.99950383, 0.99982244,\n",
       "          1.00017645, 1.00101789, 1.00099854, 1.00037796, 0.9995046 ,\n",
       "          1.00125936, 1.00048229, 0.99966703, 0.99954345, 1.00338377,\n",
       "          0.99950726, 1.00075236, 0.99980874, 0.99956338, 1.00047556,\n",
       "          0.99953372, 0.99956109, 1.00143789, 0.99964167, 0.99954011,\n",
       "          0.99950176, 1.00173489, 1.00051807, 0.99951188, 0.99983792,\n",
       "          1.00126064, 1.00081892, 0.99951221, 0.99959276, 0.99981418,\n",
       "          1.000438  , 1.00028269, 0.9996864 , 1.00131783, 1.00003208,\n",
       "          1.0005735 , 1.00158466, 1.00016376, 1.00171822, 1.00334462]),\n",
       "   'rho_lt': array([1.00241865, 1.00263672, 1.00234438, 1.0083796 , 1.02040923,\n",
       "          1.00034514, 1.01534902, 1.00051375, 0.99976097, 0.99995405,\n",
       "          1.0154594 , 1.00921869, 1.00576371, 1.00480509, 0.99960779,\n",
       "          1.00701195, 1.00584469, 1.00012241, 1.0130121 , 1.01275059,\n",
       "          1.00770974, 1.00498074, 0.99952062, 1.018812  , 1.00419827,\n",
       "          1.02082432, 1.01382665, 0.99950207, 1.00461496, 0.99950128,\n",
       "          1.00644587, 1.00137868, 1.01412226, 1.0122613 , 1.01058949,\n",
       "          1.00052428, 1.00595338, 1.01174508, 1.01847092, 1.00763699,\n",
       "          1.01360293, 1.01593049, 1.01355006, 1.0047854 , 1.00003791]),\n",
       "   'sqrt_diag': array([1.00022073, 0.99976068, 1.0000111 , 1.00015878, 0.99955555,\n",
       "          0.99951256, 1.00013474, 0.99964069, 1.0006676 , 0.99969726])},\n",
       "  'potential_energy': array([1704.87572275, 1704.21388086, 1698.77282074, ..., 1700.06545717,\n",
       "         1700.39763016, 1701.02334065]),\n",
       "  'seconds_elapsed': 27.532592058181763},\n",
       " 1: {'ESS': {'eta0_0': 1182.207748749532,\n",
       "   'eta0_coefs': array([484.79742644]),\n",
       "   'eta1_0': 1367.0574908386902,\n",
       "   'eta1_coefs': array([563.04649725]),\n",
       "   'eta2_0': 706.8249028800476,\n",
       "   'eta2_coefs': array([239.25578857]),\n",
       "   'rho_tilde': array([1559.89810927, 2815.61353768, 1168.91170794, 2645.62471085,\n",
       "          2699.70043148,  512.31907771, 3636.18039294, 1102.71043283,\n",
       "           567.25812308,  379.32441363, 3311.2727606 , 2366.89066391,\n",
       "          1842.83143322, 2063.43025153,  604.22386371, 2426.18235273,\n",
       "          2371.92029559, 2688.63799738, 3409.6476136 , 2799.943828  ,\n",
       "          2972.36966584, 3032.99298011,  802.15641964, 2986.09278278,\n",
       "          2778.13133927, 3123.27434438, 3347.52419299,  489.0854885 ,\n",
       "          2367.1753794 ,  970.50573797,  708.88928505, 2775.35198523,\n",
       "          2773.57946828, 3964.16602885, 3258.66443237,  531.93185233,\n",
       "          2477.99264245, 3355.99204019, 2450.70266835, 2970.10261138,\n",
       "          3291.52664323, 2776.2275247 , 2817.5762726 , 3850.14877385,\n",
       "          1008.3624705 ]),\n",
       "   'rho_lt': array([ 495.73265907, 1128.8963865 , 1635.90196684, 1911.90493698,\n",
       "          1285.63478636, 1145.0744194 , 1298.76642197,  346.07996772,\n",
       "           617.74108828,  984.55941533, 1122.81197752, 1765.06103445,\n",
       "          1343.92127019,  966.10188198,  701.08027665, 1215.92009045,\n",
       "          2240.81023721, 1758.91239029, 1304.52549139, 1136.12021649,\n",
       "          1522.22775163, 1964.47628434,  407.30788029, 2054.91644615,\n",
       "          1214.85711456,  746.32615514, 1247.90755527, 1331.60878094,\n",
       "           913.19361585,  233.97147559,  931.7022737 , 1821.01048038,\n",
       "          1166.49453772, 1232.55506414, 1069.74506001, 2268.49404943,\n",
       "           899.65218692, 1828.70475908, 1464.25158931, 1867.66978758,\n",
       "          1347.28146881, 1989.5002675 , 1672.86328369, 1341.99228522,\n",
       "          1321.29210049]),\n",
       "   'sqrt_diag': array([5551.88854246, 2640.0361865 , 3586.2231169 , 3505.63708363,\n",
       "          2675.70717449, 3220.00924185, 3650.14401994, 3573.69203761,\n",
       "          2494.60409985, 2873.08117868])},\n",
       "  'r_hat': {'eta0_0': 1.000421924361158,\n",
       "   'eta0_coefs': array([0.99952703]),\n",
       "   'eta1_0': 0.9995806294127159,\n",
       "   'eta1_coefs': array([0.99950964]),\n",
       "   'eta2_0': 1.0003016393983928,\n",
       "   'eta2_coefs': array([1.00058645]),\n",
       "   'rho_tilde': array([0.99961118, 0.9998894 , 0.99981483, 1.00039042, 0.99950007,\n",
       "          1.00198745, 0.99970537, 1.00198173, 1.00147017, 1.00161577,\n",
       "          0.99953829, 1.00048035, 0.999915  , 0.99955314, 1.00030462,\n",
       "          0.99953331, 1.00012721, 0.99954934, 0.99951652, 0.99968348,\n",
       "          0.99951105, 0.99969289, 0.99957488, 0.99950659, 0.99965573,\n",
       "          1.00012048, 0.99951359, 1.00090922, 1.00011339, 1.00033844,\n",
       "          1.00030857, 0.99963583, 0.99950001, 0.99957648, 0.99972335,\n",
       "          1.0021387 , 0.99970651, 1.0005676 , 1.001171  , 1.0002094 ,\n",
       "          0.99954296, 0.99950421, 1.00000088, 0.99951148, 0.99992414]),\n",
       "   'rho_lt': array([0.99997474, 0.99962173, 0.99953579, 0.99965467, 0.9995776 ,\n",
       "          0.99969646, 0.99958572, 1.00141583, 0.99983218, 0.99960449,\n",
       "          0.9996866 , 1.00029409, 1.00036244, 0.99981327, 0.99950461,\n",
       "          0.99960967, 0.99969269, 0.99991047, 0.99972669, 1.00060664,\n",
       "          1.00070387, 0.99965504, 0.99991561, 0.99974827, 1.00014463,\n",
       "          0.99954144, 1.00046944, 0.99950988, 1.00054156, 0.99974962,\n",
       "          0.99957457, 1.00109928, 0.99971876, 1.00109535, 1.00017936,\n",
       "          1.00050569, 1.00039178, 0.99968024, 0.99997708, 0.99952231,\n",
       "          0.99955449, 1.00159048, 0.99970242, 0.9995309 , 1.00227429]),\n",
       "   'sqrt_diag': array([0.99987926, 1.00034169, 0.99950143, 0.99972055, 0.99961207,\n",
       "          0.99965696, 0.9998182 , 0.99956866, 1.00026186, 1.00073625])},\n",
       "  'potential_energy': array([1706.01787263, 1715.12184275, 1705.79023801, ..., 1715.68717984,\n",
       "         1721.53551576, 1707.55344708]),\n",
       "  'seconds_elapsed': 38.244035720825195},\n",
       " 2: {'ESS': {'eta0_0': 478.03369648899496,\n",
       "   'eta0_coefs': array([340.80648802]),\n",
       "   'eta1_0': 262.9057592303756,\n",
       "   'eta1_coefs': array([443.63786863]),\n",
       "   'eta2_0': 422.91034380700313,\n",
       "   'eta2_coefs': array([192.31329128]),\n",
       "   'rho_tilde': array([900.74379921, 652.33190477, 326.99711473, 697.90814447,\n",
       "          609.67113031, 143.22778428, 574.14163992, 290.60285203,\n",
       "          148.77181564, 433.99576746, 824.02184325, 309.04727842,\n",
       "          925.78346981, 654.24114487, 442.27456923, 484.47577049,\n",
       "          247.69510019, 617.30753779, 738.62363983, 533.70720327,\n",
       "          398.98444012, 470.14513426, 231.14896075, 319.12577286,\n",
       "          816.57668888, 174.40361222, 424.50843662, 289.1103948 ,\n",
       "          368.87420654, 358.76968078, 109.03594371, 358.05313134,\n",
       "          527.61379935, 370.84389212, 148.59462908, 198.8197489 ,\n",
       "          810.6936683 , 598.97256517, 964.54118582, 202.60939362,\n",
       "          223.61930567, 619.78022268, 722.31799724, 502.52141674,\n",
       "          276.69797818]),\n",
       "   'rho_lt': array([ 899.40274465, 1070.68751423,  484.83708216,  613.52798328,\n",
       "           940.96849137,  336.33304694,  676.66543875,  389.63572127,\n",
       "           538.35909877,  753.7610691 , 1254.9348654 , 1275.3665095 ,\n",
       "           707.70084002,  427.83872735,  760.05909182, 1438.22645771,\n",
       "           778.40719314,  316.67087151,  822.71896607,  788.42253844,\n",
       "           522.91643501,  743.25462565,  403.6878458 ,  393.98432652,\n",
       "           711.44269949,  404.52786654, 1368.21069351,  835.93272206,\n",
       "          1037.93028917,  250.08544661, 1934.32950279,  355.65603381,\n",
       "          1151.77925949,  859.75196005, 1070.45451969,  541.72785278,\n",
       "          1119.2200345 ,  954.75012688,  859.16209   ,  541.59513002,\n",
       "           979.58034565, 1346.03831514,  996.23027283,  336.7908262 ,\n",
       "           814.35546573]),\n",
       "   'sqrt_diag': array([571.82383572, 485.41456642, 577.88908331, 577.52615957,\n",
       "          850.83963124, 236.65921196, 373.43472567, 687.35712523,\n",
       "          806.72468794, 710.8446458 ])},\n",
       "  'r_hat': {'eta0_0': 1.0045569795454419,\n",
       "   'eta0_coefs': array([0.99953914]),\n",
       "   'eta1_0': 1.0058904906238397,\n",
       "   'eta1_coefs': array([1.00500669]),\n",
       "   'eta2_0': 1.0000770016552514,\n",
       "   'eta2_coefs': array([1.00245658]),\n",
       "   'rho_tilde': array([1.00325203, 1.00023711, 1.00983991, 0.9995148 , 1.00393784,\n",
       "          1.01429015, 0.99957914, 0.99954821, 0.99952247, 1.01200577,\n",
       "          1.00578593, 1.00438058, 1.00134866, 1.00213518, 1.00151755,\n",
       "          0.99949988, 0.99990951, 1.00814647, 0.99950293, 1.00153288,\n",
       "          0.99955626, 1.0009663 , 1.02035317, 1.00572259, 1.00255943,\n",
       "          1.00241053, 1.00280102, 1.00370135, 1.0086795 , 1.00391421,\n",
       "          1.02315758, 1.00178595, 1.00016231, 1.00017289, 1.02014686,\n",
       "          1.01299112, 1.00422189, 1.00000665, 1.00217457, 1.00283239,\n",
       "          1.01017772, 1.00120352, 0.99998421, 1.00547146, 1.00592329]),\n",
       "   'rho_lt': array([1.00107361, 1.00035909, 1.00041226, 1.000132  , 0.99966089,\n",
       "          1.00010448, 0.99972894, 1.00033684, 1.00324693, 0.99958219,\n",
       "          0.99973557, 0.99973025, 0.99951394, 1.00084268, 1.00192283,\n",
       "          0.99954969, 1.00128015, 1.00156263, 0.99956986, 1.00359783,\n",
       "          1.00286226, 0.99962823, 1.00096516, 1.00028262, 1.00444279,\n",
       "          1.00095794, 1.00029163, 1.00089357, 1.00083981, 1.00044226,\n",
       "          0.99951945, 1.00240742, 1.00138499, 0.99959017, 1.00132385,\n",
       "          1.00097483, 1.00041456, 1.0008806 , 1.00067002, 1.00164025,\n",
       "          1.00440694, 1.00012962, 0.99953334, 1.0077968 , 0.99954681]),\n",
       "   'sqrt_diag': array([0.99952468, 1.00046902, 1.00044592, 0.99952923, 0.99965774,\n",
       "          1.01309624, 1.00029819, 1.00078455, 0.99980237, 0.99950233])},\n",
       "  'potential_energy': array([1718.124146  , 1713.83968885, 1726.30580833, ..., 1701.27685192,\n",
       "         1698.6659594 , 1723.8577737 ]),\n",
       "  'seconds_elapsed': 19.9312686920166},\n",
       " 3: {'ESS': {'eta0_0': 226.54970584860993,\n",
       "   'eta0_coefs': array([56.93857794]),\n",
       "   'eta1_0': 126.0530924557384,\n",
       "   'eta1_coefs': array([66.78115067]),\n",
       "   'eta2_0': 167.80242453774417,\n",
       "   'eta2_coefs': array([138.57506392]),\n",
       "   'rho_tilde': array([ 88.54903114, 353.92105462, 109.19461904, 726.78999973,\n",
       "          533.6552895 , 150.82589143, 315.04357106, 202.97141361,\n",
       "          155.419818  , 105.45825512, 280.86963103, 355.50071426,\n",
       "          322.6095373 , 486.39665058, 125.68997348, 746.29343411,\n",
       "          497.77377053, 515.59233013, 468.89955821, 324.26701804,\n",
       "          642.04650945, 495.10869811, 199.8183774 , 364.00201552,\n",
       "          449.72253418, 759.93504424, 269.37883503,  79.31213955,\n",
       "          372.03114211, 308.14440027,  98.5618869 , 191.05797805,\n",
       "          794.44227647, 570.9092059 , 520.00972733,  89.58660038,\n",
       "          418.27866134, 799.12302417, 467.86625326, 408.68791929,\n",
       "          787.04319314, 221.54361543, 829.77961286, 687.33354967,\n",
       "          131.23768431]),\n",
       "   'rho_lt': array([ 277.68091217,  768.58592598,  331.50016682,  501.86548375,\n",
       "          1019.396871  ,  244.17640191,  515.61175775,  141.85213261,\n",
       "           678.76069343,  167.33449004,  346.93114528,  833.82439817,\n",
       "           628.58519857,  919.83068433,  144.2596484 ,  516.22272188,\n",
       "           593.82886129, 1251.51152107, 1136.68175334,  682.12985522,\n",
       "           907.71957055,  449.29286797,  184.59695043, 1235.1245684 ,\n",
       "           579.22472648,  302.90564277,  247.20659527,  838.55942438,\n",
       "           469.07384914,   90.67648078,  223.66474009,  578.59462982,\n",
       "           756.83644527,  679.23967623,  928.97874394,  636.24494769,\n",
       "           349.81614674,  927.63556833,  629.12752261, 1127.65529638,\n",
       "          1218.8781475 ,  749.23298499,  937.92762351,  256.94257131,\n",
       "           771.70503746]),\n",
       "   'sqrt_diag': array([675.83834329, 380.96219574, 346.55556693, 443.59086762,\n",
       "          546.392168  , 595.3388751 , 477.34442764, 502.57546129,\n",
       "          421.05853748, 542.46927364])},\n",
       "  'r_hat': {'eta0_0': 1.0171885978642523,\n",
       "   'eta0_coefs': array([0.99983161]),\n",
       "   'eta1_0': 0.9995180137639534,\n",
       "   'eta1_coefs': array([1.00517866]),\n",
       "   'eta2_0': 1.0124262880667265,\n",
       "   'eta2_coefs': array([1.00031794]),\n",
       "   'rho_tilde': array([1.00944698, 1.00862703, 1.01520939, 0.99986946, 1.00232349,\n",
       "          1.00417404, 0.99967627, 0.99988122, 1.00049252, 1.00143223,\n",
       "          1.00235604, 1.00147719, 1.00103569, 1.0011617 , 1.01868752,\n",
       "          1.00027682, 1.0002913 , 1.00113171, 0.99950026, 1.0031285 ,\n",
       "          0.99949991, 1.00792418, 1.00172011, 1.0009884 , 1.00259842,\n",
       "          1.00214848, 0.99998246, 1.00541216, 1.00203861, 1.00233529,\n",
       "          0.99985113, 0.99957593, 0.99994555, 1.00315675, 0.99953013,\n",
       "          1.01114505, 0.99986284, 1.00629393, 1.00075638, 1.00003871,\n",
       "          0.99995158, 1.00023665, 0.99965496, 1.00028041, 1.0066716 ]),\n",
       "   'rho_lt': array([1.00111062, 1.00044763, 1.00004149, 0.99978275, 1.00558951,\n",
       "          1.00049243, 1.00015408, 1.01696133, 0.99980845, 1.00126782,\n",
       "          0.99950037, 1.0001471 , 1.00195241, 0.99959096, 0.99958547,\n",
       "          1.0048464 , 1.00384076, 0.99962585, 1.00041301, 0.99962697,\n",
       "          0.99966466, 1.00807544, 1.00459387, 0.99954008, 1.00168787,\n",
       "          1.00805672, 1.01534009, 0.99997752, 0.99962195, 1.00911437,\n",
       "          1.00004987, 1.00745968, 1.00001741, 1.0007803 , 1.0037045 ,\n",
       "          1.00025078, 1.00862177, 1.00000854, 1.00043497, 0.99949996,\n",
       "          0.99992371, 0.99952554, 1.00077206, 0.99963477, 1.00001104]),\n",
       "   'sqrt_diag': array([1.00120671, 0.99953817, 1.00499858, 1.00174565, 0.9995106 ,\n",
       "          1.00103201, 1.00368608, 1.00779544, 1.00560543, 0.99951554])},\n",
       "  'potential_energy': array([1736.38961776, 1732.45345026, 1717.84526994, ..., 1710.89658547,\n",
       "         1707.00171937, 1706.67694448]),\n",
       "  'seconds_elapsed': 23.69094443321228},\n",
       " 4: {'ESS': {'eta0_0': 1084.0914438256498,\n",
       "   'eta0_coefs': array([1034.43004492]),\n",
       "   'eta1_0': 962.797512489581,\n",
       "   'eta1_coefs': array([550.18556075]),\n",
       "   'eta2_0': 497.26215067463573,\n",
       "   'eta2_coefs': array([498.90885093]),\n",
       "   'rho_tilde': array([1402.73145554, 1383.90024596, 1676.85655923, 2496.90883824,\n",
       "          1958.19180273,  842.10186769, 1908.38597244, 1305.3185526 ,\n",
       "           948.41821236, 1496.61597485, 1999.95331777, 2205.27149005,\n",
       "          1709.13254444, 1916.06575918, 1608.77293688, 2600.99084644,\n",
       "          1952.86957431, 1735.95871114, 1732.53593334, 1885.72380784,\n",
       "          2149.59105325, 1673.514381  , 1312.35083299, 1207.02279136,\n",
       "          1668.53977734, 1342.33609417, 1740.90781193, 1156.00379311,\n",
       "          1787.341067  , 1861.63662452, 1730.84691999, 1273.20025757,\n",
       "          1588.10106398, 1346.35322115, 1943.02960318, 1333.0488835 ,\n",
       "          1770.90473161, 1824.91101822, 3001.10494003, 1523.02525607,\n",
       "          1934.4742837 , 1311.00438143, 1803.95048563, 1795.57586525,\n",
       "          1362.89692375]),\n",
       "   'rho_lt': array([ 871.93606116, 1576.81504857, 1287.92657851, 1221.59569813,\n",
       "          1058.39635109,  568.8084802 , 1873.94236022,  503.30289515,\n",
       "           660.5169552 , 1034.3671344 , 1637.42858598, 1142.97836908,\n",
       "          1398.64117554, 1813.5049207 , 1532.99554172,  959.36131937,\n",
       "           737.68947727, 1171.88598188, 1451.40285643, 1225.12988092,\n",
       "          1665.9377983 , 1254.36175065,  491.16178422,  882.17616938,\n",
       "          1140.78626338, 1206.58534043, 1428.71557146, 1268.40627372,\n",
       "          1044.10380472, 1840.47900272,  939.684932  ,  983.19802975,\n",
       "           780.84258451, 1709.38726651, 1223.40925699, 1738.76796126,\n",
       "          1644.31189749, 1584.00072502, 1192.66543013,  827.29562433,\n",
       "          1229.88269727,  732.02038388, 1108.67441809, 1644.58892498,\n",
       "          1885.90719225]),\n",
       "   'sqrt_diag': array([2712.73045282, 3070.16349082, 2095.9613285 , 2663.08937671,\n",
       "          2289.61650636, 2307.53324925, 2537.73007459, 2096.82083658,\n",
       "          2327.76755699, 2381.83906125])},\n",
       "  'r_hat': {'eta0_0': 1.0002037042809149,\n",
       "   'eta0_coefs': array([0.99954839]),\n",
       "   'eta1_0': 1.0000982351990704,\n",
       "   'eta1_coefs': array([1.00233777]),\n",
       "   'eta2_0': 1.009805939446466,\n",
       "   'eta2_coefs': array([1.00926243]),\n",
       "   'rho_tilde': array([1.00141107, 0.9997645 , 0.99952192, 1.00122696, 0.99950402,\n",
       "          0.99980213, 0.99950624, 1.00005118, 0.99950959, 1.0007216 ,\n",
       "          1.00003924, 1.00121234, 1.00017398, 1.00164297, 1.00003399,\n",
       "          0.99972605, 0.99950615, 0.999874  , 1.00054912, 1.00010987,\n",
       "          0.99961421, 0.99950586, 0.99953048, 0.99950387, 0.99960765,\n",
       "          0.99968834, 0.99968237, 1.0006211 , 0.99951269, 1.00054035,\n",
       "          0.99951674, 0.99978482, 1.00002873, 0.99950067, 0.99957335,\n",
       "          1.00017326, 0.999542  , 1.00099175, 0.99951293, 1.00033033,\n",
       "          0.99954669, 1.00082493, 0.99988191, 0.99973393, 0.99973789]),\n",
       "   'rho_lt': array([1.0012745 , 1.00056989, 1.00001713, 1.00284244, 1.00083781,\n",
       "          1.00101138, 1.00095429, 1.00087759, 1.00265153, 1.0006374 ,\n",
       "          1.00000861, 1.00498431, 1.0005906 , 1.00054155, 1.00013905,\n",
       "          1.00114567, 1.00018701, 1.00152557, 1.00272643, 1.0030817 ,\n",
       "          1.00113221, 1.00260536, 1.00127854, 1.00395572, 1.00207794,\n",
       "          0.99997761, 1.00168267, 1.00021629, 1.00168092, 1.0005821 ,\n",
       "          0.99952955, 1.00196544, 1.0016927 , 1.00259587, 1.0017257 ,\n",
       "          0.99968778, 1.00190874, 1.00029616, 1.00161902, 1.00370149,\n",
       "          1.0027964 , 1.00419896, 1.00567133, 0.9998502 , 0.99985351]),\n",
       "   'sqrt_diag': array([0.99979837, 0.99990472, 0.99971799, 1.00025083, 1.00094777,\n",
       "          0.99950593, 0.99979622, 0.99974667, 0.99956452, 0.9995033 ])},\n",
       "  'potential_energy': array([1705.36522698, 1706.67945296, 1711.75671857, ..., 1700.25155743,\n",
       "         1700.30682621, 1709.43535762]),\n",
       "  'seconds_elapsed': 30.4795081615448},\n",
       " 5: {'ESS': {'eta0_0': 1274.1088800202258,\n",
       "   'eta0_coefs': array([1367.89368464]),\n",
       "   'eta1_0': 1337.1497174523938,\n",
       "   'eta1_coefs': array([728.08203079]),\n",
       "   'eta2_0': 940.391511744498,\n",
       "   'eta2_coefs': array([924.06621601]),\n",
       "   'rho_tilde': array([1498.06477159, 1865.2126303 , 1729.54213615, 2447.69609187,\n",
       "          2149.84691532, 1775.51054496, 2235.36139504, 2510.02185713,\n",
       "          1718.5469681 , 1491.78002705, 3033.26127127, 2511.67355427,\n",
       "          3878.29518743, 2298.06848047, 2053.71091193, 2537.02856039,\n",
       "          3379.20856827, 3552.65338807, 2070.48053569, 3285.98646891,\n",
       "          3318.75211851, 3170.62022913, 2321.86442012, 2780.3415822 ,\n",
       "          2991.43186916, 2596.61453543, 2827.52688825, 1480.72214498,\n",
       "          3031.06689431, 2748.87340588, 2692.21824931, 3076.84317864,\n",
       "          3179.67812251, 3377.32224181, 2169.69426722, 1567.00617359,\n",
       "          2554.97404577, 2845.17597732, 2490.9466224 , 2434.15544717,\n",
       "          2889.77374889, 2288.20188373, 3146.60537234, 2441.07675661,\n",
       "          1353.19011336]),\n",
       "   'rho_lt': array([ 934.7898923 , 1626.60192277,  865.98450087, 1666.21560676,\n",
       "          1660.57358485, 1516.91281647, 1806.35298596, 2019.7675667 ,\n",
       "          1417.03911098, 1236.50093897, 1991.88248368, 1840.97351942,\n",
       "          1923.83524388, 1435.23697661, 1447.49149491, 1937.31524039,\n",
       "          2108.74844614, 2003.12872712, 1853.00921977, 1915.91480167,\n",
       "          1254.01743216, 1869.31228601, 1690.28549493, 1899.3754446 ,\n",
       "          2231.80900938, 1869.42850359, 1688.28167187, 2201.25335299,\n",
       "          2100.39510824, 1897.81187314, 1359.32343386, 1933.07530325,\n",
       "          2338.90337617, 1516.67792919, 1505.94024471, 1979.69955371,\n",
       "          1334.49151993, 1690.85327718, 1343.37684018, 2156.29819327,\n",
       "          1714.38967391, 1660.25726608, 1976.40739894, 1955.19377115,\n",
       "           912.29978537]),\n",
       "   'sqrt_diag': array([3574.11374598, 2975.40047653, 2656.66649114, 3264.57902186,\n",
       "          2893.14546377, 3309.53249262, 3249.59161866, 2958.08474397,\n",
       "          2747.61404803, 2691.42606196])},\n",
       "  'r_hat': {'eta0_0': 0.9995047711430008,\n",
       "   'eta0_coefs': array([0.99961383]),\n",
       "   'eta1_0': 1.0016229074152923,\n",
       "   'eta1_coefs': array([1.0012041]),\n",
       "   'eta2_0': 0.9995938854351599,\n",
       "   'eta2_coefs': array([0.99965305]),\n",
       "   'rho_tilde': array([0.99958094, 1.0000929 , 0.9997614 , 0.99956107, 0.99955274,\n",
       "          1.00098826, 0.99982058, 0.99975156, 0.99980124, 0.99978802,\n",
       "          0.9996298 , 0.99993052, 0.99965065, 0.99954177, 0.99949994,\n",
       "          0.99963522, 0.99950579, 0.99978651, 1.00014728, 0.99979189,\n",
       "          0.99951811, 1.00012767, 1.00121227, 0.99978348, 1.00073995,\n",
       "          0.99951486, 0.99968548, 0.99958203, 0.99953271, 0.9997935 ,\n",
       "          0.99957318, 0.99997414, 0.99950439, 0.99957048, 1.00080565,\n",
       "          0.99983154, 0.99950106, 0.99968465, 0.99952305, 0.99970139,\n",
       "          1.00022253, 1.00013327, 0.9995384 , 0.99950851, 0.99962985]),\n",
       "   'rho_lt': array([1.00014087, 0.99968946, 0.99996701, 0.9995003 , 0.99970538,\n",
       "          1.0036057 , 0.9995721 , 0.99950026, 1.00081578, 1.00033783,\n",
       "          0.99951329, 0.99957818, 0.99953442, 0.99957416, 1.0001008 ,\n",
       "          1.0011474 , 0.99967032, 0.99950513, 0.99968956, 0.99953371,\n",
       "          0.99967364, 0.99985893, 0.99955535, 0.99983534, 1.00027085,\n",
       "          0.99952478, 1.00029621, 0.99965901, 1.00025159, 0.99985287,\n",
       "          1.00109389, 0.99970838, 1.00046194, 1.00014292, 0.99996976,\n",
       "          1.00050235, 0.99977289, 1.00007402, 1.00018831, 1.00003054,\n",
       "          1.0016536 , 0.99952408, 1.00098515, 0.99989433, 1.00126654]),\n",
       "   'sqrt_diag': array([0.99987366, 1.00057185, 1.00055421, 0.99954726, 0.99962184,\n",
       "          0.99962207, 0.99950184, 1.00007722, 0.99950007, 1.00149736])},\n",
       "  'potential_energy': array([1715.98771141, 1722.27088188, 1703.47654854, ..., 1705.49239054,\n",
       "         1705.39748713, 1723.59252883]),\n",
       "  'seconds_elapsed': 39.92564129829407},\n",
       " 6: {'ESS': {'eta0_0': 600.2889372212048,\n",
       "   'eta0_coefs': array([334.28290136]),\n",
       "   'eta1_0': 426.517743814646,\n",
       "   'eta1_coefs': array([710.88514541]),\n",
       "   'eta2_0': 223.27904936340806,\n",
       "   'eta2_coefs': array([162.60160801]),\n",
       "   'rho_tilde': array([ 495.10270173,   37.08520397,  389.05982378,  388.85634181,\n",
       "          1276.29377847,  386.28157322,  663.37028671,   45.59451833,\n",
       "            43.67789435,  118.66916086, 1329.75465278,  815.75364909,\n",
       "           934.38940614,  324.24154894,   95.70211059,  223.47024214,\n",
       "          1228.21510523, 1062.37370909, 1523.78296198, 1417.14407724,\n",
       "            68.5418338 , 1182.54388899,  553.90313279, 1259.24675997,\n",
       "           204.3398395 ,   33.56374304,  603.75571824,  330.02937932,\n",
       "           377.42943172,   47.03364174,  209.95325422,  452.44176591,\n",
       "          1392.43217639,  132.31317272,   69.04234036,  105.59270845,\n",
       "          1455.94365486,  854.9053847 , 1972.33474236,  924.81583537,\n",
       "            71.91378629, 1267.18719465,  835.61161128, 1529.46312467,\n",
       "           375.66401681]),\n",
       "   'rho_lt': array([ 531.86532641,  498.80949152,  375.2824421 ,  574.9250037 ,\n",
       "           699.35090088,  408.31799489,  797.6901118 , 1216.94010487,\n",
       "           409.01572594,  145.50135157,  774.86879232,  571.2820316 ,\n",
       "           751.12576361,  607.69989885, 1014.44945289, 1128.05957383,\n",
       "           742.56860956,  764.33297765,  936.48615001,  663.38029782,\n",
       "           821.94233071,  810.75226687, 1049.89454748,  877.68176941,\n",
       "           593.70935818,  458.52371392,  681.78503546,   68.13013519,\n",
       "           595.24065855,  228.78586781,  853.98921191,  658.8267538 ,\n",
       "           533.99058939,  583.01637967,  284.3972368 ,   66.65190636,\n",
       "           993.41813408,  675.26293756, 1235.31865165,  627.93232867,\n",
       "           825.47647866,  718.50091812,  661.12097018,  940.43651304,\n",
       "           182.8631574 ]),\n",
       "   'sqrt_diag': array([ 157.95489665, 1317.42501263,  421.25940585,   67.00458483,\n",
       "          1638.62308814, 1560.10694187,  780.91550328, 1670.85381985,\n",
       "          1348.5755895 , 1193.0749957 ])},\n",
       "  'r_hat': {'eta0_0': 1.001382961558623,\n",
       "   'eta0_coefs': array([1.0003529]),\n",
       "   'eta1_0': 0.9995153866990607,\n",
       "   'eta1_coefs': array([1.00041303]),\n",
       "   'eta2_0': 1.0109748811448236,\n",
       "   'eta2_coefs': array([1.00259228]),\n",
       "   'rho_tilde': array([1.00295371, 1.03321079, 0.99963825, 1.00567008, 1.0001906 ,\n",
       "          1.00042165, 1.00630749, 1.0033554 , 1.01740085, 1.0048239 ,\n",
       "          1.00623355, 1.00010078, 1.00236089, 1.01272641, 1.00596856,\n",
       "          1.01405356, 1.00088933, 1.00300514, 0.99983692, 0.99950329,\n",
       "          1.01283048, 1.00017948, 1.00311736, 1.00048645, 1.00427878,\n",
       "          1.03802617, 1.0090069 , 0.99972646, 1.00473881, 1.01662415,\n",
       "          1.01169664, 1.00615925, 1.00117568, 1.00866693, 1.02450985,\n",
       "          1.01587124, 1.0023055 , 1.00045624, 0.99952166, 0.99981762,\n",
       "          1.01983098, 1.00113222, 1.0076063 , 0.99950707, 0.999766  ]),\n",
       "   'rho_lt': array([1.00006176, 1.00714964, 1.00780495, 1.00403381, 0.99953498,\n",
       "          0.99967472, 0.99968741, 1.00012897, 1.00904775, 1.01435812,\n",
       "          1.00114993, 1.00577934, 1.00011085, 1.00846863, 1.0009898 ,\n",
       "          1.00084053, 1.00108048, 1.00074735, 1.00240583, 1.0032722 ,\n",
       "          0.99962288, 1.00193886, 1.00594149, 0.99955168, 1.00198037,\n",
       "          1.00276482, 0.9996798 , 1.01852822, 1.0050368 , 1.02362123,\n",
       "          1.00119246, 1.00152512, 1.00111794, 1.00650712, 1.00134089,\n",
       "          1.02035358, 0.99958951, 1.00208309, 1.00037362, 1.00317266,\n",
       "          0.99954153, 1.00276512, 0.99952347, 1.00235364, 1.00858406]),\n",
       "   'sqrt_diag': array([1.00823714, 1.00196781, 1.0069148 , 1.03257306, 0.99984599,\n",
       "          0.99992231, 1.00294292, 1.00105571, 0.99952017, 1.00054489])},\n",
       "  'potential_energy': array([1662.84684717, 1660.7083921 , 1662.61190501, ..., 1663.06064876,\n",
       "         1677.69324407, 1676.32533722]),\n",
       "  'seconds_elapsed': 26.465566635131836},\n",
       " 7: {'ESS': {'eta0_0': 223.84083559399866,\n",
       "   'eta0_coefs': array([217.31094806]),\n",
       "   'eta1_0': 891.2514075103592,\n",
       "   'eta1_coefs': array([397.44868983]),\n",
       "   'eta2_0': 259.9255189941924,\n",
       "   'eta2_coefs': array([245.02848506]),\n",
       "   'rho_tilde': array([1222.21582377, 2197.60307608, 1412.02025883, 2982.3383606 ,\n",
       "          2805.45946276, 1021.84528766, 2488.82649528,  887.8308834 ,\n",
       "          1148.98383527, 1232.87170194, 1947.1422291 , 2475.53684934,\n",
       "          1368.81474615, 2068.33921315, 1341.30578448, 2231.5645428 ,\n",
       "          2074.02479523, 1819.6100233 , 2387.40835507, 1470.59730304,\n",
       "          1947.20619777, 1392.30962616,  625.36140889, 3461.53305923,\n",
       "          2093.51000139, 1982.0186496 , 2465.17335705, 1056.06095764,\n",
       "          2363.2692391 ,  939.50669897,  863.06788523, 1833.87082934,\n",
       "          2072.9954903 , 1550.57999454, 1296.69306321, 1534.99498394,\n",
       "          1989.33476421, 2067.05038876, 1482.44000137, 2051.14356695,\n",
       "          2587.00575009, 2732.3811255 , 1221.30053547, 1664.06262949,\n",
       "          1150.81819469]),\n",
       "   'rho_lt': array([1477.30186413,  776.57679713,  933.25257865, 1403.0915606 ,\n",
       "           806.09509007, 1903.41007827, 1289.91270054,  930.37310577,\n",
       "           607.32940911, 1160.63778945, 1494.63438718,  448.58583657,\n",
       "           201.599351  ,  728.02623124, 1104.40505533, 1265.43835147,\n",
       "          1257.23931145, 1253.97828754,  844.73517383,  349.34411983,\n",
       "           671.27630353, 1206.91957427, 1728.25326792, 1987.23006699,\n",
       "           580.6278968 ,  814.64735325, 1056.62008998,  652.01262626,\n",
       "          1273.91538906,  788.69831232,  840.74346083, 1303.21163773,\n",
       "           934.70590405,  394.83337568,  226.55861744, 1138.33741531,\n",
       "           371.97801197,  491.34659663,  753.19292062,  987.97070793,\n",
       "          1466.83845518,  937.09533832,  366.62679627,  371.20386386,\n",
       "          1403.28851837]),\n",
       "   'sqrt_diag': array([3673.94818056, 3226.19389982, 3406.88041541, 2374.23920144,\n",
       "          2449.23344438, 2735.09789875, 2235.61575625, 2734.14249264,\n",
       "          2891.89072718, 2738.00279414])},\n",
       "  'r_hat': {'eta0_0': 0.9995930627008505,\n",
       "   'eta0_coefs': array([0.99965471]),\n",
       "   'eta1_0': 1.0017763022130899,\n",
       "   'eta1_coefs': array([1.00014409]),\n",
       "   'eta2_0': 0.9996397102063075,\n",
       "   'eta2_coefs': array([0.99980009]),\n",
       "   'rho_tilde': array([0.99963419, 0.9995086 , 1.0007833 , 1.00008287, 0.99965329,\n",
       "          0.99951049, 0.99978905, 0.99985383, 0.99950325, 0.99952294,\n",
       "          0.99972033, 0.99950573, 0.99951816, 0.99994238, 0.99961785,\n",
       "          0.99954314, 0.99951205, 1.0011367 , 0.99969539, 1.00138615,\n",
       "          0.99965658, 1.00072007, 1.00192195, 1.00073462, 0.99982595,\n",
       "          0.99949994, 1.00049419, 1.0015944 , 0.99983476, 0.99950026,\n",
       "          0.99950002, 0.99978851, 0.99972075, 0.99965253, 1.00043025,\n",
       "          0.99990748, 0.99950021, 1.00015993, 0.99956385, 0.99950377,\n",
       "          0.9995759 , 0.99950412, 0.9996519 , 1.00093635, 0.99951964]),\n",
       "   'rho_lt': array([0.9995078 , 0.99950115, 0.99959251, 0.99977473, 1.00066172,\n",
       "          0.9995913 , 0.99992212, 1.00216268, 1.00175393, 0.99962965,\n",
       "          0.99950459, 0.99951542, 0.99958487, 0.99950269, 1.00041875,\n",
       "          0.99998954, 0.99950843, 0.99965876, 0.99972841, 0.99971467,\n",
       "          0.99951551, 0.99963533, 0.99961044, 0.99981301, 0.99950687,\n",
       "          0.99950758, 0.9995031 , 0.99976319, 1.00043411, 0.99987853,\n",
       "          0.99996577, 0.99950379, 1.00042197, 1.00077432, 1.00180912,\n",
       "          1.00066714, 1.00069504, 0.99975622, 1.0005862 , 0.99949988,\n",
       "          1.00051291, 1.0001678 , 1.00077145, 1.00007971, 0.99950775]),\n",
       "   'sqrt_diag': array([0.99977993, 0.99951172, 0.99957698, 0.9996137 , 0.99958802,\n",
       "          0.99956242, 0.99951547, 0.9996047 , 0.99950019, 1.00044516])},\n",
       "  'potential_energy': array([1734.88704118, 1727.75412926, 1725.38736271, ..., 1732.55699897,\n",
       "         1739.23401903, 1743.77218819]),\n",
       "  'seconds_elapsed': 28.15677309036255},\n",
       " 8: {'ESS': {'eta0_0': 566.4450642874265,\n",
       "   'eta0_coefs': array([489.9773804]),\n",
       "   'eta1_0': 840.1325944073573,\n",
       "   'eta1_coefs': array([314.10193306]),\n",
       "   'eta2_0': 370.15075706521196,\n",
       "   'eta2_coefs': array([351.0176449]),\n",
       "   'rho_tilde': array([ 956.08553557, 1286.11180832,  651.11424569, 1605.1512751 ,\n",
       "          1032.54842002,  866.79579582, 1418.04062746, 1488.29604069,\n",
       "          1400.58006859, 1176.06237648, 1602.20960649, 1350.21763528,\n",
       "          1757.29759422, 1519.52264983, 1061.96676456, 2184.22567229,\n",
       "          1398.98459811, 1189.36216471, 1477.26899974, 1741.30006092,\n",
       "          1219.70796634, 1490.80002901, 1016.67837734, 1980.92898035,\n",
       "          1414.87001623, 1313.57719606, 1840.65883295,  886.86104777,\n",
       "          1130.75488023,  947.5594765 ,  941.60761595, 2102.33436743,\n",
       "          1344.14448638, 2257.37806383, 1448.23481792,  908.94457148,\n",
       "          1324.20116971, 1721.45091179, 1592.08515472, 2357.30327452,\n",
       "          1144.07879835, 1407.70837037, 1121.60513332, 2170.12137582,\n",
       "          1051.62155895]),\n",
       "   'rho_lt': array([ 969.05103249, 1219.97676129,  993.44019386, 1365.28634598,\n",
       "          1497.03173826,  484.57376313, 1763.54924963, 1721.35338487,\n",
       "           358.30452487, 1742.03355124, 1199.27540987, 1491.81567227,\n",
       "           919.15258824, 1477.80026247,  521.8959437 , 1521.76750863,\n",
       "          1407.30441463, 1567.26845165, 1012.4348385 , 1252.82207159,\n",
       "          1308.36218018, 1577.58088981,  222.13751017,  894.03620378,\n",
       "          1276.09561845, 1612.08923914, 1346.65179762,  632.23994134,\n",
       "          1150.46357481,  157.32436339,  261.56716118, 1102.54499872,\n",
       "           537.1174576 , 1077.12245112, 1236.17160568, 1190.24646172,\n",
       "          1325.48471976, 1184.44143622, 1005.70644639, 1253.67093161,\n",
       "          1185.96150693, 1493.61715762, 1743.60469709,  925.68778385,\n",
       "          1815.38020211]),\n",
       "   'sqrt_diag': array([2096.85264986, 1943.09411993, 2375.08316101, 2096.07878693,\n",
       "          2110.1312237 , 1917.04154007, 1198.63595411, 1254.96708063,\n",
       "          1946.35932866, 1580.89141301])},\n",
       "  'r_hat': {'eta0_0': 1.0030555903021017,\n",
       "   'eta0_coefs': array([1.00484069]),\n",
       "   'eta1_0': 0.9996135429820117,\n",
       "   'eta1_coefs': array([0.99956452]),\n",
       "   'eta2_0': 1.0043670095597799,\n",
       "   'eta2_coefs': array([1.0013311]),\n",
       "   'rho_tilde': array([0.99955314, 0.99962888, 1.00103859, 1.00118011, 1.001448  ,\n",
       "          1.00024647, 0.9997918 , 0.99950092, 0.99961084, 0.99952325,\n",
       "          0.99978978, 0.99951693, 1.00074835, 1.00193411, 0.99950093,\n",
       "          0.99982408, 1.00060681, 0.99998374, 0.99969173, 0.99950004,\n",
       "          0.99983413, 0.99968967, 1.0002891 , 1.0004785 , 0.99976293,\n",
       "          0.99952788, 1.00083128, 0.9995047 , 0.99964418, 1.00084943,\n",
       "          1.00037662, 0.9995735 , 1.00039703, 0.99954701, 0.99958422,\n",
       "          0.99950021, 0.99954238, 0.99964727, 0.9995498 , 0.99971704,\n",
       "          0.99959824, 1.00144811, 0.99961601, 0.99974767, 0.99997734]),\n",
       "   'rho_lt': array([0.99969212, 0.99960977, 1.00036206, 0.99951424, 0.99951993,\n",
       "          0.99961301, 0.99952837, 0.99969347, 0.99962297, 0.9999773 ,\n",
       "          1.00040368, 1.00010772, 0.99951873, 1.0000369 , 1.00033855,\n",
       "          1.00068275, 0.99953064, 1.00140111, 1.00153633, 1.00012424,\n",
       "          0.99953743, 0.99952596, 1.00140727, 1.00343062, 1.00053034,\n",
       "          0.99950105, 0.99954684, 0.99967035, 0.99955623, 1.00282219,\n",
       "          1.00088772, 0.99959993, 0.99962915, 1.00014835, 1.00035676,\n",
       "          0.99962329, 0.99981245, 0.99950374, 0.99952956, 0.99950473,\n",
       "          1.00276639, 0.99973374, 1.00078149, 1.00292435, 1.00010132]),\n",
       "   'sqrt_diag': array([0.99953472, 0.99998591, 0.99951009, 1.0014203 , 0.99949988,\n",
       "          0.99957889, 0.99954939, 1.00090574, 0.99993428, 0.99977152])},\n",
       "  'potential_energy': array([1712.75635979, 1722.81608912, 1732.44278699, ..., 1712.19753799,\n",
       "         1717.74894774, 1728.90428266]),\n",
       "  'seconds_elapsed': 30.3689227104187},\n",
       " 9: {'ESS': {'eta0_0': 190.34924106704608,\n",
       "   'eta0_coefs': array([233.44088717]),\n",
       "   'eta1_0': 399.6427149118902,\n",
       "   'eta1_coefs': array([307.91718469]),\n",
       "   'eta2_0': 87.12926935608813,\n",
       "   'eta2_coefs': array([231.68978758]),\n",
       "   'rho_tilde': array([312.49907914, 379.98983866,  90.77865773, 385.1637493 ,\n",
       "          432.54245132, 251.10914044, 896.34022622, 145.43501428,\n",
       "           30.22510736, 353.09286256, 518.42601307, 653.53591915,\n",
       "          404.14611248, 107.17588564, 477.61861456, 595.85775359,\n",
       "          346.58983812, 270.71357588, 298.21125922, 420.74314584,\n",
       "          830.890798  , 453.23514715, 151.67356697, 263.24591956,\n",
       "          121.67494103, 125.3590714 , 692.0003128 , 296.42841983,\n",
       "          577.81235336,  67.93235019,  71.82663844, 119.31742154,\n",
       "          267.79177893, 962.13312033, 192.21057825, 220.33323997,\n",
       "          896.29946683, 502.56477876, 238.58300523, 608.1407894 ,\n",
       "          382.28627842, 291.09164424, 311.99366394, 196.3388207 ,\n",
       "           48.71183605]),\n",
       "   'rho_lt': array([ 147.58099468,  433.24930672,  359.67046358,  611.62869539,\n",
       "          1050.95473819,  295.60838254,  767.98738875,  141.11010218,\n",
       "            86.17351372,  573.88515931, 1055.19120641, 1301.0119225 ,\n",
       "          1283.27301702,  779.97178405,  790.34034232, 1008.14394025,\n",
       "          1119.37994085,  325.5476393 ,  872.33952996,   65.25209593,\n",
       "           831.63984581, 1424.13595357,   61.32190159,  843.33053985,\n",
       "           577.77369869,  573.3157545 , 1011.36348522,  149.50376662,\n",
       "           992.68411854,   50.61270671,  162.66274237,  201.29498598,\n",
       "           545.62742813,  508.35537707,  404.508099  ,  180.13186848,\n",
       "           757.8931619 ,  752.43096264,  987.45587415,  659.84085742,\n",
       "           344.05434686,  743.74748734, 1147.4474456 ,   97.53624192,\n",
       "           175.23830934]),\n",
       "   'sqrt_diag': array([113.312125  , 146.51496164, 301.08638695, 223.8768142 ,\n",
       "          500.66180482, 309.74293135, 181.262856  , 131.83054692,\n",
       "          272.734564  , 338.35125058])},\n",
       "  'r_hat': {'eta0_0': 1.0177161843938327,\n",
       "   'eta0_coefs': array([1.00081099]),\n",
       "   'eta1_0': 0.9998045296573591,\n",
       "   'eta1_coefs': array([1.0169326]),\n",
       "   'eta2_0': 1.0254375444999957,\n",
       "   'eta2_coefs': array([1.01203701]),\n",
       "   'rho_tilde': array([0.99990157, 1.00018684, 1.03234374, 1.00006118, 1.00642365,\n",
       "          1.00819016, 0.99950896, 1.01432101, 1.02653018, 1.00627136,\n",
       "          1.00538748, 1.00076448, 0.99950044, 1.01093591, 1.00872204,\n",
       "          0.99950623, 1.02311997, 1.00727513, 1.00440294, 0.99979846,\n",
       "          1.00115203, 0.99995915, 1.00381167, 1.00354667, 0.99997867,\n",
       "          1.00543307, 1.00146547, 1.02968543, 0.99954367, 1.03165283,\n",
       "          1.06103915, 1.00077837, 1.00050596, 1.0002607 , 1.00187939,\n",
       "          1.00333109, 0.99984688, 1.00024919, 1.00310705, 0.99960797,\n",
       "          0.99992377, 1.00106433, 1.00315858, 1.00980552, 1.00632084]),\n",
       "   'rho_lt': array([1.01139728, 1.00039553, 0.99954206, 1.00046592, 0.99992971,\n",
       "          1.00158646, 0.99950145, 1.03641652, 1.02207096, 1.00152176,\n",
       "          1.00157735, 1.00061835, 0.99951526, 0.99977509, 1.00349406,\n",
       "          1.00296878, 1.00052816, 1.00713193, 0.99962112, 1.02576951,\n",
       "          1.00032773, 0.99967693, 1.07172474, 0.99973312, 0.99951004,\n",
       "          1.00454203, 1.00016381, 1.01929264, 0.99951374, 1.09887172,\n",
       "          1.03528875, 1.01728977, 1.00045998, 1.00590055, 0.99980217,\n",
       "          0.99950626, 0.99956701, 1.00032017, 1.0018525 , 0.99959304,\n",
       "          1.00299309, 1.00914634, 1.00006265, 1.00646739, 0.99973105]),\n",
       "   'sqrt_diag': array([0.99957088, 1.01136026, 1.00429578, 1.00114501, 1.00046406,\n",
       "          1.00421748, 1.00445723, 1.00592787, 1.00256842, 1.00753778])},\n",
       "  'potential_energy': array([1718.58515627, 1730.08468695, 1725.53879472, ..., 1721.04187189,\n",
       "         1720.8836228 , 1717.85758957]),\n",
       "  'seconds_elapsed': 25.06473970413208}}"
      ]
     },
     "execution_count": 26,
     "metadata": {},
     "output_type": "execute_result"
    }
   ],
   "source": [
    "diagnostics_all"
   ]
  },
  {
   "cell_type": "markdown",
   "metadata": {},
   "source": [
    "## p = 50"
   ]
  },
  {
   "cell_type": "code",
   "execution_count": 27,
   "metadata": {},
   "outputs": [],
   "source": [
    "n_sims = 10\n",
    "p = 50\n",
    "n = 2000\n",
    "n_cut = 100\n",
    "TP_thresh = 3"
   ]
  },
  {
   "cell_type": "markdown",
   "metadata": {},
   "source": [
    "# Run full model with MCMC, reparametrisation and is_dense=False"
   ]
  },
  {
   "cell_type": "code",
   "execution_count": 28,
   "metadata": {},
   "outputs": [],
   "source": [
    "# params\n",
    "n_warmup = 2000\n",
    "n_samples = 2000\n",
    "\n",
    "mu_m=0.\n",
    "mu_s=1.\n",
    "\n",
    "#my_model = models.NetworkSS_repr\n",
    "#my_model = models.NetworkSS_repr_etaRepr\n",
    "my_model = models.NetworkSS_repr_etaRepr_loglikRepr\n",
    "is_dense=False\n",
    "verbose=False\n",
    "\n",
    "estimates_print = [\"w_slab\", \"mean_slab\", \"scale_slab\"]"
   ]
  },
  {
   "cell_type": "code",
   "execution_count": 29,
   "metadata": {},
   "outputs": [],
   "source": [
    "mu_fixed=jnp.zeros((p,))\n",
    "scale_spike_fixed=0.003"
   ]
  },
  {
   "cell_type": "code",
   "execution_count": 30,
   "metadata": {},
   "outputs": [],
   "source": [
    "# 85semidep params\n",
    "\n",
    "##ARE THESE CORRECT \n",
    "\n",
    "eta0_0_m_85SEMI=0.\n",
    "eta0_0_s_85SEMI=0.152\n",
    "eta0_coefs_m_85SEMI=0.\n",
    "eta0_coefs_s_85SEMI=0.152\n",
    "\n",
    "eta1_0_m_85SEMI=-2.197\n",
    "eta1_0_s_85SEMI=0.661\n",
    "eta1_coefs_m_85SEMI=0.\n",
    "eta1_coefs_s_85SEMI=0.661\n",
    "\n",
    "eta2_0_m_85SEMI=-6.737\n",
    "eta2_0_s_85SEMI=3.395\n",
    "eta2_coefs_m_85SEMI=0.\n",
    "eta2_coefs_s_85SEMI=3.395\n"
   ]
  },
  {
   "cell_type": "code",
   "execution_count": 31,
   "metadata": {},
   "outputs": [],
   "source": [
    "# init strategy\n",
    "#rho_init = jnp.diag(jnp.ones((p,)))\n",
    "rho_tilde_init = jnp.zeros((int(p*(p-1)/2),))\n",
    "u_init = jnp.ones((int(p*(p-1)/2),))*0.5\n",
    "\n",
    "mu_init = jnp.zeros((p,))\n",
    "sqrt_diag_init = jnp.ones((p,))\n",
    "\n",
    "my_init_strategy_85SEMI = init_to_value(values={#'rho':rho_init,\n",
    "                                                'rho_tilde':rho_tilde_init,\n",
    "                                                'u':u_init,\n",
    "                                                'mu':mu_init, \n",
    "                                                'sqrt_diag':sqrt_diag_init, \n",
    "                                                'tilde_eta0_0':0.0,\n",
    "                                                'tilde_eta1_0':0.0,\n",
    "                                                'tilde_eta2_0':0.0,\n",
    "                                                'tilde_eta0_coefs':jnp.array([0.0]),\n",
    "                                                'tilde_eta1_coefs':jnp.array([0.0]),\n",
    "                                                'tilde_eta2_coefs':jnp.array([0.0]),})\n",
    "\n",
    "\n",
    "#my_init_strategy = init_to_uniform()\n",
    "\n"
   ]
  },
  {
   "cell_type": "code",
   "execution_count": 32,
   "metadata": {},
   "outputs": [
    {
     "name": "stdout",
     "output_type": "stream",
     "text": [
      "--------------------------------------------------------------------------------\n",
      " Simulation number: 0 \n",
      " Dimensions: p = 50, n = 100 \n",
      " Run Network-SS with A-85SEMIDEP\n"
     ]
    },
    {
     "name": "stderr",
     "output_type": "stream",
     "text": [
      "sample: 100%|██████████| 4000/4000 [17:44<00:00,  3.76it/s, 511 steps of size 6.45e-03. acc. prob=0.73] \n"
     ]
    },
    {
     "name": "stdout",
     "output_type": "stream",
     "text": [
      "0:17:48.745884\n"
     ]
    },
    {
     "name": "stderr",
     "output_type": "stream",
     "text": [
      "\r",
      "  0%|          | 0/4000 [00:00<?, ?it/s]"
     ]
    },
    {
     "name": "stdout",
     "output_type": "stream",
     "text": [
      "--------------------------------------------------------------------------------\n",
      " Simulation number: 1 \n",
      " Dimensions: p = 50, n = 100 \n",
      " Run Network-SS with A-85SEMIDEP\n"
     ]
    },
    {
     "name": "stderr",
     "output_type": "stream",
     "text": [
      "sample: 100%|██████████| 4000/4000 [20:00<00:00,  3.33it/s, 511 steps of size 6.04e-03. acc. prob=0.89] \n"
     ]
    },
    {
     "name": "stdout",
     "output_type": "stream",
     "text": [
      "0:20:01.151132\n"
     ]
    },
    {
     "name": "stderr",
     "output_type": "stream",
     "text": [
      "\r",
      "  0%|          | 0/4000 [00:00<?, ?it/s]"
     ]
    },
    {
     "name": "stdout",
     "output_type": "stream",
     "text": [
      "--------------------------------------------------------------------------------\n",
      " Simulation number: 2 \n",
      " Dimensions: p = 50, n = 100 \n",
      " Run Network-SS with A-85SEMIDEP\n"
     ]
    },
    {
     "name": "stderr",
     "output_type": "stream",
     "text": [
      "sample: 100%|██████████| 4000/4000 [20:34<00:00,  3.24it/s, 1023 steps of size 4.68e-03. acc. prob=0.91]\n"
     ]
    },
    {
     "name": "stdout",
     "output_type": "stream",
     "text": [
      "0:20:34.836269\n"
     ]
    },
    {
     "name": "stderr",
     "output_type": "stream",
     "text": [
      "\r",
      "  0%|          | 0/4000 [00:00<?, ?it/s]"
     ]
    },
    {
     "name": "stdout",
     "output_type": "stream",
     "text": [
      "--------------------------------------------------------------------------------\n",
      " Simulation number: 3 \n",
      " Dimensions: p = 50, n = 100 \n",
      " Run Network-SS with A-85SEMIDEP\n"
     ]
    },
    {
     "name": "stderr",
     "output_type": "stream",
     "text": [
      "sample: 100%|██████████| 4000/4000 [20:04<00:00,  3.32it/s, 1023 steps of size 5.29e-03. acc. prob=0.91]\n"
     ]
    },
    {
     "name": "stdout",
     "output_type": "stream",
     "text": [
      "0:20:04.747408\n"
     ]
    },
    {
     "name": "stderr",
     "output_type": "stream",
     "text": [
      "\r",
      "  0%|          | 0/4000 [00:00<?, ?it/s]"
     ]
    },
    {
     "name": "stdout",
     "output_type": "stream",
     "text": [
      "--------------------------------------------------------------------------------\n",
      " Simulation number: 4 \n",
      " Dimensions: p = 50, n = 100 \n",
      " Run Network-SS with A-85SEMIDEP\n"
     ]
    },
    {
     "name": "stderr",
     "output_type": "stream",
     "text": [
      "sample: 100%|██████████| 4000/4000 [20:34<00:00,  3.24it/s, 1023 steps of size 4.92e-03. acc. prob=0.91]\n"
     ]
    },
    {
     "name": "stdout",
     "output_type": "stream",
     "text": [
      "0:20:35.498188\n"
     ]
    },
    {
     "name": "stderr",
     "output_type": "stream",
     "text": [
      "\r",
      "  0%|          | 0/4000 [00:00<?, ?it/s]"
     ]
    },
    {
     "name": "stdout",
     "output_type": "stream",
     "text": [
      "--------------------------------------------------------------------------------\n",
      " Simulation number: 5 \n",
      " Dimensions: p = 50, n = 100 \n",
      " Run Network-SS with A-85SEMIDEP\n"
     ]
    },
    {
     "name": "stderr",
     "output_type": "stream",
     "text": [
      "sample: 100%|██████████| 4000/4000 [15:52<00:00,  4.20it/s, 511 steps of size 7.31e-03. acc. prob=0.89] \n"
     ]
    },
    {
     "name": "stdout",
     "output_type": "stream",
     "text": [
      "0:15:52.875936\n"
     ]
    },
    {
     "name": "stderr",
     "output_type": "stream",
     "text": [
      "\r",
      "  0%|          | 0/4000 [00:00<?, ?it/s]"
     ]
    },
    {
     "name": "stdout",
     "output_type": "stream",
     "text": [
      "--------------------------------------------------------------------------------\n",
      " Simulation number: 6 \n",
      " Dimensions: p = 50, n = 100 \n",
      " Run Network-SS with A-85SEMIDEP\n"
     ]
    },
    {
     "name": "stderr",
     "output_type": "stream",
     "text": [
      "sample: 100%|██████████| 4000/4000 [20:23<00:00,  3.27it/s, 1023 steps of size 5.68e-03. acc. prob=0.88]\n"
     ]
    },
    {
     "name": "stdout",
     "output_type": "stream",
     "text": [
      "0:20:24.132977\n"
     ]
    },
    {
     "name": "stderr",
     "output_type": "stream",
     "text": [
      "\r",
      "  0%|          | 0/4000 [00:00<?, ?it/s]"
     ]
    },
    {
     "name": "stdout",
     "output_type": "stream",
     "text": [
      "--------------------------------------------------------------------------------\n",
      " Simulation number: 7 \n",
      " Dimensions: p = 50, n = 100 \n",
      " Run Network-SS with A-85SEMIDEP\n"
     ]
    },
    {
     "name": "stderr",
     "output_type": "stream",
     "text": [
      "sample: 100%|██████████| 4000/4000 [21:02<00:00,  3.17it/s, 1023 steps of size 5.58e-03. acc. prob=0.89]\n"
     ]
    },
    {
     "name": "stdout",
     "output_type": "stream",
     "text": [
      "0:21:02.727336\n"
     ]
    },
    {
     "name": "stderr",
     "output_type": "stream",
     "text": [
      "\r",
      "  0%|          | 0/4000 [00:00<?, ?it/s]"
     ]
    },
    {
     "name": "stdout",
     "output_type": "stream",
     "text": [
      "--------------------------------------------------------------------------------\n",
      " Simulation number: 8 \n",
      " Dimensions: p = 50, n = 100 \n",
      " Run Network-SS with A-85SEMIDEP\n"
     ]
    },
    {
     "name": "stderr",
     "output_type": "stream",
     "text": [
      "sample: 100%|██████████| 4000/4000 [16:26<00:00,  4.06it/s, 511 steps of size 7.06e-03. acc. prob=0.86] \n"
     ]
    },
    {
     "name": "stdout",
     "output_type": "stream",
     "text": [
      "0:16:26.833009\n"
     ]
    },
    {
     "name": "stderr",
     "output_type": "stream",
     "text": [
      "\r",
      "  0%|          | 0/4000 [00:00<?, ?it/s]"
     ]
    },
    {
     "name": "stdout",
     "output_type": "stream",
     "text": [
      "--------------------------------------------------------------------------------\n",
      " Simulation number: 9 \n",
      " Dimensions: p = 50, n = 100 \n",
      " Run Network-SS with A-85SEMIDEP\n"
     ]
    },
    {
     "name": "stderr",
     "output_type": "stream",
     "text": [
      "sample: 100%|██████████| 4000/4000 [15:58<00:00,  4.17it/s, 511 steps of size 6.89e-03. acc. prob=0.91] \n"
     ]
    },
    {
     "name": "stdout",
     "output_type": "stream",
     "text": [
      "0:15:59.022716\n"
     ]
    }
   ],
   "source": [
    "diagnostics_all = {}\n",
    "with threadpool_limits(limits=6, user_api='blas'):\n",
    "    for s in range(n_sims):\n",
    "        print('--------------------------------------------------------------------------------')\n",
    "        print(f\" Simulation number: {s} \\n Dimensions: p = {p}, n = {n_cut} \\n Run Network-SS with A-85SEMIDEP\")\n",
    "        with open(sim_data_path + f'sim{s}_p{p}_n{n}.sav', 'rb') as fr:\n",
    "            sim_res = pickle.load(fr)\n",
    "\n",
    "        A_list = [jnp.array(sim_res[\"A_scaled_semi_dep85\"])]\n",
    "        my_model_args = {\"A_list\":A_list, \"eta0_0_m\":eta0_0_m_85SEMI, \"eta0_0_s\":eta0_0_s_85SEMI, \n",
    "                 \"eta0_coefs_m\":eta0_coefs_m_85SEMI, \"eta0_coefs_s\":eta0_coefs_s_85SEMI,\n",
    "                 \"eta1_0_m\":eta1_0_m_85SEMI, \"eta1_0_s\":eta1_0_s_85SEMI, \n",
    "                 \"eta1_coefs_m\":eta1_coefs_m_85SEMI, \"eta1_coefs_s\":eta1_coefs_s_85SEMI,\n",
    "                 \"eta2_0_m\":eta2_0_m_85SEMI, \"eta2_0_s\":eta2_0_s_85SEMI, \n",
    "                 \"eta2_coefs_m\":eta2_coefs_m_85SEMI, \"eta2_coefs_s\":eta2_coefs_s_85SEMI,\n",
    "                 \"mu_m\":mu_m, \"mu_s\":mu_s} \n",
    "    \n",
    "        # select data \n",
    "        Y = jnp.array(sim_res['Y'])\n",
    "        Y = Y[:n_cut,:]\n",
    "        # summaries\n",
    "        y_bar = Y.mean(axis=0) #p\n",
    "        S_bar = Y.T@Y/n_cut - jnp.outer(y_bar, y_bar) #(p,p)\n",
    "        my_model_args.update({\"y_bar\":y_bar, \"S_bar\":S_bar, \"n\":n_cut, \"p\":p,})\n",
    "        theta_true = jnp.array(sim_res['theta_true'])\n",
    "        tril_idx = jnp.tril_indices(n=p, k=-1, m=p)\n",
    "        nonzero_true = (jnp.abs(theta_true[tril_idx]) != 0.)\n",
    "\n",
    "        # set model\n",
    "        fixed_params_dict = {\"scale_spike\":scale_spike_fixed, \n",
    "                         \"mu\":mu_fixed}\n",
    "        blocked_params_list = [\"scale_spike\", \"mu\"]\n",
    "        my_model_run = block(condition(my_model, fixed_params_dict), \n",
    "                         hide=blocked_params_list)\n",
    "\n",
    "\n",
    "        nuts_kernel = NUTS(my_model_run, init_strategy=my_init_strategy_85SEMI, \n",
    "                       dense_mass=is_dense)\n",
    "    \n",
    "    \n",
    "        # run model and time up\n",
    "        start_time = time.time()\n",
    "        mcmc = MCMC(nuts_kernel, num_warmup=n_warmup, num_samples=n_samples)\n",
    "        #mcmc.run(rng_key = Key(s+44), Y=Y, **my_model_args,\n",
    "        mcmc.run(rng_key = Key(s+44), **my_model_args,\n",
    "            extra_fields=('potential_energy','accept_prob', \n",
    "                          'num_steps', 'adapt_state'))\n",
    "\n",
    "        end_time = time.time()\n",
    "        seconds_elapsed = end_time - start_time\n",
    "\n",
    "        print(str(timedelta(seconds=seconds_elapsed)))\n",
    "\n",
    "        # save samples\n",
    "        res_all_samples = mcmc.get_samples()\n",
    "\n",
    "        # record diagnostics\n",
    "        params = ['eta0_0', 'eta0_coefs', 'eta1_0', 'eta1_coefs',\n",
    "             'eta2_0', 'eta2_coefs', 'rho_tilde', 'rho_lt', 'sqrt_diag']\n",
    "\n",
    "        diagnostics_dict = {'ESS':{}, 'r_hat':{}}\n",
    "\n",
    "        for par in params:\n",
    "            ESS = numpyro.diagnostics.summary(jnp.expand_dims(res_all_samples[par],\n",
    "                                                          0))['Param:0']['n_eff']\n",
    "\n",
    "            diagnostics_dict['ESS'][par] = ESS\n",
    "\n",
    "            r_hat = numpyro.diagnostics.summary(jnp.expand_dims(res_all_samples[par],\n",
    "                                                            0))['Param:0']['r_hat']\n",
    "\n",
    "            diagnostics_dict['r_hat'][par] = r_hat\n",
    "\n",
    "        diagnostics_dict.update({'potential_energy':mcmc.get_extra_fields()['potential_energy']})\n",
    "        diagnostics_dict.update({'seconds_elapsed':seconds_elapsed})\n",
    "\n",
    "\n",
    "        # save\n",
    "        with open(data_save_path + f'diagnostics_ss_A85semi_{s}_p{p}_n{n_cut}.sav' , 'wb') as f:\n",
    "            pickle.dump((diagnostics_dict), f)\n",
    "\n",
    "        if verbose:\n",
    "            # output indicators\n",
    "            prob_slab_all = []\n",
    "            for cs in range(n_samples):\n",
    "                prob_slab = my_utils.get_prob_slab(rho_lt=res_all_samples['rho_lt'][cs], \n",
    "                                            mean_slab=res_all_samples['mean_slab'][cs], \n",
    "                                            scale_slab=res_all_samples['scale_slab'][cs], \n",
    "                                            scale_spike=fixed_params_dict['scale_spike'], \n",
    "                                            w_slab=res_all_samples['w_slab'][cs], \n",
    "                                            w_spike=(1-res_all_samples['w_slab'])[cs])\n",
    "                prob_slab_all.append(prob_slab)\n",
    "            prob_slab_est = (jnp.array(prob_slab_all)).mean(0)\n",
    "            print('prob_slab_est', prob_slab_est.shape)\n",
    "\n",
    "            nonzero_preds_5 = (prob_slab_est>0.5).astype(int)\n",
    "            print(f'is_nonzero with thresh {0.5}', nonzero_preds_5)\n",
    "            nonzero_preds_95 = (prob_slab_est>0.95).astype(int)\n",
    "            print(f'is_nonzero with thresh {0.95}', nonzero_preds_95)\n",
    "\n",
    "\n",
    "            TP_5 = jnp.where((nonzero_preds_5 == True)&(nonzero_true == True))[0].shape[0]\n",
    "            FP_5 = jnp.where((nonzero_preds_5 == True)&(nonzero_true == False))[0].shape[0]\n",
    "            FN_5 = jnp.where((nonzero_preds_5 == False)&(nonzero_true == True))[0].shape[0]\n",
    "            TN_5 = jnp.where((nonzero_preds_5 == False)&(nonzero_true == False))[0].shape[0]\n",
    "\n",
    "            TP_95 = jnp.where((nonzero_preds_95 == True)&(nonzero_true == True))[0].shape[0]\n",
    "            FP_95 = jnp.where((nonzero_preds_95 == True)&(nonzero_true == False))[0].shape[0]\n",
    "            FN_95 = jnp.where((nonzero_preds_95 == False)&(nonzero_true == True))[0].shape[0]\n",
    "            TN_95 = jnp.where((nonzero_preds_95 == False)&(nonzero_true == False))[0].shape[0]\n",
    "\n",
    "            theta = res_all_samples['theta'].mean(0)\n",
    "            print('mse on estimated posterior mean for theta vs true theta: ', my_utils.get_MSE(theta, theta_true))\n",
    "            print(\" \")\n",
    "\n",
    "            for k in estimates_print:\n",
    "                est_mean = res_all_samples[f'{k}'].mean(0)\n",
    "                print(f'estimated mean posterior for {k} is {est_mean}')\n",
    "\n",
    "            print(\" \") \n",
    "            print(f'Lower triangle of estimated theta is {theta[tril_idx]}')\n",
    "            print(\" \")\n",
    "            print(f'Total for threshold 0.5:{p*(p-1)/2}, TP:{TP_5}, FP:{FP_5}, FN:{FN_5}, TN:{TN_5}')\n",
    "\n",
    "            TPR = my_utils.get_TPR(TP=TP_5, FN=FN_5)\n",
    "            FPR = my_utils.get_FPR(FP=FP_5, TN=TN_5)\n",
    "            FNR = my_utils.get_FNR(FN=FN_5, TP=TP_5)\n",
    "            print(f'TPR: {TPR}, FPR: {FPR}, FNR: {FNR}')\n",
    "            try:\n",
    "                FDiscR = my_utils.get_FDiscR(FP=FP_5, TP=TP_5)\n",
    "                print(f'FDiscR: {FDiscR}')\n",
    "            except:\n",
    "                print('FDiscR: N/A, no positives')\n",
    "            try:\n",
    "                FNonDiscR = my_utils.get_FNonDiscR(TN=TN_5, FN=FN_5)\n",
    "                print(f'FNonDiscR: {FNonDiscR}')\n",
    "            except:\n",
    "                print('FNonDiscR: N/A, no negatives')\n",
    "        \n",
    "        diagnostics_all[s] = diagnostics_dict\n",
    "    with open(data_save_path + f'diagnostics_ss_A85semi_all_p{p}_n{n_cut}.sav' , 'wb') as f:\n",
    "        pickle.dump((diagnostics_all), f)"
   ]
  },
  {
   "cell_type": "markdown",
   "metadata": {},
   "source": [
    "# Average diagnostics across simulations"
   ]
  },
  {
   "cell_type": "code",
   "execution_count": 33,
   "metadata": {},
   "outputs": [],
   "source": [
    "# load diagnostics_all\n",
    "with open(data_save_path + f'diagnostics_ss_A85semi_all_p{p}_n{n_cut}.sav', 'rb') as fr:\n",
    "    diagnostics_all = pickle.load(fr)"
   ]
  },
  {
   "cell_type": "code",
   "execution_count": 34,
   "metadata": {},
   "outputs": [],
   "source": [
    "params = ['eta0_0', 'eta0_coefs', 'eta1_0', 'eta1_coefs',\n",
    "         'eta2_0', 'eta2_coefs', 'rho_lt']\n"
   ]
  },
  {
   "cell_type": "code",
   "execution_count": 35,
   "metadata": {},
   "outputs": [],
   "source": [
    "avg_diagnostics = {}\n",
    "for d in ['potential_energy', 'seconds_elapsed']:\n",
    "    avg_d = []\n",
    "    for s in range(n_sims):\n",
    "        avg_d.append(diagnostics_all[s][d])\n",
    "\n",
    "    avg_d = jnp.array(avg_d).mean(0)\n",
    "    avg_diagnostics[d] = avg_d\n",
    "    "
   ]
  },
  {
   "cell_type": "code",
   "execution_count": 36,
   "metadata": {},
   "outputs": [],
   "source": [
    "avg_diagnostics.update({'ESS':{}, 'r_hat':{}})"
   ]
  },
  {
   "cell_type": "code",
   "execution_count": 37,
   "metadata": {},
   "outputs": [],
   "source": [
    "for d in ['ESS', 'r_hat']:\n",
    "    for par in params:\n",
    "        avg_d_par = []\n",
    "        for s in range(n_sims):\n",
    "            avg_d_par.append(diagnostics_all[s][d][par])\n",
    "        avg_d_par = jnp.array(avg_d_par).mean(0)  \n",
    "        avg_diagnostics[d].update({par:avg_d_par})"
   ]
  },
  {
   "cell_type": "code",
   "execution_count": 38,
   "metadata": {},
   "outputs": [
    {
     "data": {
      "text/plain": [
       "{'potential_energy': DeviceArray([12248.90968151, 12246.93928082, 12250.21024327, ...,\n",
       "              12237.71417056, 12234.67451698, 12249.27917065],            dtype=float64),\n",
       " 'seconds_elapsed': DeviceArray(1133.05708532, dtype=float64),\n",
       " 'ESS': {'eta0_0': DeviceArray(220.31611614, dtype=float64),\n",
       "  'eta0_coefs': DeviceArray([228.85831751], dtype=float64),\n",
       "  'eta1_0': DeviceArray(340.0927537, dtype=float64),\n",
       "  'eta1_coefs': DeviceArray([247.97172362], dtype=float64),\n",
       "  'eta2_0': DeviceArray(358.013067, dtype=float64),\n",
       "  'eta2_coefs': DeviceArray([361.13357108], dtype=float64),\n",
       "  'rho_lt': DeviceArray([1044.71348048, 1665.29305856,  980.77922792, ...,\n",
       "               1688.44589878, 1438.4277385 , 1492.50101771], dtype=float64)},\n",
       " 'r_hat': {'eta0_0': DeviceArray(1.00576694, dtype=float64),\n",
       "  'eta0_coefs': DeviceArray([1.00659675], dtype=float64),\n",
       "  'eta1_0': DeviceArray(1.00395605, dtype=float64),\n",
       "  'eta1_coefs': DeviceArray([1.00507422], dtype=float64),\n",
       "  'eta2_0': DeviceArray(1.00269031, dtype=float64),\n",
       "  'eta2_coefs': DeviceArray([1.00282709], dtype=float64),\n",
       "  'rho_lt': DeviceArray([1.00062845, 1.00035095, 1.00276994, ..., 0.99998996,\n",
       "               1.00011984, 0.99990781], dtype=float64)}}"
      ]
     },
     "execution_count": 38,
     "metadata": {},
     "output_type": "execute_result"
    }
   ],
   "source": [
    "avg_diagnostics"
   ]
  },
  {
   "cell_type": "code",
   "execution_count": 39,
   "metadata": {},
   "outputs": [],
   "source": [
    "with open(data_save_path + f'diagnostics_ss_A85semi_avg_p{p}_n{n_cut}.sav' , 'wb') as f:\n",
    "    pickle.dump((avg_diagnostics), f)\n",
    "    "
   ]
  },
  {
   "cell_type": "code",
   "execution_count": 40,
   "metadata": {},
   "outputs": [
    {
     "data": {
      "text/plain": [
       "DeviceArray([292.73092484], dtype=float64)"
      ]
     },
     "execution_count": 40,
     "metadata": {},
     "output_type": "execute_result"
    }
   ],
   "source": [
    "(avg_diagnostics['ESS']['eta0_0'] + avg_diagnostics['ESS']['eta0_coefs'] + \n",
    " avg_diagnostics['ESS']['eta1_0'] + avg_diagnostics['ESS']['eta1_coefs'] + \n",
    " avg_diagnostics['ESS']['eta2_0'] + avg_diagnostics['ESS']['eta2_coefs'])/6"
   ]
  },
  {
   "cell_type": "code",
   "execution_count": 41,
   "metadata": {},
   "outputs": [
    {
     "data": {
      "text/plain": [
       "DeviceArray(1604.42435278, dtype=float64)"
      ]
     },
     "execution_count": 41,
     "metadata": {},
     "output_type": "execute_result"
    }
   ],
   "source": [
    "avg_diagnostics['ESS']['rho_lt'].mean()"
   ]
  },
  {
   "cell_type": "code",
   "execution_count": 42,
   "metadata": {},
   "outputs": [
    {
     "data": {
      "text/plain": [
       "{0: {'ESS': {'eta0_0': 109.14812743177944,\n",
       "   'eta0_coefs': array([123.2494586]),\n",
       "   'eta1_0': 156.1054953755355,\n",
       "   'eta1_coefs': array([128.41588473]),\n",
       "   'eta2_0': 203.45995533250576,\n",
       "   'eta2_coefs': array([219.91332668]),\n",
       "   'rho_tilde': array([698.30596481, 926.83886509, 484.07871836, ..., 727.73718503,\n",
       "          814.29397198, 415.12518655]),\n",
       "   'rho_lt': array([ 573.54862947, 1156.41501987,  345.80685253, ..., 1112.04767088,\n",
       "           967.17393765,  501.94198923]),\n",
       "   'sqrt_diag': array([ 810.91632292,  720.49663778,  602.19883453,  706.6944548 ,\n",
       "           526.83598101,  671.14013229,  921.0100424 ,  622.1399895 ,\n",
       "           454.34626382,  624.06996262,  705.21636281,  726.8269935 ,\n",
       "           610.47971079,  697.44061853,  718.34263078,  453.76069026,\n",
       "           675.59224308,  867.13973872,  842.63163052,  717.44397926,\n",
       "           685.81571457,  661.55106049,  575.65455826,  581.58710417,\n",
       "           762.86762103,  645.51890946,  339.55652147,  559.07788429,\n",
       "           922.79485873, 1076.19390655,  852.70430078,  685.43842258,\n",
       "           949.54279062,  851.29748903,  577.58288356,  439.23394622,\n",
       "           533.48605278,  549.16078551,  999.84082252,  612.08811191,\n",
       "           644.17543226,  679.00178277,  758.2344411 ,  311.29435011,\n",
       "           409.56805135,  412.63396016,  388.14304747,  638.23175905,\n",
       "           875.18633426,  519.41587413])},\n",
       "  'r_hat': {'eta0_0': 1.0001627009025453,\n",
       "   'eta0_coefs': array([1.0000959]),\n",
       "   'eta1_0': 1.011330219633587,\n",
       "   'eta1_coefs': array([1.01963089]),\n",
       "   'eta2_0': 1.012193183822459,\n",
       "   'eta2_coefs': array([1.01301647]),\n",
       "   'rho_tilde': array([0.9999991 , 1.00104842, 1.0094137 , ..., 1.00129725, 1.00073387,\n",
       "          0.99976147]),\n",
       "   'rho_lt': array([1.0040707 , 0.99983267, 1.00907629, ..., 0.99957872, 0.99990734,\n",
       "          0.99996096]),\n",
       "   'sqrt_diag': array([1.00136467, 1.00354912, 1.00307762, 1.00056557, 1.00283973,\n",
       "          0.99973223, 0.99965485, 0.99996057, 1.00598913, 1.002491  ,\n",
       "          1.00011431, 1.00052013, 1.0025689 , 0.99950376, 0.99965222,\n",
       "          1.01065625, 0.99953788, 1.00061416, 1.00050488, 1.00012168,\n",
       "          0.99994936, 1.00191329, 1.00038928, 1.00125107, 1.00008187,\n",
       "          0.99949988, 1.00145912, 1.00020158, 0.99951951, 1.00026308,\n",
       "          0.99962869, 0.9995025 , 0.99952381, 1.00016573, 1.00074482,\n",
       "          1.00180375, 1.00364841, 1.00653164, 1.00081616, 1.00722874,\n",
       "          1.0035883 , 1.0001878 , 1.00002989, 1.00068435, 1.00044506,\n",
       "          0.99965633, 1.00073199, 0.99950473, 0.99992853, 0.99952296])},\n",
       "  'potential_energy': array([12327.46635626, 12333.99553435, 12367.95491441, ...,\n",
       "         12310.99858174, 12326.5599111 , 12371.97848732]),\n",
       "  'seconds_elapsed': 1068.745884180069},\n",
       " 1: {'ESS': {'eta0_0': 185.90105832805614,\n",
       "   'eta0_coefs': array([195.88751927]),\n",
       "   'eta1_0': 254.75357018132505,\n",
       "   'eta1_coefs': array([228.20766205]),\n",
       "   'eta2_0': 259.8454931519179,\n",
       "   'eta2_coefs': array([256.4536059]),\n",
       "   'rho_tilde': array([1686.72141539, 2163.38636189, 1812.06938872, ..., 1658.3711841 ,\n",
       "          1643.02311464,  692.57910086]),\n",
       "   'rho_lt': array([ 830.98324527, 2123.14884754, 1114.12536158, ..., 1430.1651789 ,\n",
       "          1902.18845028, 1870.0502234 ]),\n",
       "   'sqrt_diag': array([2619.25084533, 1555.43020608, 2014.30948139, 2109.51179777,\n",
       "          2116.32603387, 1727.77483502, 1690.60893696, 1738.50706682,\n",
       "          1854.82373086, 2097.98420787, 2300.64151506, 1984.83614391,\n",
       "          1718.73824839, 2214.58466889,  715.73202192,  832.93862536,\n",
       "          2260.2034894 , 1311.36369711, 2234.91567936, 1963.59485145,\n",
       "          1843.17286455, 1553.82988373, 1999.7030006 , 1601.81607537,\n",
       "          1312.97148744, 1629.56928939, 1820.07945774, 1743.72683376,\n",
       "          1294.22442287, 1410.09967733, 2529.94930629, 1980.83679903,\n",
       "          2024.82888185, 2392.3660225 , 2249.84037495, 2371.5263099 ,\n",
       "          1864.60487909, 1925.01391662, 2140.24184611, 2446.24184228,\n",
       "          2193.08812636, 2009.39591201, 1758.63556096,  993.23131074,\n",
       "          1397.39551632, 1432.0519389 , 1555.49621537, 1143.70573809,\n",
       "          2084.36110945, 2301.78478261])},\n",
       "  'r_hat': {'eta0_0': 1.0252466138331293,\n",
       "   'eta0_coefs': array([1.02703094]),\n",
       "   'eta1_0': 1.0098330725499223,\n",
       "   'eta1_coefs': array([1.00226264]),\n",
       "   'eta2_0': 1.000761029646353,\n",
       "   'eta2_coefs': array([1.00060744]),\n",
       "   'rho_tilde': array([0.99960755, 0.99950396, 1.00005153, ..., 0.99954214, 1.00155957,\n",
       "          0.99961612]),\n",
       "   'rho_lt': array([1.00139885, 1.00020856, 1.00161547, ..., 1.00063334, 0.99950013,\n",
       "          1.00081226]),\n",
       "   'sqrt_diag': array([1.0005    , 1.00081906, 0.99996353, 0.99951232, 1.00022752,\n",
       "          0.99963105, 0.99958102, 1.00066672, 0.99974547, 0.99950498,\n",
       "          1.00113675, 0.99955549, 0.99953974, 1.00016318, 0.99981199,\n",
       "          0.99963973, 0.99976364, 1.0015469 , 1.00105535, 0.99972368,\n",
       "          0.9995827 , 0.99954351, 1.00040202, 1.00079254, 0.99983266,\n",
       "          0.9996516 , 1.00042428, 0.99951723, 0.99975411, 0.99950072,\n",
       "          0.99951551, 0.99961197, 1.00000757, 0.99977842, 0.9997061 ,\n",
       "          0.99962431, 0.9997102 , 0.99951224, 0.99954848, 1.00067909,\n",
       "          0.99980008, 0.99998109, 0.99997146, 1.00478433, 0.99961427,\n",
       "          1.00074907, 1.00254037, 1.00106531, 0.99953707, 1.00017326])},\n",
       "  'potential_energy': array([12325.4741832 , 12303.87941494, 12188.38781807, ...,\n",
       "         12216.67182345, 12225.54110765, 12244.85572656]),\n",
       "  'seconds_elapsed': 1201.1511316299438},\n",
       " 2: {'ESS': {'eta0_0': 423.6215959913448,\n",
       "   'eta0_coefs': array([427.95715812]),\n",
       "   'eta1_0': 483.6304466394256,\n",
       "   'eta1_coefs': array([392.11689785]),\n",
       "   'eta2_0': 634.7491516609915,\n",
       "   'eta2_coefs': array([630.26278359]),\n",
       "   'rho_tilde': array([2766.56184081, 2442.44619008, 1849.26645413, ..., 2552.71629048,\n",
       "          2859.28433027,  917.71406283]),\n",
       "   'rho_lt': array([2078.73777635, 1826.90444754,  540.87414725, ..., 1448.74495812,\n",
       "          1842.81795782, 1738.49664252]),\n",
       "   'sqrt_diag': array([3741.57653124, 3224.70816786, 2157.58943871, 3144.86295988,\n",
       "          2897.06725869, 2717.28985908, 2211.97566132, 2334.91641295,\n",
       "          2705.21234561, 1913.06038251, 1716.16287592, 1978.93361173,\n",
       "          2149.51072913, 3923.81415239, 1237.50142042, 1050.06136344,\n",
       "          2728.79313871, 2390.37656316, 3364.95080797, 3452.34408512,\n",
       "          2355.45866853, 1109.15677307, 1674.54831572, 1016.08698118,\n",
       "          3092.46077089, 3629.65338602, 3307.82484108, 2754.09192999,\n",
       "          3146.74619527, 2960.15577307, 2752.59760671, 1223.12012405,\n",
       "          1242.63776661, 2943.87314629, 3218.50040674, 3340.70462463,\n",
       "          3459.10112348, 2594.11319481, 3691.17490021, 3905.84360851,\n",
       "          3824.29336013, 4005.71734329, 3190.93673336, 2562.70296374,\n",
       "          2363.98250186, 3097.57739208, 3385.50245953, 1859.2984033 ,\n",
       "          3287.89157454, 2775.98462462])},\n",
       "  'r_hat': {'eta0_0': 0.9995365619922485,\n",
       "   'eta0_coefs': array([0.99999106]),\n",
       "   'eta1_0': 1.0014656564305369,\n",
       "   'eta1_coefs': array([1.00048978]),\n",
       "   'eta2_0': 1.0001625970733614,\n",
       "   'eta2_coefs': array([1.00028392]),\n",
       "   'rho_tilde': array([0.9998775 , 0.99995392, 0.99960824, ..., 0.99958061, 1.00031249,\n",
       "          1.00123732]),\n",
       "   'rho_lt': array([1.00007485, 0.99958544, 1.00528117, ..., 0.99950829, 1.00090464,\n",
       "          0.99957808]),\n",
       "   'sqrt_diag': array([0.99950135, 1.00023163, 0.9999336 , 0.99954635, 1.00004724,\n",
       "          0.99972153, 0.99953875, 1.00146045, 0.99955421, 0.99956887,\n",
       "          0.99950001, 0.99950233, 1.00097314, 1.00017714, 1.00095132,\n",
       "          0.9995106 , 0.99977964, 0.99954392, 0.99964215, 1.00181003,\n",
       "          0.99956341, 0.99995989, 1.00052546, 0.99951234, 1.00240434,\n",
       "          0.99958944, 0.99999469, 0.99955195, 0.99963715, 1.0000182 ,\n",
       "          1.00142166, 0.99954973, 0.99950931, 0.99974893, 0.99952154,\n",
       "          0.99981091, 0.99987471, 0.99955742, 0.99949997, 0.999752  ,\n",
       "          1.00049274, 0.99951748, 1.00096407, 0.99965969, 0.99963213,\n",
       "          0.99951119, 0.99969608, 1.00024503, 0.99949996, 0.99950046])},\n",
       "  'potential_energy': array([12145.6477707 , 12176.24570174, 12251.99985779, ...,\n",
       "         12277.47395035, 12257.55996886, 12260.96289278]),\n",
       "  'seconds_elapsed': 1234.8362691402435},\n",
       " 3: {'ESS': {'eta0_0': 173.98721986092565,\n",
       "   'eta0_coefs': array([182.97261869]),\n",
       "   'eta1_0': 568.4450357952994,\n",
       "   'eta1_coefs': array([353.10826605]),\n",
       "   'eta2_0': 518.7498105487078,\n",
       "   'eta2_coefs': array([526.58839512]),\n",
       "   'rho_tilde': array([3132.00445068, 2000.30576891, 2688.02010673, ..., 3094.71280582,\n",
       "          1901.9027892 , 1400.39816094]),\n",
       "   'rho_lt': array([ 531.29159874, 1351.54806791, 1590.78793693, ..., 1736.95302381,\n",
       "           568.0240057 , 1921.97613902]),\n",
       "   'sqrt_diag': array([2010.81052325, 3354.97653743, 2888.92641588, 2705.55516684,\n",
       "          3551.32765577, 2776.63914693, 2571.99831197, 2217.52407518,\n",
       "          3053.33422566, 2650.0019892 , 2665.68056935, 2582.54694047,\n",
       "          2482.14349038, 2683.48905604, 1115.44674113,  860.74582835,\n",
       "          3359.86130992, 2423.43457099, 2451.62180057, 3938.02778907,\n",
       "          2463.28208637, 2521.54349527, 3297.94060998, 2601.16033708,\n",
       "          2997.02169187, 3108.94647896, 3378.20947958, 4279.90622241,\n",
       "          4195.05417289, 2613.80058226, 3114.67619038, 2125.48412964,\n",
       "          2156.54484932, 3709.95748529, 3456.76738147,  656.45237931,\n",
       "          1921.73683717, 1548.89723375, 4116.85461395, 3213.96036459,\n",
       "          3465.782995  , 2692.82669612, 2090.42104085,  329.60241279,\n",
       "           673.82373445,  289.08322544, 2981.89167872, 2955.58854323,\n",
       "          3377.96746119, 2701.19034062])},\n",
       "  'r_hat': {'eta0_0': 1.0141962678005494,\n",
       "   'eta0_coefs': array([1.01839836]),\n",
       "   'eta1_0': 1.002579821483224,\n",
       "   'eta1_coefs': array([1.00434777]),\n",
       "   'eta2_0': 0.9995310127833259,\n",
       "   'eta2_coefs': array([0.99951394]),\n",
       "   'rho_tilde': array([0.99954246, 0.99956835, 0.99954916, ..., 0.9997647 , 1.00024718,\n",
       "          1.00257665]),\n",
       "   'rho_lt': array([0.99952632, 1.00248809, 1.00019742, ..., 0.99992962, 0.9995621 ,\n",
       "          0.99962257]),\n",
       "   'sqrt_diag': array([1.00088046, 0.99963314, 0.99950512, 0.99953683, 0.99952537,\n",
       "          1.00003357, 0.99991533, 0.99991026, 0.99951334, 0.99952846,\n",
       "          0.99976776, 1.00002691, 0.99954908, 0.99949988, 0.99951022,\n",
       "          0.99960491, 0.99957179, 1.00228816, 1.00016875, 0.99960032,\n",
       "          1.00037534, 0.99954776, 0.99950338, 1.0001654 , 1.00040103,\n",
       "          0.99987875, 1.00043732, 1.00045108, 0.99951412, 0.99958624,\n",
       "          0.99960928, 0.99993575, 0.99960867, 0.99976861, 0.99967169,\n",
       "          1.00498906, 1.00198425, 0.99972687, 0.99950076, 0.99977418,\n",
       "          0.99959874, 0.99950693, 0.99952052, 1.00096011, 1.00402683,\n",
       "          1.00015924, 0.99953663, 0.99950378, 0.99950058, 0.9999751 ])},\n",
       "  'potential_energy': array([12244.0639091 , 12227.09027665, 12168.58746056, ...,\n",
       "         12234.70726277, 12213.8342667 , 12217.60835435]),\n",
       "  'seconds_elapsed': 1204.7474076747894},\n",
       " 4: {'ESS': {'eta0_0': 290.0607087438417,\n",
       "   'eta0_coefs': array([319.89219255]),\n",
       "   'eta1_0': 390.6154115771515,\n",
       "   'eta1_coefs': array([161.7452634]),\n",
       "   'eta2_0': 517.1192496302464,\n",
       "   'eta2_coefs': array([522.25142327]),\n",
       "   'rho_tilde': array([2091.41593616, 2823.75630245, 2133.00784549, ..., 2912.29091384,\n",
       "          3158.71267495, 1408.04440203]),\n",
       "   'rho_lt': array([ 601.33815391, 2088.30780863,  666.07672053, ..., 2065.9883754 ,\n",
       "          2496.36113582, 2478.72053478]),\n",
       "   'sqrt_diag': array([2311.32844131, 3197.42890134, 2581.40024219, 3505.68912559,\n",
       "          4162.87684576, 4258.2173229 , 2679.9976606 , 2942.73476694,\n",
       "          2033.03233532, 2882.74712232, 1635.14873188, 1759.13461299,\n",
       "          1852.93432369, 2511.40796951, 3528.28626856, 3584.26408344,\n",
       "          2863.17319592, 1836.18267966, 3161.0886221 , 2979.81243287,\n",
       "          1521.93307971, 2604.53850543, 2727.26202628, 2396.87356466,\n",
       "          2756.59657988, 2859.5815746 , 1662.74086066, 1130.91434633,\n",
       "          1811.25462664, 3289.79594943, 3126.71150933, 3384.02281562,\n",
       "          3461.030341  , 1096.36959018, 3143.93458442, 2979.23430389,\n",
       "          2886.74879056, 2732.91999429, 2071.9192379 , 2171.59841921,\n",
       "          2437.54347379, 2507.4394385 , 2196.33383763, 2336.18548976,\n",
       "          2339.32655854, 2177.56547819, 3877.09108817, 1255.14497403,\n",
       "          2693.78783099, 3343.89019166])},\n",
       "  'r_hat': {'eta0_0': 1.0060125647254887,\n",
       "   'eta0_coefs': array([1.00171116]),\n",
       "   'eta1_0': 1.0122960577850586,\n",
       "   'eta1_coefs': array([1.00095896]),\n",
       "   'eta2_0': 1.001222671288398,\n",
       "   'eta2_coefs': array([1.00223723]),\n",
       "   'rho_tilde': array([0.99976824, 0.99976236, 1.00083728, ..., 1.00007322, 0.99983583,\n",
       "          0.99967751]),\n",
       "   'rho_lt': array([1.00338659, 1.00077121, 1.00821705, ..., 1.00049588, 1.00059896,\n",
       "          0.99950114]),\n",
       "   'sqrt_diag': array([0.99988854, 1.00056551, 0.99950239, 0.99952231, 0.99950349,\n",
       "          0.99971001, 0.99950046, 0.99978858, 0.99991952, 0.99950076,\n",
       "          1.00125652, 0.99963664, 1.00088552, 0.99968595, 0.99972318,\n",
       "          0.99955685, 0.99971501, 0.99951185, 0.9995067 , 1.00085754,\n",
       "          0.9996266 , 0.99950423, 1.00025628, 1.00017765, 0.99951704,\n",
       "          0.99964683, 0.99952726, 0.99998735, 0.99952098, 0.99964084,\n",
       "          0.99950538, 0.9995066 , 0.99953934, 0.99967767, 0.99961438,\n",
       "          0.99952345, 0.99950518, 0.99950256, 0.99953651, 1.00007563,\n",
       "          0.99987767, 0.99970088, 1.00073467, 0.99974661, 0.99952913,\n",
       "          0.99959055, 0.99999877, 1.0003638 , 1.00100416, 0.99978219])},\n",
       "  'potential_energy': array([12174.63641261, 12263.03334969, 12284.87745354, ...,\n",
       "         12248.87053429, 12266.17869799, 12177.53114541]),\n",
       "  'seconds_elapsed': 1235.4981875419617},\n",
       " 5: {'ESS': {'eta0_0': 107.40981810876647,\n",
       "   'eta0_coefs': array([110.04142587]),\n",
       "   'eta1_0': 204.90386434538817,\n",
       "   'eta1_coefs': array([261.65050206]),\n",
       "   'eta2_0': 95.89918550524736,\n",
       "   'eta2_coefs': array([97.32713674]),\n",
       "   'rho_tilde': array([1774.79866889, 1460.06144268, 1715.92589549, ..., 1836.31250287,\n",
       "          1689.88351974,  406.41366445]),\n",
       "   'rho_lt': array([1064.26683123, 1047.92378812,  390.74102599, ..., 2237.70240573,\n",
       "          1239.7887517 ,  758.69193918]),\n",
       "   'sqrt_diag': array([1372.61416132, 1639.86858763, 1807.65254247, 2134.95552789,\n",
       "          1607.53758142, 2050.57302433,  934.74862133, 1776.34813645,\n",
       "          1540.60991709, 1743.39749457, 1512.14398255, 1969.83498621,\n",
       "          1741.17542764, 1641.66841504, 1261.7020669 , 2179.64204291,\n",
       "          2130.9200471 , 1773.33795817, 1428.64911078, 1142.86987529,\n",
       "          1178.42403207, 1363.55153432, 2017.35548402, 1162.43414549,\n",
       "          1204.84348766, 1320.72819576, 1045.25798063, 1508.02749531,\n",
       "          2036.93306227, 2046.70658336, 2190.69356074, 2059.34629634,\n",
       "          1690.54768404, 1855.91786023, 2303.29069721, 2203.15429113,\n",
       "          1888.91838537, 1567.18298404,  873.07053761, 1522.52182735,\n",
       "          2049.53312982, 1571.99592929, 1603.57323886, 1400.22941533,\n",
       "          1444.45635509,  784.7413918 , 1828.68558428, 2266.6046911 ,\n",
       "          1600.41864027, 1809.65589346])},\n",
       "  'r_hat': {'eta0_0': 1.0007326925389863,\n",
       "   'eta0_coefs': array([1.00027608]),\n",
       "   'eta1_0': 1.0008784501412817,\n",
       "   'eta1_coefs': array([1.00110009]),\n",
       "   'eta2_0': 1.0109238566337557,\n",
       "   'eta2_coefs': array([1.00886922]),\n",
       "   'rho_tilde': array([0.99966247, 1.00166014, 1.00131818, ..., 0.9999831 , 0.99982187,\n",
       "          0.99974801]),\n",
       "   'rho_lt': array([0.99954386, 1.0010526 , 1.00240312, ..., 0.99970554, 1.00008187,\n",
       "          1.00008354]),\n",
       "   'sqrt_diag': array([1.00020868, 0.99950109, 1.00013879, 0.99954072, 1.00005515,\n",
       "          1.00044845, 0.99956777, 1.00009829, 0.99950189, 0.99974494,\n",
       "          0.99957045, 0.99968014, 0.99973676, 0.99951897, 0.99959361,\n",
       "          0.99987116, 0.99962651, 0.99951553, 1.00216386, 1.0004012 ,\n",
       "          0.99950341, 0.99956238, 0.99955988, 0.99981704, 0.99973909,\n",
       "          0.99984442, 0.99979531, 1.00001528, 0.99961012, 1.00225725,\n",
       "          1.0015451 , 0.99976668, 1.00004985, 1.0001927 , 0.99950887,\n",
       "          0.99971972, 1.00113775, 0.99973044, 0.99959131, 1.00013525,\n",
       "          0.99954199, 0.99996077, 1.00099336, 1.00008379, 0.99997401,\n",
       "          0.99951094, 1.0003475 , 1.00037245, 0.99969044, 1.00056294])},\n",
       "  'potential_energy': array([12276.55923596, 12229.01319679, 12228.81338478, ...,\n",
       "         12135.23828122, 12158.0915164 , 12254.52830493]),\n",
       "  'seconds_elapsed': 952.8759355545044},\n",
       " 6: {'ESS': {'eta0_0': 320.76920178725,\n",
       "   'eta0_coefs': array([316.94350556]),\n",
       "   'eta1_0': 325.01987845001787,\n",
       "   'eta1_coefs': array([331.7067497]),\n",
       "   'eta2_0': 618.5774738689186,\n",
       "   'eta2_coefs': array([607.63908858]),\n",
       "   'rho_tilde': array([2540.01585113, 3603.21694467, 3051.70617836, ..., 2889.80206891,\n",
       "          2519.4469234 ,  735.4961321 ]),\n",
       "   'rho_lt': array([ 531.060757  , 1498.37905073, 1622.99560306, ..., 1401.79519391,\n",
       "          1075.99650145, 1557.1230649 ]),\n",
       "   'sqrt_diag': array([2210.07069899, 3776.17740302, 3663.81771904, 4727.90445672,\n",
       "          1723.79049449, 3067.51699138, 2599.56364299, 1766.95860953,\n",
       "          2505.8405434 , 3403.76083765, 3210.15690563, 2108.55400221,\n",
       "          2208.49513227, 2290.55885069, 1360.81281511, 1303.73792807,\n",
       "          2539.41061199, 3590.58058053, 3273.24626888, 3800.60380708,\n",
       "          3150.87761924, 4394.71848823, 3110.12847818, 3255.42900298,\n",
       "          2272.29592174, 2100.06982784, 2275.8690141 , 1153.9485123 ,\n",
       "          3560.58895782, 2180.78228921, 1822.78805912, 3399.65344549,\n",
       "          3583.31623291, 2007.27135011, 1974.04230076, 3275.31878725,\n",
       "          2972.93777687, 1879.81724992, 2539.49519837, 2528.17925264,\n",
       "          3511.124736  , 2972.90434668, 2185.17235802, 2646.48490492,\n",
       "          2897.02594105, 2118.19741078, 3069.04789111, 2887.90093071,\n",
       "          2764.40620285, 2652.54899416])},\n",
       "  'r_hat': {'eta0_0': 0.9996378345821241,\n",
       "   'eta0_coefs': array([0.99952366]),\n",
       "   'eta1_0': 0.9995001785910662,\n",
       "   'eta1_coefs': array([1.00197948]),\n",
       "   'eta2_0': 1.0019011635654993,\n",
       "   'eta2_coefs': array([1.00276707]),\n",
       "   'rho_tilde': array([0.99965417, 0.99999497, 0.9995197 , ..., 0.99954214, 0.99959867,\n",
       "          0.99980674]),\n",
       "   'rho_lt': array([0.99974447, 0.99955744, 1.00063271, ..., 0.99968982, 0.99962346,\n",
       "          0.99951656]),\n",
       "   'sqrt_diag': array([0.99951024, 0.99961244, 0.99950116, 0.9995723 , 1.00018594,\n",
       "          0.99959786, 0.99983252, 1.00037846, 0.99953999, 0.99962448,\n",
       "          1.00082573, 0.99960082, 1.00007476, 1.00002029, 0.99950647,\n",
       "          0.99970987, 0.99954418, 0.99982656, 1.00098399, 0.9995202 ,\n",
       "          0.99969134, 0.99954099, 0.99973143, 1.00058556, 1.00004019,\n",
       "          0.99962363, 1.00030064, 1.0021817 , 0.99963333, 0.99952356,\n",
       "          0.99966723, 1.00041106, 0.99952183, 0.99980582, 0.99954212,\n",
       "          0.9995075 , 0.99953368, 0.99950008, 0.99982921, 0.99952444,\n",
       "          1.00096122, 1.00031958, 0.99969979, 0.99972847, 0.99981536,\n",
       "          0.99953191, 1.00049337, 0.99982359, 0.99986479, 1.00036448])},\n",
       "  'potential_energy': array([12300.94978718, 12286.4385393 , 12353.53865516, ...,\n",
       "         12226.12727017, 12224.80830669, 12257.15367588]),\n",
       "  'seconds_elapsed': 1224.1329765319824},\n",
       " 7: {'ESS': {'eta0_0': 192.95903505556623,\n",
       "   'eta0_coefs': array([208.15553967]),\n",
       "   'eta1_0': 331.5820333097487,\n",
       "   'eta1_coefs': array([268.029847]),\n",
       "   'eta2_0': 304.8575063676059,\n",
       "   'eta2_coefs': array([321.60759936]),\n",
       "   'rho_tilde': array([2737.44041878, 2842.78309031, 2890.21816485, ..., 3301.79437928,\n",
       "          2617.53559019,  701.77957083]),\n",
       "   'rho_lt': array([1677.59133626, 1734.17234307, 1040.42218201, ..., 2085.40662933,\n",
       "          1475.04702292, 1980.90428   ]),\n",
       "   'sqrt_diag': array([3817.79635802, 2581.67344379, 2608.86633631, 2268.57522894,\n",
       "          2458.40144604, 4069.79017728, 3993.48254647, 2991.71418342,\n",
       "          1734.95310701, 3277.91621626, 3277.18945095,  602.6675673 ,\n",
       "          2695.12874287, 2516.70492206, 1109.74347762, 1498.99575918,\n",
       "          2566.28520092, 2129.83474047, 2566.54655235, 2419.87611838,\n",
       "          2483.37173079, 2870.54243434, 3123.68047659, 2886.81373622,\n",
       "          2433.0082779 , 2891.85428187, 2471.75576329, 1737.69762697,\n",
       "          2990.35965149, 3784.22862121, 2994.50202038, 1891.61224926,\n",
       "          3022.47603006, 2693.06275349,  822.8876092 , 2899.76818823,\n",
       "          2759.16568411, 2845.72845031, 2808.20472374, 3340.18787428,\n",
       "          3499.16362001, 3844.29258609, 3327.78840914, 1455.32294905,\n",
       "          1728.57304699, 2710.91053002, 2801.13984087, 2839.36029039,\n",
       "          2787.33333355, 3145.63594714])},\n",
       "  'r_hat': {'eta0_0': 1.0008173256535855,\n",
       "   'eta0_coefs': array([1.00084659]),\n",
       "   'eta1_0': 0.9995033316960972,\n",
       "   'eta1_coefs': array([1.00090015]),\n",
       "   'eta2_0': 0.999500197238282,\n",
       "   'eta2_coefs': array([0.99950049]),\n",
       "   'rho_tilde': array([0.99998089, 0.99996897, 1.00072333, ..., 1.0006569 , 1.00011544,\n",
       "          1.00054311]),\n",
       "   'rho_lt': array([0.99953576, 0.99972825, 1.00062475, ..., 1.00064634, 1.00086331,\n",
       "          0.99953584]),\n",
       "   'sqrt_diag': array([0.99960483, 0.99954361, 0.99959195, 0.99951182, 0.99963057,\n",
       "          0.99956053, 0.99953423, 0.99964205, 0.99956174, 1.00018203,\n",
       "          1.00019285, 0.99950747, 1.00035218, 0.99950305, 1.00098772,\n",
       "          1.00051303, 0.99953635, 1.00052203, 0.99953444, 1.00073366,\n",
       "          0.99952712, 0.99970112, 0.99950133, 0.99967015, 1.00117076,\n",
       "          0.99996284, 0.99991034, 1.00160954, 1.00057357, 0.99960923,\n",
       "          1.0003105 , 0.99994977, 1.0000062 , 0.99965308, 1.00137657,\n",
       "          0.99963167, 1.00003525, 0.99981522, 1.00005879, 1.00008687,\n",
       "          0.99956354, 0.99976844, 1.00119611, 1.00006128, 1.00000485,\n",
       "          1.00031192, 0.99961758, 1.00104752, 0.99965412, 0.99981177])},\n",
       "  'potential_energy': array([12304.39587483, 12203.81258396, 12165.97463399, ...,\n",
       "         12252.64694655, 12270.09554367, 12231.91329054]),\n",
       "  'seconds_elapsed': 1262.7273361682892},\n",
       " 8: {'ESS': {'eta0_0': 300.6583930657491,\n",
       "   'eta0_coefs': array([302.71152782]),\n",
       "   'eta1_0': 406.43959770284914,\n",
       "   'eta1_coefs': array([208.64690594]),\n",
       "   'eta2_0': 306.180615673914,\n",
       "   'eta2_coefs': array([306.79601765]),\n",
       "   'rho_tilde': array([1386.50210691, 1835.65717406, 1484.09953889, ..., 1459.61722027,\n",
       "           940.28477428,  730.13503936]),\n",
       "   'rho_lt': array([2161.99176709, 2066.57562719, 1523.56465934, ..., 1621.65008372,\n",
       "          1218.74107245, 1577.74502885]),\n",
       "   'sqrt_diag': array([1334.21505567, 2121.9902408 , 2008.62285444, 1589.04436118,\n",
       "          1095.98713877, 1345.00237013, 1467.80575693, 1362.79009429,\n",
       "          1206.54037692, 1260.32219307, 1649.48618008, 1467.51161802,\n",
       "          1419.41307016,  790.62840461, 1124.62356919, 1945.13477254,\n",
       "          2138.52002462, 1923.03900655, 1734.30918283, 2131.11836882,\n",
       "          1753.89978809, 1129.11741719, 1594.75652552, 1239.07980959,\n",
       "          1972.53555149, 1871.04086225,  905.80455387, 1152.27768587,\n",
       "          1586.75491377, 1757.92852004, 2096.20563919, 1713.34623878,\n",
       "          1683.15753108, 1688.44205189, 2007.8113664 , 2268.4235489 ,\n",
       "          1928.1133234 , 1523.08692801,  485.14671432,  497.95109351,\n",
       "          1760.0414911 , 2053.27670898, 1195.42078757,  776.06591875,\n",
       "           813.18416886, 1593.66324505, 2300.54168006, 1744.01000327,\n",
       "          1545.39941396, 1867.25111025])},\n",
       "  'r_hat': {'eta0_0': 1.0035902542597999,\n",
       "   'eta0_coefs': array([1.00551165]),\n",
       "   'eta1_0': 1.0006676489432045,\n",
       "   'eta1_coefs': array([1.00007071]),\n",
       "   'eta2_0': 0.9996762900362836,\n",
       "   'eta2_coefs': array([0.99960334]),\n",
       "   'rho_tilde': array([1.0013794 , 0.99982259, 0.99956493, ..., 0.99968609, 1.00144409,\n",
       "          0.99976701]),\n",
       "   'rho_lt': array([0.99950218, 0.99986799, 1.00012517, ..., 1.00007809, 1.00065029,\n",
       "          0.99959366]),\n",
       "   'sqrt_diag': array([1.00012454, 0.99967306, 0.99975927, 0.99953111, 0.99954727,\n",
       "          0.999503  , 0.99997782, 0.99950271, 0.99949989, 0.99952744,\n",
       "          0.99957192, 1.00010146, 0.99996252, 1.00007971, 0.99950016,\n",
       "          1.00041977, 1.00002728, 0.99968622, 1.00058891, 0.999665  ,\n",
       "          0.99957918, 1.00151531, 1.00050045, 1.00155006, 1.00233455,\n",
       "          1.0000676 , 1.00024187, 0.99964944, 1.00102375, 0.99955352,\n",
       "          0.99957176, 0.99995444, 0.99952342, 1.00085111, 0.99952543,\n",
       "          0.99954333, 0.99994324, 1.000042  , 1.00165305, 1.00020876,\n",
       "          0.99955891, 0.9994999 , 0.99995813, 0.99965268, 0.9996712 ,\n",
       "          1.00202629, 0.99955494, 0.99980064, 0.9996776 , 1.0000479 ])},\n",
       "  'potential_energy': array([12138.92834446, 12114.12904376, 12167.09880849, ...,\n",
       "         12162.9947824 , 12203.05203213, 12176.25900668]),\n",
       "  'seconds_elapsed': 986.8330090045929},\n",
       " 9: {'ESS': {'eta0_0': 98.64600305095185,\n",
       "   'eta0_coefs': array([100.77222892]),\n",
       "   'eta1_0': 279.43220359573183,\n",
       "   'eta1_coefs': array([146.08925741]),\n",
       "   'eta2_0': 120.69222824266654,\n",
       "   'eta2_coefs': array([122.49633394]),\n",
       "   'rho_tilde': array([2831.86958696, 2485.06205524, 1459.41852578, ..., 1466.14843966,\n",
       "          1104.56678415,  285.1670323 ]),\n",
       "   'rho_lt': array([ 396.32470953, 1759.55558497,  972.39778999, ..., 1744.00546799,\n",
       "          1598.13854919,  539.36033525]),\n",
       "   'sqrt_diag': array([1725.16243828, 2085.80880276, 1174.93765821, 1225.05343297,\n",
       "          1851.67963663, 1628.79128089, 1244.40360383, 1368.36113897,\n",
       "          1835.50425178, 2227.23096785, 1959.65635724,  425.59735158,\n",
       "          2008.37164346, 1465.31497575, 1294.0977942 ,  925.3608113 ,\n",
       "          1413.89018503, 1507.46241769, 1503.15749849, 1511.98599824,\n",
       "          2284.22451015, 1961.90629851,  843.30391917, 1945.7460309 ,\n",
       "          1769.7721111 , 1279.05770193, 2211.85131883, 1333.78856093,\n",
       "          1832.35218649, 1790.81107324, 1301.45379904, 1304.55070076,\n",
       "          1824.29148936, 1681.51818528, 1184.52013283, 1657.9325161 ,\n",
       "          1753.18377857, 2069.49666956, 1470.71173928, 1814.79107427,\n",
       "          2196.71635489, 2090.43092714, 1125.90305991,  932.86926341,\n",
       "          2067.42425352, 2168.72667528, 1732.00870768, 1467.53324103,\n",
       "          1523.1974041 , 1931.20000069])},\n",
       "  'r_hat': {'eta0_0': 1.0077366301162265,\n",
       "   'eta0_coefs': array([1.0125821]),\n",
       "   'eta1_0': 1.0015060233813495,\n",
       "   'eta1_coefs': array([1.01900175]),\n",
       "   'eta2_0': 1.0010311252931374,\n",
       "   'eta2_coefs': array([1.00187177]),\n",
       "   'rho_tilde': array([0.99949991, 0.99997212, 0.99951478, ..., 0.99957627, 0.99954423,\n",
       "          1.00515432]),\n",
       "   'rho_lt': array([0.99950092, 1.00041728, 0.99952624, ..., 0.99963394, 0.99950634,\n",
       "          1.0008735 ]),\n",
       "   'sqrt_diag': array([0.99997013, 0.99987286, 1.00212437, 0.99950151, 0.99974216,\n",
       "          0.99956688, 0.99984464, 1.001289  , 1.00009704, 0.99953151,\n",
       "          0.99957283, 0.99987284, 1.00006882, 0.99973931, 0.99971852,\n",
       "          1.00242103, 1.00085244, 1.00033359, 0.99998294, 0.99985559,\n",
       "          1.00156745, 0.99954928, 0.9995471 , 0.99989643, 0.99996706,\n",
       "          1.00053237, 0.99967434, 0.99984454, 1.00207455, 0.99974443,\n",
       "          0.99953014, 0.99967322, 1.00185001, 0.99952634, 1.00147506,\n",
       "          1.0003825 , 0.99951894, 0.99952063, 0.99987375, 0.99950741,\n",
       "          1.0000127 , 1.00003133, 1.00268782, 1.00191533, 0.99953921,\n",
       "          0.99960953, 0.99960162, 1.00011246, 0.99956835, 1.00011538])},\n",
       "  'potential_energy': array([12250.97494075, 12331.75516702, 12324.86944593, ...,\n",
       "         12311.41227269, 12201.02381857, 12300.00082202]),\n",
       "  'seconds_elapsed': 959.0227158069611}}"
      ]
     },
     "execution_count": 42,
     "metadata": {},
     "output_type": "execute_result"
    }
   ],
   "source": [
    "diagnostics_all"
   ]
  },
  {
   "cell_type": "code",
   "execution_count": null,
   "metadata": {},
   "outputs": [],
   "source": []
  }
 ],
 "metadata": {
  "kernelspec": {
   "display_name": "Python 3",
   "language": "python",
   "name": "python3"
  },
  "language_info": {
   "codemirror_mode": {
    "name": "ipython",
    "version": 3
   },
   "file_extension": ".py",
   "mimetype": "text/x-python",
   "name": "python",
   "nbconvert_exporter": "python",
   "pygments_lexer": "ipython3",
   "version": "3.8.8"
  },
  "toc": {
   "base_numbering": 1,
   "nav_menu": {},
   "number_sections": true,
   "sideBar": true,
   "skip_h1_title": false,
   "title_cell": "Table of Contents",
   "title_sidebar": "Contents",
   "toc_cell": false,
   "toc_position": {},
   "toc_section_display": true,
   "toc_window_display": false
  }
 },
 "nbformat": 4,
 "nbformat_minor": 4
}
