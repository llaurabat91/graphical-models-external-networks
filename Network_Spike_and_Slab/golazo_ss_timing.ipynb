{
 "cells": [
  {
   "cell_type": "markdown",
   "metadata": {},
   "source": [
    "## Limiting the number of cores that NumPyro can use\n",
    "\n",
    "https://stackoverflow.com/questions/30791550/limit-number-of-threads-in-numpy?fbclid=IwAR3KpUvkrqQR5DR74zKoMFATxkFz_LxNOCoT2dCHNPEAEgohEHMDydSUyEU"
   ]
  },
  {
   "cell_type": "code",
   "execution_count": 1,
   "metadata": {},
   "outputs": [],
   "source": [
    "#!pip install threadpoolctl"
   ]
  },
  {
   "cell_type": "code",
   "execution_count": 1,
   "metadata": {},
   "outputs": [
    {
     "name": "stdout",
     "output_type": "stream",
     "text": [
      "[{'filepath': '/home/usuario/anaconda3/lib/python3.8/site-packages/numpy.libs/libopenblasp-r0-09e95953.3.13.so',\n",
      "  'internal_api': 'openblas',\n",
      "  'num_threads': 16,\n",
      "  'prefix': 'libopenblas',\n",
      "  'threading_layer': 'pthreads',\n",
      "  'user_api': 'blas',\n",
      "  'version': '0.3.13'}]\n"
     ]
    }
   ],
   "source": [
    "from threadpoolctl import threadpool_limits\n",
    "from threadpoolctl import threadpool_info\n",
    "from pprint import pprint\n",
    "import numpy\n"
   ]
  },
  {
   "cell_type": "code",
   "execution_count": 2,
   "metadata": {},
   "outputs": [],
   "source": [
    "import os\n",
    "\n",
    "os.chdir('/home/usuario/Documents/Barcelona_Yr1/GraphicalModels_NetworkData/LiLicode/paper_code_github/')"
   ]
  },
  {
   "cell_type": "markdown",
   "metadata": {
    "id": "MWUcerDSsx7l"
   },
   "source": [
    "### Import modules, utils"
   ]
  },
  {
   "cell_type": "code",
   "execution_count": 3,
   "metadata": {
    "id": "KquK4KJ0o1jJ"
   },
   "outputs": [],
   "source": [
    "import sys\n",
    "#sys.path.append(\"./graphical-regression-with-networks/numpyro/functions\")\n",
    "sys.path.append(\"functions\")"
   ]
  },
  {
   "cell_type": "code",
   "execution_count": 4,
   "metadata": {
    "id": "KquK4KJ0o1jJ"
   },
   "outputs": [],
   "source": [
    "data_save_path = './Data/Simulations/'\n",
    "\n",
    "sim_data_path = './Data/Simulations/'\n"
   ]
  },
  {
   "cell_type": "code",
   "execution_count": 5,
   "metadata": {
    "colab": {
     "base_uri": "https://localhost:8080/"
    },
    "id": "uy7Jbg5uo4Zs",
    "outputId": "36315114-c22a-4792-a139-dd0d30e0247f"
   },
   "outputs": [
    {
     "name": "stdout",
     "output_type": "stream",
     "text": [
      "cpu\n",
      "Is 64 precision enabled?: True\n",
      "cpu\n",
      "Is 64 precision enabled?: True\n"
     ]
    }
   ],
   "source": [
    "import models\n",
    "import my_utils"
   ]
  },
  {
   "cell_type": "code",
   "execution_count": 6,
   "metadata": {},
   "outputs": [
    {
     "name": "stdout",
     "output_type": "stream",
     "text": [
      "cpu\n",
      "Is 64 precision enabled?: True\n",
      "cpu\n",
      "Is 64 precision enabled?: True\n"
     ]
    },
    {
     "data": {
      "text/plain": [
       "<module 'my_utils' from 'functions/my_utils.py'>"
      ]
     },
     "execution_count": 6,
     "metadata": {},
     "output_type": "execute_result"
    }
   ],
   "source": [
    "import importlib\n",
    "importlib.reload(models)\n",
    "importlib.reload(my_utils)"
   ]
  },
  {
   "cell_type": "code",
   "execution_count": 7,
   "metadata": {
    "id": "eogcSYYbXHXX"
   },
   "outputs": [],
   "source": [
    "# imports\n",
    "import pandas as pd\n",
    "import numpy as np\n",
    "import matplotlib.pyplot as plt\n",
    "import pickle\n",
    "from numpyro.util import enable_x64\n",
    "import time\n",
    "from datetime import timedelta"
   ]
  },
  {
   "cell_type": "code",
   "execution_count": 8,
   "metadata": {
    "colab": {
     "base_uri": "https://localhost:8080/"
    },
    "id": "cjmzPepwXHXZ",
    "outputId": "af581e2a-fc7a-420e-dd5b-a2536ed1ceb7"
   },
   "outputs": [
    {
     "name": "stdout",
     "output_type": "stream",
     "text": [
      "cpu\n"
     ]
    }
   ],
   "source": [
    "import jax\n",
    "import numpyro\n",
    "# numpyro.set_platform('gpu')\n",
    "print(jax.lib.xla_bridge.get_backend().platform)\n",
    "\n",
    "from jax import random, vmap\n",
    "import jax.numpy as jnp\n",
    "\n",
    "import numpyro.distributions as dist\n",
    "from numpyro.infer import MCMC, NUTS, log_likelihood\n",
    "from jax.random import PRNGKey as Key\n",
    "from numpyro.infer import init_to_feasible, init_to_value\n",
    "from numpyro.diagnostics import print_summary\n",
    "from numpyro.handlers import condition, substitute, block, seed\n",
    "from optax import adam, exponential_decay\n",
    "from numpyro.infer import SVI, Trace_ELBO\n",
    "from numpyro.infer.autoguide import AutoDelta\n"
   ]
  },
  {
   "cell_type": "code",
   "execution_count": 9,
   "metadata": {},
   "outputs": [
    {
     "name": "stdout",
     "output_type": "stream",
     "text": [
      "Is 64 precision enabled?: True\n"
     ]
    }
   ],
   "source": [
    "enable_x64(use_x64=True)\n",
    "print(\"Is 64 precision enabled?:\", jax.config.jax_enable_x64)"
   ]
  },
  {
   "cell_type": "code",
   "execution_count": 10,
   "metadata": {},
   "outputs": [],
   "source": [
    "n_sims = 10\n",
    "p = 10\n",
    "n = 2000\n",
    "n_cut = 100\n",
    "TP_thresh = 3"
   ]
  },
  {
   "cell_type": "markdown",
   "metadata": {},
   "source": [
    "# Run full model with MCMC, reparametrisation and is_dense=False"
   ]
  },
  {
   "cell_type": "code",
   "execution_count": 11,
   "metadata": {},
   "outputs": [],
   "source": [
    "# params\n",
    "n_warmup = 2000\n",
    "n_samples = 2000\n",
    "\n",
    "mu_m=0.\n",
    "mu_s=1.\n",
    "\n",
    "#my_model = models.golazo_ss_repr\n",
    "my_model = models.golazo_ss_repr_etaRepr\n",
    "is_dense=False\n",
    "verbose=False\n",
    "\n",
    "estimates_print = [\"w_slab\", \"mean_slab\", \"scale_slab\"]"
   ]
  },
  {
   "cell_type": "code",
   "execution_count": 12,
   "metadata": {},
   "outputs": [],
   "source": [
    "mu_fixed=jnp.zeros((p,))\n",
    "scale_spike_fixed=0.003"
   ]
  },
  {
   "cell_type": "code",
   "execution_count": 13,
   "metadata": {},
   "outputs": [],
   "source": [
    "# 85semidep params\n",
    "\n",
    "eta0_0_m_85SEMI=0.\n",
    "eta0_0_s_85SEMI=0.126\n",
    "eta0_coefs_m_85SEMI=0.\n",
    "eta0_coefs_s_85SEMI=0.126\n",
    "\n",
    "eta1_0_m_85SEMI=-2.197\n",
    "eta1_0_s_85SEMI=0.4\n",
    "eta1_coefs_m_85SEMI=0.\n",
    "eta1_coefs_s_85SEMI=0.4\n",
    "\n",
    "eta2_0_m_85SEMI=-2.444\n",
    "eta2_0_s_85SEMI=1.944\n",
    "eta2_coefs_m_85SEMI=0.\n",
    "eta2_coefs_s_85SEMI=1.944\n"
   ]
  },
  {
   "cell_type": "code",
   "execution_count": 14,
   "metadata": {},
   "outputs": [],
   "source": [
    "# init strategy\n",
    "#rho_init = jnp.diag(jnp.ones((p,)))\n",
    "rho_tilde_init = jnp.zeros((int(p*(p-1)/2),))\n",
    "u_init = jnp.ones((int(p*(p-1)/2),))*0.5\n",
    "\n",
    "mu_init = jnp.zeros((p,))\n",
    "sqrt_diag_init = jnp.ones((p,))\n",
    "\n",
    "my_init_strategy_85SEMI = init_to_value(values={#'rho':rho_init,\n",
    "                                                'rho_tilde':rho_tilde_init,\n",
    "                                                'u':u_init,\n",
    "                                                'mu':mu_init, \n",
    "                                                'sqrt_diag':sqrt_diag_init, \n",
    "                                                'tilde_eta0_0':0.0,\n",
    "                                                'tilde_eta1_0':0.0,\n",
    "                                                'tilde_eta2_0':0.0,\n",
    "                                                'tilde_eta0_coefs':jnp.array([0.0]),\n",
    "                                                'tilde_eta1_coefs':jnp.array([0.0]),\n",
    "                                                'tilde_eta2_coefs':jnp.array([0.0]),})\n",
    "\n",
    "\n",
    "#my_init_strategy = init_to_uniform()\n",
    "\n"
   ]
  },
  {
   "cell_type": "code",
   "execution_count": 27,
   "metadata": {},
   "outputs": [
    {
     "name": "stderr",
     "output_type": "stream",
     "text": [
      "\r",
      "  0%|          | 0/4000 [00:00<?, ?it/s]"
     ]
    },
    {
     "name": "stdout",
     "output_type": "stream",
     "text": [
      "--------------------------------------------------------------------------------\n",
      " Simulation number: 0 \n",
      " Dimensions: p = 10, n = 100 \n",
      " Run Network-SS with A-85SEMIDEP\n"
     ]
    },
    {
     "name": "stderr",
     "output_type": "stream",
     "text": [
      "sample: 100%|██████████| 4000/4000 [00:34<00:00, 114.93it/s, 127 steps of size 1.88e-02. acc. prob=0.80]\n",
      "  0%|          | 0/4000 [00:00<?, ?it/s]"
     ]
    },
    {
     "name": "stdout",
     "output_type": "stream",
     "text": [
      "0:00:35.682493\n",
      "--------------------------------------------------------------------------------\n",
      " Simulation number: 1 \n",
      " Dimensions: p = 10, n = 100 \n",
      " Run Network-SS with A-85SEMIDEP\n"
     ]
    },
    {
     "name": "stderr",
     "output_type": "stream",
     "text": [
      "sample: 100%|██████████| 4000/4000 [00:53<00:00, 74.56it/s, 511 steps of size 1.02e-02. acc. prob=0.90]  \n",
      "  0%|          | 0/4000 [00:00<?, ?it/s]"
     ]
    },
    {
     "name": "stdout",
     "output_type": "stream",
     "text": [
      "0:00:54.107589\n",
      "--------------------------------------------------------------------------------\n",
      " Simulation number: 2 \n",
      " Dimensions: p = 10, n = 100 \n",
      " Run Network-SS with A-85SEMIDEP\n"
     ]
    },
    {
     "name": "stderr",
     "output_type": "stream",
     "text": [
      "sample: 100%|██████████| 4000/4000 [00:38<00:00, 103.46it/s, 255 steps of size 1.54e-02. acc. prob=0.70]\n"
     ]
    },
    {
     "name": "stdout",
     "output_type": "stream",
     "text": [
      "0:00:39.287269\n",
      "--------------------------------------------------------------------------------\n",
      " Simulation number: 3 \n",
      " Dimensions: p = 10, n = 100 \n",
      " Run Network-SS with A-85SEMIDEP\n"
     ]
    },
    {
     "name": "stderr",
     "output_type": "stream",
     "text": [
      "sample: 100%|██████████| 4000/4000 [00:40<00:00, 98.43it/s, 255 steps of size 1.88e-02. acc. prob=0.42] \n",
      "  0%|          | 0/4000 [00:00<?, ?it/s]"
     ]
    },
    {
     "name": "stdout",
     "output_type": "stream",
     "text": [
      "0:00:41.174495\n",
      "--------------------------------------------------------------------------------\n",
      " Simulation number: 4 \n",
      " Dimensions: p = 10, n = 100 \n",
      " Run Network-SS with A-85SEMIDEP\n"
     ]
    },
    {
     "name": "stderr",
     "output_type": "stream",
     "text": [
      "sample: 100%|██████████| 4000/4000 [00:52<00:00, 76.51it/s, 511 steps of size 1.04e-02. acc. prob=0.91]  \n",
      "  0%|          | 0/4000 [00:00<?, ?it/s]"
     ]
    },
    {
     "name": "stdout",
     "output_type": "stream",
     "text": [
      "0:00:52.744007\n",
      "--------------------------------------------------------------------------------\n",
      " Simulation number: 5 \n",
      " Dimensions: p = 10, n = 100 \n",
      " Run Network-SS with A-85SEMIDEP\n"
     ]
    },
    {
     "name": "stderr",
     "output_type": "stream",
     "text": [
      "sample: 100%|██████████| 4000/4000 [00:57<00:00, 69.47it/s, 511 steps of size 8.86e-03. acc. prob=0.92]  \n"
     ]
    },
    {
     "name": "stdout",
     "output_type": "stream",
     "text": [
      "0:00:58.342351\n",
      "--------------------------------------------------------------------------------\n",
      " Simulation number: 6 \n",
      " Dimensions: p = 10, n = 100 \n",
      " Run Network-SS with A-85SEMIDEP\n"
     ]
    },
    {
     "name": "stderr",
     "output_type": "stream",
     "text": [
      "sample: 100%|██████████| 4000/4000 [00:56<00:00, 71.22it/s, 511 steps of size 1.03e-02. acc. prob=0.85]  \n",
      "  0%|          | 0/4000 [00:00<?, ?it/s]"
     ]
    },
    {
     "name": "stdout",
     "output_type": "stream",
     "text": [
      "0:00:56.758653\n",
      "--------------------------------------------------------------------------------\n",
      " Simulation number: 7 \n",
      " Dimensions: p = 10, n = 100 \n",
      " Run Network-SS with A-85SEMIDEP\n"
     ]
    },
    {
     "name": "stderr",
     "output_type": "stream",
     "text": [
      "sample: 100%|██████████| 4000/4000 [00:42<00:00, 94.49it/s, 255 steps of size 1.39e-02. acc. prob=0.89] \n",
      "  0%|          | 0/4000 [00:00<?, ?it/s]"
     ]
    },
    {
     "name": "stdout",
     "output_type": "stream",
     "text": [
      "0:00:42.830770\n",
      "--------------------------------------------------------------------------------\n",
      " Simulation number: 8 \n",
      " Dimensions: p = 10, n = 100 \n",
      " Run Network-SS with A-85SEMIDEP\n"
     ]
    },
    {
     "name": "stderr",
     "output_type": "stream",
     "text": [
      "sample: 100%|██████████| 4000/4000 [00:53<00:00, 74.19it/s, 511 steps of size 1.13e-02. acc. prob=0.88] \n",
      "  0%|          | 0/4000 [00:00<?, ?it/s]"
     ]
    },
    {
     "name": "stdout",
     "output_type": "stream",
     "text": [
      "0:00:54.519362\n",
      "--------------------------------------------------------------------------------\n",
      " Simulation number: 9 \n",
      " Dimensions: p = 10, n = 100 \n",
      " Run Network-SS with A-85SEMIDEP\n"
     ]
    },
    {
     "name": "stderr",
     "output_type": "stream",
     "text": [
      "sample: 100%|██████████| 4000/4000 [00:35<00:00, 113.37it/s, 72 steps of size 2.22e-02. acc. prob=0.60] \n"
     ]
    },
    {
     "name": "stdout",
     "output_type": "stream",
     "text": [
      "0:00:36.033659\n"
     ]
    }
   ],
   "source": [
    "diagnostics_all = {}\n",
    "with threadpool_limits(limits=6, user_api='blas'):\n",
    "    for s in range(n_sims):\n",
    "        print('--------------------------------------------------------------------------------')\n",
    "        print(f\" Simulation number: {s} \\n Dimensions: p = {p}, n = {n_cut} \\n Run Network-SS with A-85SEMIDEP\")\n",
    "        with open(sim_data_path + f'sim{s}_p{p}_n{n}.sav', 'rb') as fr:\n",
    "            sim_res = pickle.load(fr)\n",
    "\n",
    "        A_list = [jnp.array(sim_res[\"A_scaled_semi_dep85\"])]\n",
    "        my_model_args = {\"A_list\":A_list, \"eta0_0_m\":eta0_0_m_85SEMI, \"eta0_0_s\":eta0_0_s_85SEMI, \n",
    "                 \"eta0_coefs_m\":eta0_coefs_m_85SEMI, \"eta0_coefs_s\":eta0_coefs_s_85SEMI,\n",
    "                 \"eta1_0_m\":eta1_0_m_85SEMI, \"eta1_0_s\":eta1_0_s_85SEMI, \n",
    "                 \"eta1_coefs_m\":eta1_coefs_m_85SEMI, \"eta1_coefs_s\":eta1_coefs_s_85SEMI,\n",
    "                 \"eta2_0_m\":eta2_0_m_85SEMI, \"eta2_0_s\":eta2_0_s_85SEMI, \n",
    "                 \"eta2_coefs_m\":eta2_coefs_m_85SEMI, \"eta2_coefs_s\":eta2_coefs_s_85SEMI,\n",
    "                 \"mu_m\":mu_m, \"mu_s\":mu_s} \n",
    "    \n",
    "        # select data \n",
    "        Y = jnp.array(sim_res['Y'])\n",
    "        Y = Y[:n_cut,:]\n",
    "        theta_true = jnp.array(sim_res['theta_true'])\n",
    "        tril_idx = jnp.tril_indices(n=p, k=-1, m=p)\n",
    "        nonzero_true = (jnp.abs(theta_true[tril_idx]) != 0.)\n",
    "\n",
    "        # set model\n",
    "        fixed_params_dict = {\"scale_spike\":scale_spike_fixed, \n",
    "                         \"mu\":mu_fixed}\n",
    "        blocked_params_list = [\"scale_spike\", \"mu\"]\n",
    "        my_model_run = block(condition(my_model, fixed_params_dict), \n",
    "                         hide=blocked_params_list)\n",
    "\n",
    "\n",
    "        nuts_kernel = NUTS(my_model_run, init_strategy=my_init_strategy_85SEMI, \n",
    "                       dense_mass=is_dense)\n",
    "    \n",
    "    \n",
    "        # run model and time up\n",
    "        start_time = time.time()\n",
    "        mcmc = MCMC(nuts_kernel, num_warmup=n_warmup, num_samples=n_samples)\n",
    "        mcmc.run(rng_key = Key(s+44), Y=Y, **my_model_args,\n",
    "            extra_fields=('potential_energy','accept_prob', \n",
    "                          'num_steps', 'adapt_state'))\n",
    "\n",
    "        end_time = time.time()\n",
    "        seconds_elapsed = end_time - start_time\n",
    "\n",
    "        print(str(timedelta(seconds=seconds_elapsed)))\n",
    "\n",
    "        # save samples\n",
    "        res_all_samples = mcmc.get_samples()\n",
    "\n",
    "        # record diagnostics\n",
    "        params = ['eta0_0', 'eta0_coefs', 'eta1_0', 'eta1_coefs',\n",
    "             'eta2_0', 'eta2_coefs', 'rho_tilde', 'rho_lt', 'sqrt_diag']\n",
    "\n",
    "        diagnostics_dict = {'ESS':{}, 'r_hat':{}}\n",
    "\n",
    "        for par in params:\n",
    "            ESS = numpyro.diagnostics.summary(jnp.expand_dims(res_all_samples[par],\n",
    "                                                          0))['Param:0']['n_eff']\n",
    "\n",
    "            diagnostics_dict['ESS'][par] = ESS\n",
    "\n",
    "            r_hat = numpyro.diagnostics.summary(jnp.expand_dims(res_all_samples[par],\n",
    "                                                            0))['Param:0']['r_hat']\n",
    "\n",
    "            diagnostics_dict['r_hat'][par] = r_hat\n",
    "\n",
    "        diagnostics_dict.update({'potential_energy':mcmc.get_extra_fields()['potential_energy']})\n",
    "        diagnostics_dict.update({'seconds_elapsed':seconds_elapsed})\n",
    "\n",
    "\n",
    "        # save\n",
    "        with open(data_save_path + f'diagnostics_ss_A85semi_{s}_p{p}_n{n_cut}.sav' , 'wb') as f:\n",
    "            pickle.dump((diagnostics_dict), f)\n",
    "\n",
    "        if verbose:\n",
    "            # output indicators\n",
    "            prob_slab_all = []\n",
    "            for cs in range(n_samples):\n",
    "                prob_slab = my_utils.get_prob_slab(rho_lt=res_all_samples['rho_lt'][cs], \n",
    "                                            mean_slab=res_all_samples['mean_slab'][cs], \n",
    "                                            scale_slab=res_all_samples['scale_slab'][cs], \n",
    "                                            scale_spike=fixed_params_dict['scale_spike'], \n",
    "                                            w_slab=res_all_samples['w_slab'][cs], \n",
    "                                            w_spike=(1-res_all_samples['w_slab'])[cs])\n",
    "                prob_slab_all.append(prob_slab)\n",
    "            prob_slab_est = (jnp.array(prob_slab_all)).mean(0)\n",
    "            print('prob_slab_est', prob_slab_est.shape)\n",
    "\n",
    "            nonzero_preds_5 = (prob_slab_est>0.5).astype(int)\n",
    "            print(f'is_nonzero with thresh {0.5}', nonzero_preds_5)\n",
    "            nonzero_preds_95 = (prob_slab_est>0.95).astype(int)\n",
    "            print(f'is_nonzero with thresh {0.95}', nonzero_preds_95)\n",
    "\n",
    "\n",
    "            TP_5 = jnp.where((nonzero_preds_5 == True)&(nonzero_true == True))[0].shape[0]\n",
    "            FP_5 = jnp.where((nonzero_preds_5 == True)&(nonzero_true == False))[0].shape[0]\n",
    "            FN_5 = jnp.where((nonzero_preds_5 == False)&(nonzero_true == True))[0].shape[0]\n",
    "            TN_5 = jnp.where((nonzero_preds_5 == False)&(nonzero_true == False))[0].shape[0]\n",
    "\n",
    "            TP_95 = jnp.where((nonzero_preds_95 == True)&(nonzero_true == True))[0].shape[0]\n",
    "            FP_95 = jnp.where((nonzero_preds_95 == True)&(nonzero_true == False))[0].shape[0]\n",
    "            FN_95 = jnp.where((nonzero_preds_95 == False)&(nonzero_true == True))[0].shape[0]\n",
    "            TN_95 = jnp.where((nonzero_preds_95 == False)&(nonzero_true == False))[0].shape[0]\n",
    "\n",
    "            theta = res_all_samples['theta'].mean(0)\n",
    "            print('mse on estimated posterior mean for theta vs true theta: ', my_utils.get_MSE(theta, theta_true))\n",
    "            print(\" \")\n",
    "\n",
    "            for k in estimates_print:\n",
    "                est_mean = res_all_samples[f'{k}'].mean(0)\n",
    "                print(f'estimated mean posterior for {k} is {est_mean}')\n",
    "\n",
    "            print(\" \") \n",
    "            print(f'Lower triangle of estimated theta is {theta[tril_idx]}')\n",
    "            print(\" \")\n",
    "            print(f'Total for threshold 0.5:{p*(p-1)/2}, TP:{TP_5}, FP:{FP_5}, FN:{FN_5}, TN:{TN_5}')\n",
    "\n",
    "            TPR = my_utils.get_TPR(TP=TP_5, FN=FN_5)\n",
    "            FPR = my_utils.get_FPR(FP=FP_5, TN=TN_5)\n",
    "            FNR = my_utils.get_FNR(FN=FN_5, TP=TP_5)\n",
    "            print(f'TPR: {TPR}, FPR: {FPR}, FNR: {FNR}')\n",
    "            try:\n",
    "                FDiscR = my_utils.get_FDiscR(FP=FP_5, TP=TP_5)\n",
    "                print(f'FDiscR: {FDiscR}')\n",
    "            except:\n",
    "                print('FDiscR: N/A, no positives')\n",
    "            try:\n",
    "                FNonDiscR = my_utils.get_FNonDiscR(TN=TN_5, FN=FN_5)\n",
    "                print(f'FNonDiscR: {FNonDiscR}')\n",
    "            except:\n",
    "                print('FNonDiscR: N/A, no negatives')\n",
    "        \n",
    "        diagnostics_all[s] = diagnostics_dict\n",
    "    with open(data_save_path + f'diagnostics_ss_A85semi_all_p{p}_n{n_cut}.sav' , 'wb') as f:\n",
    "        pickle.dump((diagnostics_all), f)"
   ]
  },
  {
   "cell_type": "markdown",
   "metadata": {},
   "source": [
    "# Average diagnostics across simulations"
   ]
  },
  {
   "cell_type": "code",
   "execution_count": 28,
   "metadata": {},
   "outputs": [],
   "source": [
    "# load diagnostics_all\n",
    "with open(data_save_path + f'diagnostics_ss_A85semi_all_p{p}_n{n_cut}.sav', 'rb') as fr:\n",
    "    diagnostics_all = pickle.load(fr)"
   ]
  },
  {
   "cell_type": "code",
   "execution_count": 29,
   "metadata": {},
   "outputs": [],
   "source": [
    "params = ['eta0_0', 'eta0_coefs', 'eta1_0', 'eta1_coefs',\n",
    "         'eta2_0', 'eta2_coefs', 'rho_lt']\n"
   ]
  },
  {
   "cell_type": "code",
   "execution_count": 30,
   "metadata": {},
   "outputs": [],
   "source": [
    "avg_diagnostics = {}\n",
    "for d in ['potential_energy', 'seconds_elapsed']:\n",
    "    avg_d = []\n",
    "    for s in range(n_sims):\n",
    "        avg_d.append(diagnostics_all[s][d])\n",
    "\n",
    "    avg_d = jnp.array(avg_d).mean(0)\n",
    "    avg_diagnostics[d] = avg_d\n",
    "    "
   ]
  },
  {
   "cell_type": "code",
   "execution_count": 31,
   "metadata": {},
   "outputs": [],
   "source": [
    "avg_diagnostics.update({'ESS':{}, 'r_hat':{}})"
   ]
  },
  {
   "cell_type": "code",
   "execution_count": 32,
   "metadata": {},
   "outputs": [],
   "source": [
    "for d in ['ESS', 'r_hat']:\n",
    "    for par in params:\n",
    "        avg_d_par = []\n",
    "        for s in range(n_sims):\n",
    "            avg_d_par.append(diagnostics_all[s][d][par])\n",
    "        avg_d_par = jnp.array(avg_d_par).mean(0)  \n",
    "        avg_diagnostics[d].update({par:avg_d_par})"
   ]
  },
  {
   "cell_type": "code",
   "execution_count": 34,
   "metadata": {},
   "outputs": [],
   "source": [
    "with open(data_save_path + f'diagnostics_ss_A85semi_avg_p{p}_n{n_cut}.sav' , 'wb') as f:\n",
    "    pickle.dump((avg_diagnostics), f)\n",
    "    "
   ]
  },
  {
   "cell_type": "code",
   "execution_count": 35,
   "metadata": {},
   "outputs": [
    {
     "data": {
      "text/plain": [
       "DeviceArray([600.93242441], dtype=float64)"
      ]
     },
     "execution_count": 35,
     "metadata": {},
     "output_type": "execute_result"
    }
   ],
   "source": [
    "(avg_diagnostics['ESS']['eta0_0'] + avg_diagnostics['ESS']['eta0_coefs'] + \n",
    " avg_diagnostics['ESS']['eta1_0'] + avg_diagnostics['ESS']['eta1_coefs'] + \n",
    " avg_diagnostics['ESS']['eta2_0'] + avg_diagnostics['ESS']['eta2_coefs'])/6"
   ]
  },
  {
   "cell_type": "code",
   "execution_count": 36,
   "metadata": {},
   "outputs": [
    {
     "data": {
      "text/plain": [
       "DeviceArray(1055.68338941, dtype=float64)"
      ]
     },
     "execution_count": 36,
     "metadata": {},
     "output_type": "execute_result"
    }
   ],
   "source": [
    "avg_diagnostics['ESS']['rho_lt'].mean()"
   ]
  }
 ],
 "metadata": {
  "kernelspec": {
   "display_name": "Python 3",
   "language": "python",
   "name": "python3"
  },
  "language_info": {
   "codemirror_mode": {
    "name": "ipython",
    "version": 3
   },
   "file_extension": ".py",
   "mimetype": "text/x-python",
   "name": "python",
   "nbconvert_exporter": "python",
   "pygments_lexer": "ipython3",
   "version": "3.8.8"
  },
  "toc": {
   "base_numbering": 1,
   "nav_menu": {},
   "number_sections": true,
   "sideBar": true,
   "skip_h1_title": false,
   "title_cell": "Table of Contents",
   "title_sidebar": "Contents",
   "toc_cell": false,
   "toc_position": {},
   "toc_section_display": true,
   "toc_window_display": false
  }
 },
 "nbformat": 4,
 "nbformat_minor": 4
}
