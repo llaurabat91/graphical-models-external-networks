{
 "cells": [
  {
   "cell_type": "code",
   "execution_count": 8,
   "metadata": {},
   "outputs": [],
   "source": [
    "import sys\n",
    "import os\n",
    "os.chdir(\"/Users/llaurabat/Dropbox/BGSE_work/LJRZH_graphs/graphical-regression-with-networks/numpyro/FINAL_ALL\")\n",
    "sys.path.append(\"functions\")\n",
    "\n",
    "sim_data_path = './data/sim_data/'\n",
    "data_save_path = './data/'"
   ]
  },
  {
   "cell_type": "code",
   "execution_count": 9,
   "metadata": {},
   "outputs": [],
   "source": [
    "import models\n",
    "import my_utils"
   ]
  },
  {
   "cell_type": "code",
   "execution_count": 10,
   "metadata": {
    "id": "eogcSYYbXHXX"
   },
   "outputs": [
    {
     "name": "stdout",
     "output_type": "stream",
     "text": [
      "cpu\n"
     ]
    }
   ],
   "source": [
    "# imports\n",
    "import matplotlib.pyplot as plt\n",
    "import pickle\n",
    "from numpyro.util import enable_x64\n",
    "import time\n",
    "from datetime import timedelta\n",
    "import jax\n",
    "import numpyro\n",
    "# numpyro.set_platform('gpu')\n",
    "print(jax.lib.xla_bridge.get_backend().platform)\n",
    "\n",
    "from jax import random, vmap\n",
    "import jax.numpy as jnp\n",
    "\n",
    "from numpyro.infer import MCMC, NUTS\n",
    "from jax.random import PRNGKey as Key\n",
    "from numpyro.infer import init_to_feasible, init_to_value\n",
    "from numpyro.handlers import condition, block\n"
   ]
  },
  {
   "cell_type": "code",
   "execution_count": 11,
   "metadata": {},
   "outputs": [
    {
     "name": "stdout",
     "output_type": "stream",
     "text": [
      "Is 64 precision enabled?: True\n"
     ]
    }
   ],
   "source": [
    "enable_x64(use_x64=True)\n",
    "print(\"Is 64 precision enabled?:\", jax.config.jax_enable_x64)"
   ]
  },
  {
   "cell_type": "code",
   "execution_count": 12,
   "metadata": {},
   "outputs": [],
   "source": [
    "n_sims = 50\n",
    "p = 10\n",
    "n = 2000\n",
    "n_cut = 100\n",
    "TP_thresh = 3"
   ]
  },
  {
   "cell_type": "markdown",
   "metadata": {},
   "source": [
    "# Run full model with MCMC, reparametrisation and is_dense=False"
   ]
  },
  {
   "cell_type": "code",
   "execution_count": 13,
   "metadata": {},
   "outputs": [],
   "source": [
    "# params\n",
    "n_warmup = 1000\n",
    "n_samples = 5000\n",
    "\n",
    "mu_m=0.\n",
    "mu_s=1.\n",
    "\n",
    "my_model = models.golazo_ss_repr_etaRepr\n",
    "is_dense=False\n",
    "\n",
    "estimates_print = [\"w_slab\", \"mean_slab\", \"scale_slab\"]"
   ]
  },
  {
   "cell_type": "code",
   "execution_count": 14,
   "metadata": {},
   "outputs": [],
   "source": [
    "mu_fixed=jnp.zeros((p,))\n",
    "scale_spike_fixed=0.003"
   ]
  },
  {
   "cell_type": "code",
   "execution_count": 15,
   "metadata": {},
   "outputs": [],
   "source": [
    "# 85semidep params\n",
    "\n",
    "eta0_0_m_85SEMI=0.\n",
    "eta0_0_s_85SEMI=0.126\n",
    "eta0_coefs_m_85SEMI=0.\n",
    "eta0_coefs_s_85SEMI=0.126\n",
    "\n",
    "eta1_0_m_85SEMI=-2.197\n",
    "eta1_0_s_85SEMI=0.4\n",
    "eta1_coefs_m_85SEMI=0.\n",
    "eta1_coefs_s_85SEMI=0.4\n",
    "\n",
    "eta2_0_m_85SEMI=-2.444\n",
    "eta2_0_s_85SEMI=1.944\n",
    "eta2_coefs_m_85SEMI=0.\n",
    "eta2_coefs_s_85SEMI=1.944\n"
   ]
  },
  {
   "cell_type": "code",
   "execution_count": 16,
   "metadata": {},
   "outputs": [],
   "source": [
    "# init strategy\n",
    "rho_init = jnp.diag(jnp.ones((p,)))\n",
    "mu_init = jnp.zeros((p,))\n",
    "sqrt_diag_init = jnp.ones((p,))\n",
    "\n",
    "my_init_strategy_85SEMI = init_to_value(values={'rho':rho_init, \n",
    "                                         'mu':mu_init, \n",
    "                                         'sqrt_diag':sqrt_diag_init, \n",
    "                                         'tilde_eta0_0':0.,\n",
    "                                         'tilde_eta1_0':0.,\n",
    "                                        'tilde_eta2_0':0.,\n",
    "                                        'tilde_eta0_coefs':jnp.array([0.]),\n",
    "                                        'tilde_eta1_coefs':jnp.array([0.]),\n",
    "                                        'tilde_eta2_coefs':jnp.array([0.]),})\n"
   ]
  },
  {
   "cell_type": "code",
   "execution_count": 17,
   "metadata": {},
   "outputs": [
    {
     "name": "stdout",
     "output_type": "stream",
     "text": [
      "--------------------------------------------------------------------------------\n",
      " Simulation number: 0 \n",
      " Dimensions: p = 10, n = 100 \n",
      " Run Network-SS with A-85SEMIDEP\n"
     ]
    },
    {
     "name": "stderr",
     "output_type": "stream",
     "text": [
      "sample: 100%|██████████| 6/6 [00:05<00:00,  1.04it/s, 1 steps of size 2.34e+00. acc. prob=0.00]\n",
      "  0%|          | 0/6 [00:00<?, ?it/s]"
     ]
    },
    {
     "name": "stdout",
     "output_type": "stream",
     "text": [
      "0:00:11.059661\n",
      "--------------------------------------------------------------------------------\n",
      " Simulation number: 1 \n",
      " Dimensions: p = 10, n = 100 \n",
      " Run Network-SS with A-85SEMIDEP\n"
     ]
    },
    {
     "name": "stderr",
     "output_type": "stream",
     "text": [
      "sample: 100%|██████████| 6/6 [00:06<00:00,  1.02s/it, 1 steps of size 2.34e+00. acc. prob=0.00]\n"
     ]
    },
    {
     "name": "stdout",
     "output_type": "stream",
     "text": [
      "0:00:06.864805\n"
     ]
    }
   ],
   "source": [
    "diagnostics_all = {}\n",
    "for s in range(n_sims):\n",
    "    print('--------------------------------------------------------------------------------')\n",
    "    print(f\" Simulation number: {s} \\n Dimensions: p = {p}, n = {n_cut} \\n Run Network-SS with A-85SEMIDEP\")\n",
    "    with open(sim_data_path + f'sim{s}_p{p}_n{n}.sav', 'rb') as fr:\n",
    "        sim_res = pickle.load(fr)\n",
    "\n",
    "    A_list = [jnp.array(sim_res[\"A_scaled_semi_dep85\"])]\n",
    "    my_model_args = {\"A_list\":A_list, \"eta0_0_m\":eta0_0_m_85SEMI, \"eta0_0_s\":eta0_0_s_85SEMI, \n",
    "                 \"eta0_coefs_m\":eta0_coefs_m_85SEMI, \"eta0_coefs_s\":eta0_coefs_s_85SEMI,\n",
    "                 \"eta1_0_m\":eta1_0_m_85SEMI, \"eta1_0_s\":eta1_0_s_85SEMI, \n",
    "                 \"eta1_coefs_m\":eta1_coefs_m_85SEMI, \"eta1_coefs_s\":eta1_coefs_s_85SEMI,\n",
    "                 \"eta2_0_m\":eta2_0_m_85SEMI, \"eta2_0_s\":eta2_0_s_85SEMI, \n",
    "                 \"eta2_coefs_m\":eta2_coefs_m_85SEMI, \"eta2_coefs_s\":eta2_coefs_s_85SEMI,\n",
    "                 \"mu_m\":mu_m, \"mu_s\":mu_s} \n",
    "    \n",
    "    # select data \n",
    "    Y = jnp.array(sim_res['Y'])\n",
    "    Y = Y[:n_cut,:]\n",
    "    theta_true = jnp.array(sim_res['theta_true'])\n",
    "    tril_idx = jnp.tril_indices(n=p, k=-1, m=p)\n",
    "    nonzero_true = (jnp.abs(theta_true[tril_idx]) != 0.)\n",
    "\n",
    "    # set model\n",
    "    fixed_params_dict = {\"scale_spike\":scale_spike_fixed, \n",
    "                         \"mu\":mu_fixed}\n",
    "    blocked_params_list = [\"scale_spike\", \"mu\"]\n",
    "    my_model_run = block(condition(my_model, fixed_params_dict), \n",
    "                         hide=blocked_params_list)\n",
    "\n",
    "\n",
    "    nuts_kernel = NUTS(my_model_run, init_strategy=my_init_strategy_85SEMI, \n",
    "                       dense_mass=is_dense)\n",
    "    \n",
    "    \n",
    "    # run model and time up\n",
    "    start_time = time.time()\n",
    "    mcmc = MCMC(nuts_kernel, num_warmup=n_warmup, num_samples=n_samples)\n",
    "    mcmc.run(rng_key = Key(s+44), Y=Y, **my_model_args,\n",
    "            extra_fields=('potential_energy','accept_prob', \n",
    "                          'num_steps', 'adapt_state'))\n",
    "\n",
    "    end_time = time.time()\n",
    "    seconds_elapsed = end_time - start_time\n",
    "\n",
    "    print(str(timedelta(seconds=seconds_elapsed)))\n",
    "\n",
    "    # save samples\n",
    "    res_all_samples = mcmc.get_samples()\n",
    "\n",
    "    # record diagnostics\n",
    "    params = ['eta0_0', 'eta0_coefs', 'eta0_0', 'eta0_coefs',\n",
    "             'eta0_0', 'eta0_coefs', 'rho_tilde', 'rho_lt', 'sqrt_diag']\n",
    "\n",
    "    diagnostics_dict = {'ESS':{}, 'r_hat':{}}\n",
    "\n",
    "    for par in params:\n",
    "        ESS = numpyro.diagnostics.summary(jnp.expand_dims(res_all_samples[par],\n",
    "                                                          0))['Param:0']['n_eff']\n",
    "\n",
    "        diagnostics_dict['ESS'][par] = ESS\n",
    "\n",
    "        r_hat = numpyro.diagnostics.summary(jnp.expand_dims(res_all_samples[par],\n",
    "                                                            0))['Param:0']['r_hat']\n",
    "\n",
    "        diagnostics_dict['r_hat'][par] = r_hat\n",
    "\n",
    "    diagnostics_dict.update({'potential_energy':mcmc.get_extra_fields()['potential_energy']})\n",
    "    diagnostics_dict.update({'seconds_elapsed':seconds_elapsed})\n",
    "\n",
    "\n",
    "    # save\n",
    "    with open(data_save_path + f'diagnostics_ss_A85semi_{s}_p{p}_n{n_cut}.sav' , 'wb') as f:\n",
    "        pickle.dump((diagnostics_dict), f)\n",
    "\n",
    "        \n",
    "    diagnostics_all[s] = diagnostics_dict\n",
    "with open(data_save_path + f'diagnostics_ss_A85semi_all_p{p}_n{n_cut}.sav' , 'wb') as f:\n",
    "    pickle.dump((diagnostics_all), f)"
   ]
  },
  {
   "cell_type": "markdown",
   "metadata": {},
   "source": [
    "# Average diagnostics across simulations"
   ]
  },
  {
   "cell_type": "code",
   "execution_count": 18,
   "metadata": {},
   "outputs": [],
   "source": [
    "# load diagnostics_all\n",
    "with open(data_save_path + f'diagnostics_ss_A85semi_all_p{p}_n{n_cut}.sav', 'rb') as fr:\n",
    "    diagnostics_all = pickle.load(fr)"
   ]
  },
  {
   "cell_type": "code",
   "execution_count": 19,
   "metadata": {},
   "outputs": [],
   "source": [
    "params = ['eta0_0', 'eta0_coefs', 'eta0_0', 'eta0_coefs',\n",
    "         'eta0_0', 'eta0_coefs', 'rho_tilde', 'rho_lt', 'sqrt_diag']\n"
   ]
  },
  {
   "cell_type": "code",
   "execution_count": 20,
   "metadata": {},
   "outputs": [],
   "source": [
    "avg_diagnostics = {}\n",
    "for d in ['potential_energy', 'seconds_elapsed']:\n",
    "    avg_d = []\n",
    "    for s in range(n_sims):\n",
    "        avg_d.append(diagnostics_all[s][d])\n",
    "\n",
    "    avg_d = jnp.array(avg_d).mean(0)\n",
    "    avg_diagnostics[d] = avg_d\n",
    "    "
   ]
  },
  {
   "cell_type": "code",
   "execution_count": 21,
   "metadata": {},
   "outputs": [],
   "source": [
    "avg_diagnostics.update({'ESS':{}, 'r_hat':{}})"
   ]
  },
  {
   "cell_type": "code",
   "execution_count": 22,
   "metadata": {},
   "outputs": [],
   "source": [
    "for d in ['ESS', 'r_hat']:\n",
    "    for par in params:\n",
    "        avg_d_par = []\n",
    "        for s in range(n_sims):\n",
    "            avg_d_par.append(diagnostics_all[s][d][par])\n",
    "        avg_d_par = jnp.array(avg_d_par).mean(0)  \n",
    "        avg_diagnostics[d].update({par:avg_d_par})"
   ]
  },
  {
   "cell_type": "code",
   "execution_count": 23,
   "metadata": {},
   "outputs": [],
   "source": [
    "with open(data_save_path + f'diagnostics_ss_A85semi_avg_p{p}_n{n_cut}.sav' , 'wb') as f:\n",
    "    pickle.dump((avg_diagnostics), f)\n",
    "    "
   ]
  }
 ],
 "metadata": {
  "kernelspec": {
   "display_name": "Python 3",
   "language": "python",
   "name": "python3"
  },
  "language_info": {
   "codemirror_mode": {
    "name": "ipython",
    "version": 3
   },
   "file_extension": ".py",
   "mimetype": "text/x-python",
   "name": "python",
   "nbconvert_exporter": "python",
   "pygments_lexer": "ipython3",
   "version": "3.8.3"
  },
  "toc": {
   "base_numbering": 1,
   "nav_menu": {},
   "number_sections": true,
   "sideBar": true,
   "skip_h1_title": false,
   "title_cell": "Table of Contents",
   "title_sidebar": "Contents",
   "toc_cell": false,
   "toc_position": {},
   "toc_section_display": true,
   "toc_window_display": false
  }
 },
 "nbformat": 4,
 "nbformat_minor": 4
}
