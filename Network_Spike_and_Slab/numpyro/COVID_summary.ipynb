{
 "cells": [
  {
   "cell_type": "code",
   "execution_count": 2,
   "metadata": {
    "id": "eogcSYYbXHXX"
   },
   "outputs": [
    {
     "name": "stdout",
     "output_type": "stream",
     "text": [
      "cpu\n"
     ]
    },
    {
     "name": "stderr",
     "output_type": "stream",
     "text": [
      "/home/user/.virtualenvs/graph-network/lib/python3.7/site-packages/tqdm/auto.py:22: TqdmWarning: IProgress not found. Please update jupyter and ipywidgets. See https://ipywidgets.readthedocs.io/en/stable/user_install.html\n",
      "  from .autonotebook import tqdm as notebook_tqdm\n"
     ]
    }
   ],
   "source": [
    "# imports\n",
    "import pandas as pd\n",
    "import numpy as np\n",
    "import matplotlib.pyplot as plt\n",
    "import pickle\n",
    "from IPython.display import display\n",
    "from IPython.display import display_html \n",
    "import sys\n",
    "import os\n",
    "import jax\n",
    "import numpyro\n",
    "numpyro.set_platform('cpu')\n",
    "print(jax.lib.xla_bridge.get_backend().platform)\n",
    "import jax.numpy as jnp"
   ]
  },
  {
   "cell_type": "code",
   "execution_count": 3,
   "metadata": {},
   "outputs": [
    {
     "name": "stdout",
     "output_type": "stream",
     "text": [
      "Is 64 precision enabled?: True\n",
      "Is 64 precision enabled?: True\n"
     ]
    }
   ],
   "source": [
    "# paths\n",
    "_ROOT_DIR = \"/home/user/graphical-models-external-networks/\"\n",
    "os.chdir(_ROOT_DIR)\n",
    "sys.path.append(\"/home/user/graphical-models-external-networks/Network_Spike_and_Slab/numpyro/functions\")\n",
    "\n",
    "data_path = './Data/COVID/Pre-processed Data/'\n",
    "data_save_path = '/home/user/mounted_folder/NetworkSS_results/'\n",
    "if not os.path.exists(data_save_path):\n",
    "    os.makedirs(data_save_path, mode=0o777)\n",
    "\n",
    "# load models and functions\n",
    "import models\n",
    "import my_utils"
   ]
  },
  {
   "cell_type": "code",
   "execution_count": 4,
   "metadata": {},
   "outputs": [],
   "source": [
    "covid_vals = jnp.array(pd.read_csv(data_path + 'COVID_629_meta.csv', index_col='Unnamed: 0').values)\n",
    "geo_clean = jnp.array(jnp.load(data_path + 'GEO_clean_629.npy'))\n",
    "sci_clean = jnp.array(jnp.load(data_path + 'SCI_clean_629.npy'))\n",
    "net_no = 2\n",
    "scale_spike_fixed =0.003\n",
    "\n",
    "n,p = covid_vals.shape"
   ]
  },
  {
   "cell_type": "markdown",
   "metadata": {},
   "source": [
    "# Compile results"
   ]
  },
  {
   "cell_type": "code",
   "execution_count": 5,
   "metadata": {},
   "outputs": [
    {
     "name": "stdout",
     "output_type": "stream",
     "text": [
      "NetworkSS_geo_sci\n"
     ]
    }
   ],
   "source": [
    "# 1MCMC\n",
    "output_dict_ss_geo_sci = {\"eta0_0\":[],\"eta0_coefs\":[], \"eta1_0\":[],\"eta1_coefs\":[], \"eta2_0\":[],\"eta2_coefs\":[],\n",
    "                    \"w_slab\":[], \"mean_slab\":[], \"scale_slab\":[],\"Pos\":[], \"Neg\":[], \"Pos_95\":[], \"Neg_95\":[],}\n",
    "\n",
    "\n",
    "outputs = {\"NetworkSS_geo_sci\":output_dict_ss_geo_sci }\n",
    "        \n",
    "# with open(data_save_path + f'NetworkSS_geo_sci_1mcmc.sav', 'rb') as fr:\n",
    "#     res_ss_geo_sci = pickle.load(fr)\n",
    "\n",
    "with open(data_save_path + f'NetworkSS_1mcmc_p629_s1500.sav', 'rb') as fr:\n",
    "    res_ss_geo_sci = pickle.load(fr)\n",
    "\n",
    "all_res = {\"NetworkSS_geo_sci\":res_ss_geo_sci}\n",
    "\n",
    "for i, res in all_res.items():\n",
    "    print(i)\n",
    "    n_samples = res[\"eta1_0\"].shape[0]\n",
    "\n",
    "\n",
    "    outputs[i][\"eta1_0\"].append(res[\"eta1_0\"].mean(0))\n",
    "\n",
    "    try:\n",
    "        outputs[i][\"eta0_0\"].append(res[\"eta0_0\"].mean(0))\n",
    "        outputs[i][\"eta2_0\"].append(res[\"eta2_0\"].mean(0))\n",
    "        outputs[i][\"w_slab\"].append(res[\"w_slab\"].mean(0))\n",
    "        outputs[i][\"mean_slab\"].append(res[\"mean_slab\"].mean(0))\n",
    "        outputs[i][\"scale_slab\"].append(res[\"scale_slab\"].mean(0))\n",
    "\n",
    "    except:\n",
    "        pass\n",
    "\n",
    "    try:\n",
    "        outputs[i][\"eta1_coefs\"].append(res[\"eta1_coefs\"].mean(0))\n",
    "    except:\n",
    "        pass\n",
    "\n",
    "    try:   \n",
    "        outputs[i][\"eta0_coefs\"].append(res[\"eta0_coefs\"].mean(0))\n",
    "        outputs[i][\"eta2_coefs\"].append(res[\"eta2_coefs\"].mean(0))\n",
    "    except:\n",
    "        pass\n",
    "\n",
    "    prob_slab_all = []\n",
    "    for cs in range(n_samples):\n",
    "        prob_slab = my_utils.get_prob_slab(rho_lt=res['rho_lt'][cs], \n",
    "                                        mean_slab=res['mean_slab'][cs], \n",
    "                                        scale_slab=res['scale_slab'][cs], \n",
    "                                        scale_spike=scale_spike_fixed, \n",
    "                                        w_slab=res['w_slab'][cs], \n",
    "                                        w_spike=(1-res['w_slab'])[cs])\n",
    "        prob_slab_all.append(prob_slab)\n",
    "    prob_slab_est = (jnp.array(prob_slab_all)).mean(0)    \n",
    "    nonzero_preds_5 = (prob_slab_est>0.5).astype(int)\n",
    "    nonzero_preds_95 = (prob_slab_est>0.95).astype(int)\n",
    "\n",
    "    Pos_5 = jnp.where(nonzero_preds_5 == True)[0].shape[0]\n",
    "    Neg_5 = jnp.where(nonzero_preds_5 == False)[0].shape[0]\n",
    "  \n",
    "    Pos_95 = jnp.where(nonzero_preds_95 == True)[0].shape[0]\n",
    "    Neg_95 = jnp.where(nonzero_preds_95 == False)[0].shape[0]\n",
    "\n",
    "    outputs[i]['Pos'].append(Pos_5)\n",
    "    outputs[i]['Neg'].append(Neg_5)\n",
    "    outputs[i]['Pos_95'].append(Pos_95)\n",
    "    outputs[i]['Neg_95'].append(Neg_95)\n",
    "\n",
    "outputs_1MCMC = outputs"
   ]
  },
  {
   "cell_type": "code",
   "execution_count": 6,
   "metadata": {},
   "outputs": [
    {
     "name": "stdout",
     "output_type": "stream",
     "text": [
      "NetworkSS_geo_sci\n"
     ]
    }
   ],
   "source": [
    "# 2MCMC\n",
    "\n",
    "output_dict_ss_geo_sci = {\"eta0_0\":[],\"eta0_coefs\":[], \"eta1_0\":[],\"eta1_coefs\":[], \"eta2_0\":[],\"eta2_coefs\":[],\n",
    "                    \"w_slab\":[], \"mean_slab\":[], \"scale_slab\":[],\"Pos\":[], \"Neg\":[], \"Pos_95\":[], \"Neg_95\":[],}\n",
    "\n",
    "\n",
    "outputs = {\"NetworkSS_geo_sci\":output_dict_ss_geo_sci}\n",
    "\n",
    "with open(data_save_path + f'NetworkSS_2mcmc_p629_s1500.sav', 'rb') as fr:\n",
    "    mcmc2_ss_geo_sci = pickle.load(fr)\n",
    "\n",
    "\n",
    "all_res_2MCMC = {\"NetworkSS_geo_sci\":mcmc2_ss_geo_sci}\n",
    "for i, res in all_res_2MCMC.items():\n",
    "    print(i)\n",
    "\n",
    "    n_samples = res[\"rho_lt\"].shape[0]\n",
    "\n",
    "    prob_slab_all = []\n",
    "    for cs in range(n_samples):\n",
    "        prob_slab = my_utils.get_prob_slab(rho_lt=res['rho_lt'][cs], \n",
    "                                        mean_slab=res['mean_slab'][cs], \n",
    "                                        scale_slab=res['scale_slab'][cs], \n",
    "                                        scale_spike=scale_spike_fixed, \n",
    "                                        w_slab=res['w_slab'][cs], \n",
    "                                        w_spike=(1-res['w_slab'])[cs])\n",
    "        prob_slab_all.append(prob_slab)\n",
    "    prob_slab_est = (jnp.array(prob_slab_all)).mean(0)    \n",
    "    nonzero_preds_5 = (prob_slab_est>0.5).astype(int)\n",
    "    nonzero_preds_95 = (prob_slab_est>0.95).astype(int)\n",
    "\n",
    "    Pos_5 = jnp.where(nonzero_preds_5 == True)[0].shape[0]\n",
    "    Neg_5 = jnp.where(nonzero_preds_5 == False)[0].shape[0]\n",
    "  \n",
    "    Pos_95 = jnp.where(nonzero_preds_95 == True)[0].shape[0]\n",
    "    Neg_95 = jnp.where(nonzero_preds_95 == False)[0].shape[0]\n",
    "\n",
    "    outputs[i]['Pos'].append(Pos_5)\n",
    "    outputs[i]['Neg'].append(Neg_5)\n",
    "    outputs[i]['Pos_95'].append(Pos_95)\n",
    "    outputs[i]['Neg_95'].append(Neg_95)\n",
    "\n",
    "\n",
    "outputs_2MCMC = outputs"
   ]
  },
  {
   "cell_type": "markdown",
   "metadata": {},
   "source": [
    "# Summary"
   ]
  },
  {
   "cell_type": "code",
   "execution_count": 7,
   "metadata": {},
   "outputs": [],
   "source": [
    "cols = ['Pos', 'Neg', 'Pos_95', 'Neg_95']\n",
    "\n",
    "res_dict_1MCMC = {\"NetworkSS_geo_sci\":[]}\n",
    "for k, output in outputs_1MCMC.items():\n",
    "    for col in cols:\n",
    "        try:\n",
    "            res_dict_1MCMC[k].append(round(jnp.array(output[col]).mean(0),3))\n",
    "        except:\n",
    "            res_dict_1MCMC[k].append(np.nan)"
   ]
  },
  {
   "cell_type": "code",
   "execution_count": 8,
   "metadata": {},
   "outputs": [],
   "source": [
    "cols = ['Pos', 'Neg', 'Pos_95', 'Neg_95']\n",
    "\n",
    "res_dict_2MCMC = {\"NetworkSS_geo_sci\":[]}\n",
    "for k, output in outputs_2MCMC.items():\n",
    "    for col in cols:\n",
    "        try:\n",
    "            res_dict_2MCMC[k].append(round(jnp.array(output[col]).mean(0),3))\n",
    "        except:\n",
    "            res_dict_2MCMC[k].append(np.nan)"
   ]
  },
  {
   "cell_type": "code",
   "execution_count": 9,
   "metadata": {},
   "outputs": [
    {
     "name": "stdout",
     "output_type": "stream",
     "text": [
      "Results for 1MCMC\n"
     ]
    },
    {
     "data": {
      "text/html": [
       "<div>\n",
       "<style scoped>\n",
       "    .dataframe tbody tr th:only-of-type {\n",
       "        vertical-align: middle;\n",
       "    }\n",
       "\n",
       "    .dataframe tbody tr th {\n",
       "        vertical-align: top;\n",
       "    }\n",
       "\n",
       "    .dataframe thead th {\n",
       "        text-align: right;\n",
       "    }\n",
       "</style>\n",
       "<table border=\"1\" class=\"dataframe\">\n",
       "  <thead>\n",
       "    <tr style=\"text-align: right;\">\n",
       "      <th></th>\n",
       "      <th>Pos</th>\n",
       "      <th>Neg</th>\n",
       "      <th>Pos_95</th>\n",
       "      <th>Neg_95</th>\n",
       "    </tr>\n",
       "  </thead>\n",
       "  <tbody>\n",
       "    <tr>\n",
       "      <th>NetworkSS_geo_sci</th>\n",
       "      <td>2654.0</td>\n",
       "      <td>194852.0</td>\n",
       "      <td>547.0</td>\n",
       "      <td>196959.0</td>\n",
       "    </tr>\n",
       "  </tbody>\n",
       "</table>\n",
       "</div>"
      ],
      "text/plain": [
       "                      Pos       Neg Pos_95    Neg_95\n",
       "NetworkSS_geo_sci  2654.0  194852.0  547.0  196959.0"
      ]
     },
     "execution_count": 9,
     "metadata": {},
     "output_type": "execute_result"
    }
   ],
   "source": [
    "print('Results for 1MCMC')\n",
    "pd.DataFrame.from_dict(res_dict_1MCMC, orient='index', \n",
    "                       columns=cols).loc[['NetworkSS_geo_sci']]"
   ]
  },
  {
   "cell_type": "code",
   "execution_count": 10,
   "metadata": {},
   "outputs": [
    {
     "name": "stdout",
     "output_type": "stream",
     "text": [
      "Results for 2MCMC\n"
     ]
    },
    {
     "data": {
      "text/html": [
       "<div>\n",
       "<style scoped>\n",
       "    .dataframe tbody tr th:only-of-type {\n",
       "        vertical-align: middle;\n",
       "    }\n",
       "\n",
       "    .dataframe tbody tr th {\n",
       "        vertical-align: top;\n",
       "    }\n",
       "\n",
       "    .dataframe thead th {\n",
       "        text-align: right;\n",
       "    }\n",
       "</style>\n",
       "<table border=\"1\" class=\"dataframe\">\n",
       "  <thead>\n",
       "    <tr style=\"text-align: right;\">\n",
       "      <th></th>\n",
       "      <th>Pos</th>\n",
       "      <th>Neg</th>\n",
       "      <th>Pos_95</th>\n",
       "      <th>Neg_95</th>\n",
       "    </tr>\n",
       "  </thead>\n",
       "  <tbody>\n",
       "    <tr>\n",
       "      <th>GOLAZO_SS_geo_sci_2mcmc</th>\n",
       "      <td>3051.0</td>\n",
       "      <td>194455.0</td>\n",
       "      <td>578.0</td>\n",
       "      <td>196928.0</td>\n",
       "    </tr>\n",
       "  </tbody>\n",
       "</table>\n",
       "</div>"
      ],
      "text/plain": [
       "                            Pos       Neg Pos_95    Neg_95\n",
       "GOLAZO_SS_geo_sci_2mcmc  3051.0  194455.0  578.0  196928.0"
      ]
     },
     "execution_count": 10,
     "metadata": {},
     "output_type": "execute_result"
    }
   ],
   "source": [
    "print('Results for 2MCMC')\n",
    "df = pd.DataFrame.from_dict(res_dict_2MCMC, orient='index', \n",
    "                       columns=cols).loc[['NetworkSS_geo_sci']]\n",
    "\n",
    "df.index = ['GOLAZO_SS_geo_sci_2mcmc']\n",
    "df"
   ]
  },
  {
   "cell_type": "code",
   "execution_count": 13,
   "metadata": {},
   "outputs": [],
   "source": [
    "# NetworkSS_geo_sci \n",
    "cols = [\"eta0_0\", \"eta1_0\",\"eta2_0\"]\n",
    "cols_2 = [ \"eta0_coefs\", \"eta1_coefs\", \"eta2_coefs\"]\n",
    "names = ['E', 'P']\n",
    "etas_NetworkSS = {}\n",
    "for k in cols:\n",
    "    etas_NetworkSS[k] = all_res_2MCMC['NetworkSS_geo_sci']['fixed_params_dict'][k]\n",
    "    \n",
    "for k in cols:\n",
    "    etas_NetworkSS[k] = {'MAP': all_res_2MCMC['NetworkSS_geo_sci']['fixed_params_dict'][k],\n",
    "               'mean': all_res['NetworkSS_geo_sci'][k].mean(0),\n",
    "              'ESS': numpyro.diagnostics.summary(jnp.expand_dims(all_res['NetworkSS_geo_sci'][k],0))['Param:0']['n_eff'],\n",
    "               'r_hat': numpyro.diagnostics.summary(jnp.expand_dims(all_res['NetworkSS_geo_sci'][k],0))['Param:0']['r_hat'],\n",
    "                }\n",
    "\n",
    "for k in cols_2:\n",
    "    for net_ix in range(net_no):\n",
    "        etas_NetworkSS[f'{k}_{names[net_ix]}'] = {'MAP': all_res_2MCMC['NetworkSS_geo_sci']['fixed_params_dict'][k][net_ix],\n",
    "                   'mean': all_res['NetworkSS_geo_sci'][k].mean(0)[net_ix],\n",
    "                  'ESS': numpyro.diagnostics.summary(jnp.expand_dims(all_res['NetworkSS_geo_sci'][k][:,net_ix].flatten(),0))['Param:0']['n_eff'],\n",
    "                   'r_hat': numpyro.diagnostics.summary(jnp.expand_dims(all_res['NetworkSS_geo_sci'][k][:,net_ix].flatten(),0))['Param:0']['r_hat'],\n",
    "                    }\n",
    "        \n",
    "df_NetworkSS_etas_spec = pd.DataFrame.from_dict(etas_NetworkSS, orient='index')\n"
   ]
  },
  {
   "cell_type": "code",
   "execution_count": 14,
   "metadata": {},
   "outputs": [
    {
     "data": {
      "text/html": [
       "<div>\n",
       "<style scoped>\n",
       "    .dataframe tbody tr th:only-of-type {\n",
       "        vertical-align: middle;\n",
       "    }\n",
       "\n",
       "    .dataframe tbody tr th {\n",
       "        vertical-align: top;\n",
       "    }\n",
       "\n",
       "    .dataframe thead th {\n",
       "        text-align: right;\n",
       "    }\n",
       "</style>\n",
       "<table border=\"1\" class=\"dataframe\">\n",
       "  <thead>\n",
       "    <tr style=\"text-align: right;\">\n",
       "      <th></th>\n",
       "      <th>MAP</th>\n",
       "      <th>mean</th>\n",
       "      <th>ESS</th>\n",
       "      <th>r_hat</th>\n",
       "    </tr>\n",
       "  </thead>\n",
       "  <tbody>\n",
       "    <tr>\n",
       "      <th>eta0_0</th>\n",
       "      <td>0.015815815815815815</td>\n",
       "      <td>0.01592698153271592</td>\n",
       "      <td>4.654721</td>\n",
       "      <td>1.770011</td>\n",
       "    </tr>\n",
       "    <tr>\n",
       "      <th>eta1_0</th>\n",
       "      <td>-2.6056056056056054</td>\n",
       "      <td>-2.620358498320209</td>\n",
       "      <td>4.051418</td>\n",
       "      <td>1.690243</td>\n",
       "    </tr>\n",
       "    <tr>\n",
       "      <th>eta2_0</th>\n",
       "      <td>-3.193193193193193</td>\n",
       "      <td>-3.19633029947477</td>\n",
       "      <td>3.455242</td>\n",
       "      <td>1.892335</td>\n",
       "    </tr>\n",
       "    <tr>\n",
       "      <th>eta0_coefs_E</th>\n",
       "      <td>-0.0030030030030030186</td>\n",
       "      <td>-0.0031608785289137364</td>\n",
       "      <td>20.277500</td>\n",
       "      <td>1.020488</td>\n",
       "    </tr>\n",
       "    <tr>\n",
       "      <th>eta0_coefs_P</th>\n",
       "      <td>-0.01941941941941941</td>\n",
       "      <td>-0.02025489706879422</td>\n",
       "      <td>3.615602</td>\n",
       "      <td>1.638568</td>\n",
       "    </tr>\n",
       "    <tr>\n",
       "      <th>eta1_coefs_E</th>\n",
       "      <td>-0.048048048048048075</td>\n",
       "      <td>-0.04828101816736743</td>\n",
       "      <td>26.700894</td>\n",
       "      <td>1.003385</td>\n",
       "    </tr>\n",
       "    <tr>\n",
       "      <th>eta1_coefs_P</th>\n",
       "      <td>-0.06306306306306309</td>\n",
       "      <td>-0.06294306424340075</td>\n",
       "      <td>6.816175</td>\n",
       "      <td>1.319841</td>\n",
       "    </tr>\n",
       "    <tr>\n",
       "      <th>eta2_coefs_E</th>\n",
       "      <td>0.3733733733733735</td>\n",
       "      <td>0.37749870836791644</td>\n",
       "      <td>9.583342</td>\n",
       "      <td>1.139368</td>\n",
       "    </tr>\n",
       "    <tr>\n",
       "      <th>eta2_coefs_P</th>\n",
       "      <td>0.5135135135135136</td>\n",
       "      <td>0.5164734276812442</td>\n",
       "      <td>10.800271</td>\n",
       "      <td>0.998498</td>\n",
       "    </tr>\n",
       "  </tbody>\n",
       "</table>\n",
       "</div>"
      ],
      "text/plain": [
       "                                 MAP                    mean        ESS  \\\n",
       "eta0_0          0.015815815815815815     0.01592698153271592   4.654721   \n",
       "eta1_0           -2.6056056056056054      -2.620358498320209   4.051418   \n",
       "eta2_0            -3.193193193193193       -3.19633029947477   3.455242   \n",
       "eta0_coefs_E  -0.0030030030030030186  -0.0031608785289137364  20.277500   \n",
       "eta0_coefs_P    -0.01941941941941941    -0.02025489706879422   3.615602   \n",
       "eta1_coefs_E   -0.048048048048048075    -0.04828101816736743  26.700894   \n",
       "eta1_coefs_P    -0.06306306306306309    -0.06294306424340075   6.816175   \n",
       "eta2_coefs_E      0.3733733733733735     0.37749870836791644   9.583342   \n",
       "eta2_coefs_P      0.5135135135135136      0.5164734276812442  10.800271   \n",
       "\n",
       "                 r_hat  \n",
       "eta0_0        1.770011  \n",
       "eta1_0        1.690243  \n",
       "eta2_0        1.892335  \n",
       "eta0_coefs_E  1.020488  \n",
       "eta0_coefs_P  1.638568  \n",
       "eta1_coefs_E  1.003385  \n",
       "eta1_coefs_P  1.319841  \n",
       "eta2_coefs_E  1.139368  \n",
       "eta2_coefs_P  0.998498  "
      ]
     },
     "execution_count": 14,
     "metadata": {},
     "output_type": "execute_result"
    }
   ],
   "source": [
    "df_NetworkSS_etas_spec"
   ]
  },
  {
   "cell_type": "code",
   "execution_count": 15,
   "metadata": {},
   "outputs": [],
   "source": [
    "tril_idx = jnp.tril_indices(n=p, k=-1, m=p)\n",
    "A_tril_geo = geo_clean[tril_idx]\n",
    "A_tril_sci = sci_clean[tril_idx]"
   ]
  },
  {
   "cell_type": "markdown",
   "metadata": {},
   "source": [
    "# NetworkSS"
   ]
  },
  {
   "cell_type": "code",
   "execution_count": 16,
   "metadata": {},
   "outputs": [],
   "source": [
    "nbins=10"
   ]
  },
  {
   "cell_type": "code",
   "execution_count": 17,
   "metadata": {},
   "outputs": [],
   "source": [
    "fixed_params_MAP_dict = all_res_2MCMC['NetworkSS_geo_sci']['fixed_params_dict']"
   ]
  },
  {
   "cell_type": "code",
   "execution_count": 18,
   "metadata": {},
   "outputs": [],
   "source": [
    "negative_fixed_params_MAP_dict = {k:(-v if 'eta0' in k else v) \n",
    "                              for k,v in fixed_params_MAP_dict.items()\n",
    "                             }"
   ]
  },
  {
   "cell_type": "code",
   "execution_count": 19,
   "metadata": {},
   "outputs": [],
   "source": [
    "etas_dict = negative_fixed_params_MAP_dict"
   ]
  },
  {
   "cell_type": "code",
   "execution_count": 20,
   "metadata": {},
   "outputs": [],
   "source": [
    "A_geo_ints_10, A_geo_mids_10  = my_utils.get_density_els_marginal(A_tril=A_tril_geo, \n",
    "                                                                  A_tril_pos=0, \n",
    "                                                                len_A_list=2, nbins=nbins, \n",
    "                         eta_dict=etas_dict)"
   ]
  },
  {
   "cell_type": "code",
   "execution_count": 21,
   "metadata": {},
   "outputs": [],
   "source": [
    "A_sci_ints_10, A_sci_mids_10 = my_utils.get_density_els_marginal(A_tril=A_tril_sci, \n",
    "                                                                 A_tril_pos=1, \n",
    "                                                                len_A_list=2, nbins=nbins, \n",
    "                         eta_dict=etas_dict)"
   ]
  },
  {
   "cell_type": "markdown",
   "metadata": {},
   "source": [
    "## Final plots"
   ]
  },
  {
   "cell_type": "code",
   "execution_count": 22,
   "metadata": {},
   "outputs": [],
   "source": [
    "def get_credible_interval(post_chain):\n",
    "    # Credible Intervals\n",
    "    sorted_arr = np.sort(post_chain) # for each K sort chain\n",
    "    len_sample = post_chain.shape[0] # len chain\n",
    "\n",
    "    # 2.5% percentile: if integer pick value, else average of values at pos5 and pos5+1, recall python idx at 0 (lower bound)\n",
    "    pos025 = 0.025*len_sample\n",
    "    if pos025 == np.int(pos025):\n",
    "        lb025 = sorted_arr[max(np.int(pos025)-1,0)]\n",
    "    else:\n",
    "        lb025 = (sorted_arr[max(np.int(pos025)-1,0)] + sorted_arr[np.int(pos025)])/2\n",
    "\n",
    "    # 97.5% percentile: if integer pick value, else average of values at pos95 and pos95+1, recall python idx at 0 (upper bound)\n",
    "    pos975 = 0.975*len_sample\n",
    "    if pos975 == np.int(pos975):\n",
    "        ub975 = sorted_arr[np.int(pos975)-1]\n",
    "    else:\n",
    "        ub975 = (sorted_arr[(np.int(pos975)-1)] + sorted_arr[np.int(pos975)])/2\n",
    "        \n",
    "    return (jnp.round(lb025,3), jnp.round(ub975,3))\n"
   ]
  },
  {
   "cell_type": "code",
   "execution_count": 24,
   "metadata": {},
   "outputs": [
    {
     "name": "stderr",
     "output_type": "stream",
     "text": [
      "/home/user/.virtualenvs/graph-network/lib/python3.7/site-packages/ipykernel_launcher.py:8: DeprecationWarning: `np.int` is a deprecated alias for the builtin `int`. To silence this warning, use `int` by itself. Doing this will not modify any behavior and is safe. When replacing `np.int`, you may wish to use e.g. `np.int64` or `np.int32` to specify the precision. If you wish to review your current use, check the release note link for additional information.\n",
      "Deprecated in NumPy 1.20; for more details and guidance: https://numpy.org/devdocs/release/1.20.0-notes.html#deprecations\n",
      "  \n",
      "/home/user/.virtualenvs/graph-network/lib/python3.7/site-packages/ipykernel_launcher.py:11: DeprecationWarning: `np.int` is a deprecated alias for the builtin `int`. To silence this warning, use `int` by itself. Doing this will not modify any behavior and is safe. When replacing `np.int`, you may wish to use e.g. `np.int64` or `np.int32` to specify the precision. If you wish to review your current use, check the release note link for additional information.\n",
      "Deprecated in NumPy 1.20; for more details and guidance: https://numpy.org/devdocs/release/1.20.0-notes.html#deprecations\n",
      "  # This is added back by InteractiveShellApp.init_path()\n",
      "/home/user/.virtualenvs/graph-network/lib/python3.7/site-packages/ipykernel_launcher.py:15: DeprecationWarning: `np.int` is a deprecated alias for the builtin `int`. To silence this warning, use `int` by itself. Doing this will not modify any behavior and is safe. When replacing `np.int`, you may wish to use e.g. `np.int64` or `np.int32` to specify the precision. If you wish to review your current use, check the release note link for additional information.\n",
      "Deprecated in NumPy 1.20; for more details and guidance: https://numpy.org/devdocs/release/1.20.0-notes.html#deprecations\n",
      "  from ipykernel import kernelapp as app\n",
      "/home/user/.virtualenvs/graph-network/lib/python3.7/site-packages/ipykernel_launcher.py:18: DeprecationWarning: `np.int` is a deprecated alias for the builtin `int`. To silence this warning, use `int` by itself. Doing this will not modify any behavior and is safe. When replacing `np.int`, you may wish to use e.g. `np.int64` or `np.int32` to specify the precision. If you wish to review your current use, check the release note link for additional information.\n",
      "Deprecated in NumPy 1.20; for more details and guidance: https://numpy.org/devdocs/release/1.20.0-notes.html#deprecations\n"
     ]
    }
   ],
   "source": [
    "df_MAP_dict = {'intercept':{'eta0_m':jnp.round(df_NetworkSS_etas_spec['MAP']['eta0_0'],3),\n",
    "                        'eta0_CI':get_credible_interval(res_ss_geo_sci['eta0_0']),\n",
    "                        'eta1_m':jnp.round(df_NetworkSS_etas_spec['MAP']['eta1_0'],3),\n",
    "                        'eta1_CI':get_credible_interval(res_ss_geo_sci['eta1_0']),\n",
    "                        'eta2_m':jnp.round(df_NetworkSS_etas_spec['MAP']['eta2_0'],3),\n",
    "                        'eta2_CI':get_credible_interval(res_ss_geo_sci['eta2_0']),},\n",
    "               \n",
    "'geo':{'eta0_m':jnp.round(df_NetworkSS_etas_spec['MAP']['eta0_coefs_E'],3),\n",
    "                        'eta0_CI':get_credible_interval(res_ss_geo_sci['eta0_coefs'][:,0]),\n",
    "                        'eta1_m':jnp.round(df_NetworkSS_etas_spec['MAP']['eta1_coefs_E'],3),\n",
    "                        'eta1_CI':get_credible_interval(res_ss_geo_sci['eta1_coefs'][:,0]),\n",
    "                        'eta2_m':jnp.round(df_NetworkSS_etas_spec['MAP']['eta2_coefs_E'],3),\n",
    "                        'eta2_CI':get_credible_interval(res_ss_geo_sci['eta2_coefs'][:,0]),},\n",
    "\n",
    "'sci':{'eta0_m':jnp.round(df_NetworkSS_etas_spec['MAP']['eta0_coefs_P'],3),\n",
    "                        'eta0_CI':get_credible_interval(res_ss_geo_sci['eta0_coefs'][:,1]),\n",
    "                        'eta1_m':jnp.round(df_NetworkSS_etas_spec['MAP']['eta1_coefs_P'],3),\n",
    "                        'eta1_CI':get_credible_interval(res_ss_geo_sci['eta1_coefs'][:,1]),\n",
    "                        'eta2_m':jnp.round(df_NetworkSS_etas_spec['MAP']['eta2_coefs_P'],3),\n",
    "                        'eta2_CI':get_credible_interval(res_ss_geo_sci['eta2_coefs'][:,1]),},\n",
    "}"
   ]
  },
  {
   "cell_type": "code",
   "execution_count": 25,
   "metadata": {},
   "outputs": [
    {
     "data": {
      "text/html": [
       "<div>\n",
       "<style scoped>\n",
       "    .dataframe tbody tr th:only-of-type {\n",
       "        vertical-align: middle;\n",
       "    }\n",
       "\n",
       "    .dataframe tbody tr th {\n",
       "        vertical-align: top;\n",
       "    }\n",
       "\n",
       "    .dataframe thead th {\n",
       "        text-align: right;\n",
       "    }\n",
       "</style>\n",
       "<table border=\"1\" class=\"dataframe\">\n",
       "  <thead>\n",
       "    <tr style=\"text-align: right;\">\n",
       "      <th></th>\n",
       "      <th>intercept</th>\n",
       "      <th>geo</th>\n",
       "      <th>sci</th>\n",
       "    </tr>\n",
       "  </thead>\n",
       "  <tbody>\n",
       "    <tr>\n",
       "      <th>eta0_m</th>\n",
       "      <td>0.016</td>\n",
       "      <td>-0.003</td>\n",
       "      <td>-0.019</td>\n",
       "    </tr>\n",
       "    <tr>\n",
       "      <th>eta0_CI</th>\n",
       "      <td>(0.012, 0.02)</td>\n",
       "      <td>(-0.006, -0.001)</td>\n",
       "      <td>(-0.027, -0.016)</td>\n",
       "    </tr>\n",
       "    <tr>\n",
       "      <th>eta1_m</th>\n",
       "      <td>-2.606</td>\n",
       "      <td>-0.048</td>\n",
       "      <td>-0.063</td>\n",
       "    </tr>\n",
       "    <tr>\n",
       "      <th>eta1_CI</th>\n",
       "      <td>(-2.786, -2.477)</td>\n",
       "      <td>(-0.092, -0.017)</td>\n",
       "      <td>(-0.1, -0.014)</td>\n",
       "    </tr>\n",
       "    <tr>\n",
       "      <th>eta2_m</th>\n",
       "      <td>-3.193</td>\n",
       "      <td>0.373</td>\n",
       "      <td>0.514</td>\n",
       "    </tr>\n",
       "    <tr>\n",
       "      <th>eta2_CI</th>\n",
       "      <td>(-3.5020000000000002, -2.89)</td>\n",
       "      <td>(0.303, 0.455)</td>\n",
       "      <td>(0.444, 0.604)</td>\n",
       "    </tr>\n",
       "  </tbody>\n",
       "</table>\n",
       "</div>"
      ],
      "text/plain": [
       "                            intercept               geo               sci\n",
       "eta0_m                          0.016            -0.003            -0.019\n",
       "eta0_CI                 (0.012, 0.02)  (-0.006, -0.001)  (-0.027, -0.016)\n",
       "eta1_m                         -2.606            -0.048            -0.063\n",
       "eta1_CI              (-2.786, -2.477)  (-0.092, -0.017)    (-0.1, -0.014)\n",
       "eta2_m                         -3.193             0.373             0.514\n",
       "eta2_CI  (-3.5020000000000002, -2.89)    (0.303, 0.455)    (0.444, 0.604)"
      ]
     },
     "execution_count": 25,
     "metadata": {},
     "output_type": "execute_result"
    }
   ],
   "source": [
    "pd.DataFrame.from_dict(df_MAP_dict)"
   ]
  },
  {
   "cell_type": "code",
   "execution_count": 26,
   "metadata": {},
   "outputs": [
    {
     "data": {
      "text/plain": [
       "'\\\\begin{tabular}{llll}\\n\\\\toprule\\n{} &                     intercept &               geo &               sci \\\\\\\\\\n\\\\midrule\\neta0\\\\_m  &                         0.016 &            -0.003 &            -0.019 \\\\\\\\\\neta0\\\\_CI &                 (0.012, 0.02) &  (-0.006, -0.001) &  (-0.027, -0.016) \\\\\\\\\\neta1\\\\_m  &                        -2.606 &            -0.048 &            -0.063 \\\\\\\\\\neta1\\\\_CI &              (-2.786, -2.477) &  (-0.092, -0.017) &    (-0.1, -0.014) \\\\\\\\\\neta2\\\\_m  &                        -3.193 &             0.373 &             0.514 \\\\\\\\\\neta2\\\\_CI &  (-3.5020000000000002, -2.89) &    (0.303, 0.455) &    (0.444, 0.604) \\\\\\\\\\n\\\\bottomrule\\n\\\\end{tabular}\\n'"
      ]
     },
     "execution_count": 26,
     "metadata": {},
     "output_type": "execute_result"
    }
   ],
   "source": [
    "pd.DataFrame.from_dict(df_MAP_dict).to_latex()"
   ]
  },
  {
   "cell_type": "code",
   "execution_count": 27,
   "metadata": {},
   "outputs": [],
   "source": [
    "def MODIFIED_get_density_els_marginal(A_tril, A_min, A_max, A_tril_pos, len_A_list, nbins, eta_dict):\n",
    "    bins = np.histogram(A_tril, bins=nbins)[1]\n",
    "    delta = jnp.diff(np.histogram(A_tril, bins=nbins)[1])[0]\n",
    "    if min(bins) > A_min:\n",
    "        low = bins[0]\n",
    "        while low>A_min:\n",
    "            low -= delta\n",
    "            bins = jnp.concatenate([jnp.array([low]), bins])\n",
    "    if max(bins) < A_max:\n",
    "        high = bins[-1]\n",
    "        while high<A_max:\n",
    "            high += delta\n",
    "            bins = jnp.concatenate([bins, jnp.array([high])])\n",
    "\n",
    "    A_ints = {}\n",
    "    A_mids = []\n",
    "    down = -jnp.inf\n",
    "    for i in range(-1, len(bins)-2):\n",
    "        up = bins[i+2]\n",
    "        if i==-1:\n",
    "            A_mid = up-(bins[i+3]-bins[i+2])/2\n",
    "            A_mids.append(A_mid)\n",
    "        else:\n",
    "            A_mid = (down+up)/2\n",
    "            A_mids.append(A_mid)\n",
    "        A_int_ix = jnp.where((A_tril>down)&(A_tril<=up))[0]\n",
    "\n",
    "        A_key = f'{jnp.round(down,2)} to {jnp.round(up,2)}'\n",
    "        down = bins[i+2]\n",
    "\n",
    "        zeros = jnp.zeros((len_A_list))\n",
    "        A_singlevals = zeros.at[A_tril_pos].set(A_mid)\n",
    "\n",
    "        par_dict = my_utils.from_etas_to_params(coef_dict=eta_dict, p=1, \n",
    "        model='golazo_ss', A_list=A_singlevals)\n",
    "\n",
    "        A_ints[A_key] = par_dict\n",
    "\n",
    "    A_mids = jnp.array(A_mids)\n",
    "    return A_ints, A_mids"
   ]
  },
  {
   "cell_type": "code",
   "execution_count": 28,
   "metadata": {},
   "outputs": [],
   "source": [
    "# run to have plots in LaTeX format\n",
    "\n",
    "params = {'font.family': 'serif',\n",
    "          'text.usetex': True,\n",
    "          'axes.titlesize': 13,\n",
    "          'axes.labelsize': 13,\n",
    "          'xtick.labelsize': 13,\n",
    "          'ytick.labelsize': 13,\n",
    "          'legend.fontsize': 9,\n",
    "          'font.weight': 'bold'}\n",
    "plt.rcParams.update(params)"
   ]
  },
  {
   "cell_type": "code",
   "execution_count": 29,
   "metadata": {},
   "outputs": [
    {
     "data": {
      "image/png": "[encoded data removed]",
      "text/plain": [
       "<Figure size 500x400 with 1 Axes>"
      ]
     },
     "metadata": {},
     "output_type": "display_data"
    }
   ],
   "source": [
    "fig, ax = plt.subplots( figsize=(5,4))\n",
    "\n",
    "nbins=10\n",
    "MODIFIED_A_geo_ints_10, MODIFIED_A_geo_mids_10  = MODIFIED_get_density_els_marginal(A_tril=A_tril_geo, \n",
    "                                                                  A_min=-2, A_max=6.5, \n",
    "                                                                  A_tril_pos=0, \n",
    "                                                                len_A_list=2, nbins=nbins,  eta_dict=etas_dict)\n",
    "\n",
    "MODIFIED_A_sci_ints_10, MODIFIED_A_sci_mids_10 = MODIFIED_get_density_els_marginal(A_tril=A_tril_sci, \n",
    "                                                                                   A_min=-2, A_max=6.5,\n",
    "                                                                 A_tril_pos=1, \n",
    "                                                                len_A_list=2, nbins=nbins, eta_dict=etas_dict)\n",
    "\n",
    "\n",
    "MODIFIED_df = pd.DataFrame.from_dict(MODIFIED_A_sci_ints_10, orient='index')\n",
    "MODIFIED_df = MODIFIED_df.astype('float64')\n",
    "MODIFIED_df_sci = MODIFIED_df.round(decimals = 5)\n",
    "\n",
    "MODIFIED_df = pd.DataFrame.from_dict(MODIFIED_A_geo_ints_10, orient='index')\n",
    "MODIFIED_df = MODIFIED_df.astype('float64')\n",
    "MODIFIED_df_geo = MODIFIED_df.round(decimals = 5)\n",
    "\n",
    "dfs = [MODIFIED_df_geo, MODIFIED_df_sci, ]\n",
    "df_names = ['geo', 'sci', ]\n",
    "ticklabs = [MODIFIED_A_geo_mids_10, MODIFIED_A_sci_mids_10 ]\n",
    "legendlabs = ['Geographical Distance Network', 'Facebook Connectivity Index', ]\n",
    "colors = ['black', 'gray']\n",
    "\n",
    "\n",
    "for df_ix, df in enumerate(dfs):\n",
    "    ax.plot(ticklabs[df_ix], df['w_slab'].values, linewidth=1.2, label=legendlabs[df_ix], color=colors[df_ix])\n",
    "\n",
    "    ax.set_ylabel('Probability of slab')\n",
    "    ax.set_xlabel('Network values')\n",
    "\n",
    "plt.legend()\n",
    "plt.yticks(rotation = 90)\n",
    "plt.tight_layout()\n",
    "plt.savefig('Stock_SS_prob_slab.pdf')\n",
    "\n",
    "plt.show()"
   ]
  },
  {
   "cell_type": "code",
   "execution_count": 30,
   "metadata": {},
   "outputs": [
    {
     "data": {
      "image/png": "[encoded data removed]",
      "text/plain": [
       "<Figure size 500x400 with 1 Axes>"
      ]
     },
     "metadata": {},
     "output_type": "display_data"
    }
   ],
   "source": [
    "fig, ax = plt.subplots( figsize=(5,4))\n",
    "\n",
    "nbins=10\n",
    "MODIFIED_A_geo_ints_10, MODIFIED_A_geo_mids_10  = MODIFIED_get_density_els_marginal(A_tril=A_tril_geo, \n",
    "                                                                  A_min=-2, A_max=6.5, \n",
    "                                                                  A_tril_pos=0, \n",
    "                                                                len_A_list=2, nbins=nbins,  eta_dict=etas_dict)\n",
    "\n",
    "MODIFIED_A_sci_ints_10, MODIFIED_A_sci_mids_10 = MODIFIED_get_density_els_marginal(A_tril=A_tril_sci, \n",
    "                                                                                   A_min=-2, A_max=6.5,\n",
    "                                                                 A_tril_pos=1, \n",
    "                                                                len_A_list=2, nbins=nbins, eta_dict=etas_dict)\n",
    "\n",
    "\n",
    "MODIFIED_df = pd.DataFrame.from_dict(MODIFIED_A_sci_ints_10, orient='index')\n",
    "MODIFIED_df = MODIFIED_df.astype('float64')\n",
    "MODIFIED_df_sci = MODIFIED_df.round(decimals = 5)\n",
    "\n",
    "MODIFIED_df = pd.DataFrame.from_dict(MODIFIED_A_geo_ints_10, orient='index')\n",
    "MODIFIED_df = MODIFIED_df.astype('float64')\n",
    "MODIFIED_df_geo = MODIFIED_df.round(decimals = 5)\n",
    "\n",
    "dfs = [MODIFIED_df_geo, MODIFIED_df_sci, ]\n",
    "df_names = ['geo', 'sci', ]\n",
    "ticklabs = [MODIFIED_A_geo_mids_10, MODIFIED_A_sci_mids_10 ]\n",
    "legendlabs = ['Geographical Distance Network', 'Facebook Connectivity Index', ]\n",
    "colors = ['black', 'gray']\n",
    "\n",
    "for df_ix, df in enumerate(dfs):\n",
    "    ax.plot(ticklabs[df_ix], df['mean_slab'].values, linewidth=1.2, label=legendlabs[df_ix], color=colors[df_ix])\n",
    "\n",
    "    ax.set_ylabel('Slab location')\n",
    "    ax.set_xlabel('Network values')\n",
    "\n",
    "plt.legend()\n",
    "plt.yticks(rotation = 90)\n",
    "plt.tight_layout()\n",
    "plt.savefig('Stock_SS_mean_slab.pdf')\n",
    "\n",
    "plt.show()"
   ]
  },
  {
   "cell_type": "code",
   "execution_count": null,
   "metadata": {},
   "outputs": [],
   "source": [
    "fig, ax = plt.subplots(figsize=(5,4))\n",
    "\n",
    "with open(data_save_path +f'NetworkSS_geo_sci_2mcmc.sav', 'rb') as fr:\n",
    "    mcmc2_ss_geo_sci = pickle.load(fr)\n",
    "    \n",
    "x_axis = jnp.arange(-1,1,0.001)\n",
    "rho_tril = mcmc2_ss_geo_sci['all_samples']['rho_lt'].mean(0)\n",
    "\n",
    "densities_geo_sci_sci = []\n",
    "for A_ix, (A_k, vals) in enumerate(A_sci_ints_10.items()):\n",
    "    density = jnp.exp(jnp.array([models.logprior_NetworkSS(scale_spike=vals['scale_spike'],\n",
    "                                                           scale_slab=vals['scale_slab'],\n",
    "                                                           w_slab=vals['w_slab'],\n",
    "                                                           mean_slab=vals['mean_slab'],\n",
    "                                                           rho_lt=x) for x in x_axis]))\n",
    "    densities_geo_sci_sci.append(density)\n",
    "    ax.plot(density+A_sci_mids_10[A_ix], x_axis, alpha=0.3, c='gray')\n",
    "    \n",
    "ax.scatter(A_tril_sci, -rho_tril, s=18, linewidth=0.8, alpha=0.7, color='black', facecolors='none', label='partial correlations')\n",
    "#ax.set_xlim(-3,14)\n",
    "ax.set_xlim(-3,12)\n",
    "#ax.set_ylim(-0.5, 0.7)\n",
    "ax.set_ylim(-0.3, 0.7)\n",
    "ax.set_xlabel('Facebook Connectivity Index')\n",
    "ax.set_ylabel('Partial correlation (Network-SS)')\n",
    "\n",
    "plt.yticks(rotation = 90) \n",
    "plt.tight_layout()\n",
    "plt.savefig('COVID_SS_partial_corrs_SCI.pdf')\n",
    "\n",
    "plt.show()"
   ]
  },
  {
   "cell_type": "code",
   "execution_count": null,
   "metadata": {},
   "outputs": [],
   "source": [
    "fig, ax = plt.subplots(figsize=(5,4))\n",
    "\n",
    "with open(data_save_path +f'NetworkSS_geo_sci_2mcmc.sav', 'rb') as fr:\n",
    "    mcmc2_ss_geo_sci = pickle.load(fr)\n",
    "    \n",
    "x_axis = jnp.arange(-1,1,0.001)\n",
    "rho_tril = mcmc2_ss_geo_sci['all_samples']['rho_lt'].mean(0)\n",
    "\n",
    "densities_geo_sci_geo = []\n",
    "for A_ix, (A_k, vals) in enumerate(A_geo_ints_10.items()):\n",
    "    density = jnp.exp(jnp.array([models.logprior_NetworkSS(scale_spike=vals['scale_spike'],\n",
    "                                                           scale_slab=vals['scale_slab'],\n",
    "                                                           w_slab=vals['w_slab'],\n",
    "                                                           mean_slab=vals['mean_slab'],\n",
    "                                                           rho_lt=x) for x in x_axis]))\n",
    "    densities_geo_sci_geo.append(density)\n",
    "    ax.plot(density+A_geo_mids_10[A_ix], x_axis, alpha=0.3, c='gray')\n",
    "    \n",
    "ax.scatter(A_tril_geo, -rho_tril, s=18, linewidth=0.8, alpha=0.7, color='black', facecolors='none', label='partial correlations')\n",
    "#ax.set_xlim(-3,14)\n",
    "ax.set_xlim(-3,12)\n",
    "#ax.set_ylim(-0.5, 0.7)\n",
    "ax.set_ylim(-0.3, 0.7)\n",
    "ax.set_xlabel('Geographical Distance Network')\n",
    "ax.set_ylabel('Partial correlation (Network-SS)')\n",
    "\n",
    "plt.yticks(rotation = 90)\n",
    "plt.tight_layout()\n",
    "plt.savefig('COVID_SS_partial_corrs_GEO.pdf')\n",
    "\n",
    "plt.show()"
   ]
  }
 ],
 "metadata": {
  "kernelspec": {
   "display_name": "graph-network",
   "language": "python",
   "name": "python3"
  },
  "language_info": {
   "codemirror_mode": {
    "name": "ipython",
    "version": 3
   },
   "file_extension": ".py",
   "mimetype": "text/x-python",
   "name": "python",
   "nbconvert_exporter": "python",
   "pygments_lexer": "ipython3",
   "version": "3.7.12"
  },
  "toc": {
   "base_numbering": 1,
   "nav_menu": {},
   "number_sections": true,
   "sideBar": true,
   "skip_h1_title": false,
   "title_cell": "Table of Contents",
   "title_sidebar": "Contents",
   "toc_cell": false,
   "toc_position": {},
   "toc_section_display": true,
   "toc_window_display": false
  },
  "vscode": {
   "interpreter": {
    "hash": "03b2eb60b170c109875b9ba1d848c997ace1f0cf6b8810e867f9ab0576ac6645"
   }
  }
 },
 "nbformat": 4,
 "nbformat_minor": 4
}
