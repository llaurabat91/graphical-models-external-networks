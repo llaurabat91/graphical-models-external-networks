{
 "cells": [
  {
   "cell_type": "code",
   "execution_count": null,
   "metadata": {},
   "outputs": [],
   "source": [
    "import sys\n",
    "import os\n",
    "os.chdir('/home/usuario/Documents/Barcelona_Yr1/GraphicalModels_NetworkData/LiLicode/paper_code_github/')\n",
    "sys.path.append(\"/Network_Spike_and_Slab/numpyro/functions\")\n",
    "\n",
    "sim_data_path = './Data/Simulations/'\n",
    "data_save_path = './data/'"
   ]
  },
  {
   "cell_type": "code",
   "execution_count": null,
   "metadata": {},
   "outputs": [],
   "source": [
    "import models\n",
    "import my_utils"
   ]
  },
  {
   "cell_type": "code",
   "execution_count": null,
   "metadata": {
    "id": "eogcSYYbXHXX"
   },
   "outputs": [],
   "source": [
    "import pandas as pd\n",
    "import numpy as np\n",
    "import matplotlib.pyplot as plt\n",
    "import pickle\n",
    "from IPython.display import display\n",
    "from IPython.display import display_html "
   ]
  },
  {
   "cell_type": "code",
   "execution_count": null,
   "metadata": {
    "colab": {
     "base_uri": "https://localhost:8080/"
    },
    "id": "cjmzPepwXHXZ",
    "outputId": "af581e2a-fc7a-420e-dd5b-a2536ed1ceb7"
   },
   "outputs": [],
   "source": [
    "import jax\n",
    "import numpyro\n",
    "numpyro.set_platform('cpu')\n",
    "print(jax.lib.xla_bridge.get_backend().platform)\n",
    "import jax.numpy as jnp"
   ]
  },
  {
   "cell_type": "code",
   "execution_count": null,
   "metadata": {},
   "outputs": [],
   "source": [
    "n_sims = 2\n",
    "ps = [10, 50]\n",
    "n = 2000\n",
    "n_cuts = [100, 200, 500]"
   ]
  },
  {
   "cell_type": "markdown",
   "metadata": {},
   "source": [
    "# Compile results"
   ]
  },
  {
   "cell_type": "code",
   "execution_count": null,
   "metadata": {},
   "outputs": [],
   "source": [
    "outputs_2mcmc_all = {p:{} for p in ps}\n",
    "for p_ix, p in enumerate(ps):\n",
    "    for n_cut in n_cuts:\n",
    "        # 2nd MCMC\n",
    "        output_dict_glasso_ss = {\"TP\":[], \"FP\":[], \"TN\":[], \"FN\":[], \"TPR\":[], \"FPR\":[], \n",
    "                                 \"FNR\":[], \"FDiscR\":[], \"FNonDiscR\":[],\n",
    "                       \"TP_95\":[], \"FP_95\":[], \"TN_95\":[], \"FN_95\":[], \n",
    "                                 \"TPR_95\":[], \"FPR_95\":[], \"FNR_95\":[], \n",
    "                                 \"FDiscR_95\":[], \"FNonDiscR_95\":[],\n",
    "                       \"mse_theta\":[]}\n",
    "\n",
    "        output_dict_ss_85SEMI = {\"mse_theta\":[], \"TP\":[], \"FP\":[], \"TN\":[], \"FN\":[], \"TPR\":[], \"FPR\":[], \n",
    "                               \"FNR\":[], \"FDiscR\":[], \"FNonDiscR\":[],\n",
    "                                \"TP_95\":[], \"FP_95\":[], \"TN_95\":[], \"FN_95\":[],\n",
    "                               \"TPR_95\":[], \"FPR_95\":[], \"FNR_95\":[], \"FDiscR_95\":[], \"FNonDiscR_95\":[],}\n",
    "\n",
    "        output_dict_ss_SEMI = {\"mse_theta\":[], \"TP\":[], \"FP\":[], \"TN\":[], \"FN\":[], \"TPR\":[], \"FPR\":[], \n",
    "                                  \"FNR\":[], \"FDiscR\":[], \"FNonDiscR\":[], \n",
    "                                \"TP_95\":[], \"FP_95\":[], \"TN_95\":[], \"FN_95\":[],\n",
    "                                  \"TPR_95\":[], \"FPR_95\":[], \"FNR_95\":[], \n",
    "                                 \"FDiscR_95\":[], \"FNonDiscR_95\":[]}\n",
    "\n",
    "        output_dict_ss_INDEP = {\"mse_theta\":[], \"TP\":[], \"FP\":[], \"TN\":[], \"FN\":[], \"TPR\":[], \"FPR\":[], \n",
    "                                \"FNR\":[], \"FDiscR\":[], \"FNonDiscR\":[], \n",
    "                                \"TP_95\":[], \"FP_95\":[], \"TN_95\":[], \"FN_95\":[],\n",
    "                                \"TPR_95\":[], \"FPR_95\":[], \"FNR_95\":[], \n",
    "                               \"FDiscR_95\":[], \"FNonDiscR_95\":[]}\n",
    "\n",
    "        outputs = { \"SS\":output_dict_glasso_ss,\n",
    "                      \"NetworkSS_85SEMI\":output_dict_ss_85SEMI, \"NetworkSS_SEMI\":output_dict_ss_SEMI, \n",
    "                    \"NetworkSS_INDEP\":output_dict_ss_INDEP}\n",
    "\n",
    "        for s in range(n_sims):\n",
    "\n",
    "            with open(data_save_path + f'sim_SS_data/SS_{s}_p{p}_n{n_cut}_2mcmc.sav', 'rb') as fr:\n",
    "                res_glasso_ss = pickle.load(fr)\n",
    "\n",
    "            with open(data_save_path + f'sim_NetworkSS_data/NetworkSS_A85semi_{s}_p{p}_n{n_cut}_2mcmc.sav', 'rb') as fr:\n",
    "                res_ss_85SEMI = pickle.load(fr)\n",
    "            with open(data_save_path + f'sim_NetworkSS_data/NetworkSS_A75semi_{s}_p{p}_n{n_cut}_2mcmc.sav', 'rb') as fr:\n",
    "                res_ss_SEMI = pickle.load(fr)\n",
    "            with open(data_save_path + f'sim_NetworkSS_data/NetworkSS_Aindep_{s}_p{p}_n{n_cut}_2mcmc.sav', 'rb') as fr:\n",
    "                res_ss_INDEP = pickle.load(fr)\n",
    "\n",
    "\n",
    "            with open(sim_data_path + f'sim{s}_p{p}_n{n}.sav', 'rb') as fr:\n",
    "                sim_res = pickle.load(fr)\n",
    "\n",
    "            all_res = {\"SS\":res_glasso_ss,\n",
    "                      \"NetworkSS_85SEMI\":res_ss_85SEMI, \"NetworkSS_SEMI\":res_ss_SEMI, \"NetworkSS_INDEP\":res_ss_INDEP}\n",
    "            for i, res in all_res.items():\n",
    "\n",
    "\n",
    "                try:\n",
    "                    TP = res['TP']\n",
    "                    FP = res['FP']\n",
    "                    TN = res['TN']\n",
    "                    FN = res['FN']\n",
    "\n",
    "                    outputs[i][\"TP\"].append(TP)\n",
    "                    outputs[i][\"FP\"].append(FP)\n",
    "                    outputs[i][\"TN\"].append(TN)\n",
    "                    outputs[i][\"FN\"].append(FN)\n",
    "\n",
    "                    outputs[i][\"TPR\"].append(my_utils.get_TPR(TP,FN))\n",
    "                    outputs[i][\"FPR\"].append(my_utils.get_FPR(FP, TN))\n",
    "                    outputs[i][\"FNR\"].append(my_utils.get_FNR(FN=FN, TP=TP))\n",
    "                    try:\n",
    "                        outputs[i][\"FDiscR\"].append(my_utils.get_FDiscR(FP=FP, TP=TP))\n",
    "                    except:\n",
    "                        outputs[i][\"FDiscR\"].append(0)\n",
    "                    try:\n",
    "                        outputs[i][\"FNonDiscR\"].append(my_utils.get_FNonDiscR(TN=TN, FN=FN))\n",
    "                    except:\n",
    "                        outputs[i][\"FNonDiscR\"].append(0)\n",
    "\n",
    "                except:\n",
    "\n",
    "                    TP_5 = res['TP_5']\n",
    "                    FP_5 = res['FP_5']\n",
    "                    TN_5 = res['TN_5']\n",
    "                    FN_5 = res['FN_5']\n",
    "\n",
    "                    outputs[i][\"TP\"].append(TP_5)\n",
    "                    outputs[i][\"FP\"].append(FP_5)\n",
    "                    outputs[i][\"TN\"].append(TN_5)\n",
    "                    outputs[i][\"FN\"].append(FN_5)\n",
    "\n",
    "                    outputs[i][\"TPR\"].append(my_utils.get_TPR(TP=TP_5, FN=FN_5))\n",
    "                    outputs[i][\"FPR\"].append(my_utils.get_FPR(FP=FP_5, TN=TN_5))\n",
    "                    outputs[i][\"FNR\"].append(my_utils.get_FNR(FN=FN_5, TP=TP_5))\n",
    "                    try:\n",
    "                        outputs[i][\"FDiscR\"].append(my_utils.get_FDiscR(FP=FP_5, TP=TP_5))\n",
    "                    except:\n",
    "                        outputs[i][\"FDiscR\"].append(0)\n",
    "                    try:\n",
    "                        outputs[i][\"FNonDiscR\"].append(my_utils.get_FNonDiscR(TN=TN_5, FN=FN_5))\n",
    "                    except:\n",
    "                        outputs[i][\"FNonDiscR\"].append(0)\n",
    "\n",
    "                    TP_95 = res['TP_95']\n",
    "                    FP_95 = res['FP_95']\n",
    "                    TN_95 = res['TN_95']\n",
    "                    FN_95 = res['FN_95']\n",
    "\n",
    "                    outputs[i][\"TP_95\"].append(TP_95)\n",
    "                    outputs[i][\"FP_95\"].append(FP_95)\n",
    "                    outputs[i][\"TN_95\"].append(TN_95)\n",
    "                    outputs[i][\"FN_95\"].append(FN_95)\n",
    "\n",
    "                    outputs[i][\"TPR_95\"].append(my_utils.get_TPR(TP=TP_95, FN=FN_95))\n",
    "                    outputs[i][\"FPR_95\"].append(my_utils.get_FPR(FP=FP_95, TN=TN_95))\n",
    "                    outputs[i][\"FNR_95\"].append(my_utils.get_FNR(FN=FN_95, TP=TP_95))\n",
    "                    try:\n",
    "                        outputs[i][\"FDiscR_95\"].append(my_utils.get_FDiscR(FP=FP_95, TP=TP_95))\n",
    "                    except:\n",
    "                        outputs[i][\"FDiscR_95\"].append(0)\n",
    "                    try:\n",
    "                        outputs[i][\"FNonDiscR_95\"].append(my_utils.get_FNonDiscR(TN=TN_95, FN=FN_95))\n",
    "                    except:\n",
    "                        outputs[i][\"FNonDiscR_95\"].append(0)        \n",
    "\n",
    "                outputs[i][\"mse_theta\"].append(my_utils.get_MSE(res['all_samples'][\"theta\"].mean(0),\n",
    "                                                                sim_res[\"theta_true\"]))\n",
    "\n",
    "        outputs_2mcmc = outputs\n",
    "        outputs_2mcmc_all[p][n_cut] = outputs_2mcmc\n",
    "        "
   ]
  },
  {
   "cell_type": "markdown",
   "metadata": {},
   "source": [
    "# Summary for specific p, n_cut"
   ]
  },
  {
   "cell_type": "code",
   "execution_count": null,
   "metadata": {},
   "outputs": [],
   "source": [
    "p = 10\n",
    "n_cut = 100\n",
    "\n",
    "outputs_2mcmc = outputs_2mcmc_all[p][n_cut]"
   ]
  },
  {
   "cell_type": "code",
   "execution_count": null,
   "metadata": {},
   "outputs": [],
   "source": [
    "cols = ['mse_theta', 'TP_95', 'TN_95', 'FP_95', 'FN_95', \n",
    "        \"TPR_95\",\"FPR_95\", \"FNR_95\", \n",
    "         \"FDiscR_95\", \"FNonDiscR_95\"]\n",
    "\n",
    "res_dict_2mcmc = {\"SS\":[],\n",
    "              \"NetworkSS_85SEMI\":[], \"NetworkSS_SEMI\":[], \"NetworkSS_INDEP\":[]}\n",
    "\n",
    "\n",
    "for k, output in outputs_2mcmc.items():\n",
    "    for col in cols:\n",
    "        try:\n",
    "            res_dict_2mcmc[k].append(round(jnp.array(output[col]).mean(0),3))\n",
    "        except:\n",
    "            res_dict_2mcmc[k].append(np.nan)"
   ]
  },
  {
   "cell_type": "markdown",
   "metadata": {},
   "source": [
    "### *Results for 2 MCMC*"
   ]
  },
  {
   "cell_type": "code",
   "execution_count": null,
   "metadata": {},
   "outputs": [],
   "source": [
    "pd.DataFrame.from_dict(res_dict_2mcmc, orient='index', columns=cols).loc[['SS', 'NetworkSS_85SEMI',\n",
    "                                                                        'NetworkSS_SEMI', 'NetworkSS_INDEP']]"
   ]
  }
 ],
 "metadata": {
  "kernelspec": {
   "display_name": "Python 3",
   "language": "python",
   "name": "python3"
  },
  "language_info": {
   "codemirror_mode": {
    "name": "ipython",
    "version": 3
   },
   "file_extension": ".py",
   "mimetype": "text/x-python",
   "name": "python",
   "nbconvert_exporter": "python",
   "pygments_lexer": "ipython3",
   "version": "3.8.8"
  },
  "toc": {
   "base_numbering": 1,
   "nav_menu": {},
   "number_sections": false,
   "sideBar": true,
   "skip_h1_title": false,
   "title_cell": "Table of Contents",
   "title_sidebar": "Contents",
   "toc_cell": false,
   "toc_position": {
    "height": "calc(100% - 180px)",
    "left": "10px",
    "top": "150px",
    "width": "165px"
   },
   "toc_section_display": true,
   "toc_window_display": false
  }
 },
 "nbformat": 4,
 "nbformat_minor": 4
}
