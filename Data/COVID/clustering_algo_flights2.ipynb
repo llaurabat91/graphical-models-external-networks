{
 "cells": [
  {
   "cell_type": "code",
   "execution_count": 1,
   "metadata": {},
   "outputs": [],
   "source": [
    "import numpy as np\n",
    "import pandas as pd\n",
    "import rpy2.robjects as ro\n",
    "from rpy2.robjects.packages import importr\n",
    "from rpy2.robjects import pandas2ri\n",
    "from rpy2.robjects.conversion import localconverter\n",
    "import os"
   ]
  },
  {
   "cell_type": "code",
   "execution_count": 2,
   "metadata": {},
   "outputs": [],
   "source": [
    "# paths\n",
    "raw_path = '/home/usuario/Documents/Barcelona_Yr1/GraphicalModels_NetworkData/LiLicode/COVID_DATA/'\n",
    "flight_data_path_root = '/home/usuario/Documents/Barcelona_Yr1/GraphicalModels_NetworkData/LiLicode/COVID_DATA/flight_compatible_data/YabraFlightData/'\n",
    "save_path_root = '/home/usuario/Documents/Barcelona_Yr1/GraphicalModels_NetworkData/LiLicode/COVID_DATA/flight_compatible_data/'"
   ]
  },
  {
   "cell_type": "markdown",
   "metadata": {},
   "source": [
    "# Data preprocessing (missing merging FIPS with available FB data)"
   ]
  },
  {
   "cell_type": "code",
   "execution_count": 3,
   "metadata": {},
   "outputs": [],
   "source": [
    "nodes = pd.read_csv(raw_path+'nodes118.csv', index_col='Unnamed: 0')"
   ]
  },
  {
   "cell_type": "code",
   "execution_count": 4,
   "metadata": {},
   "outputs": [],
   "source": [
    "area = pd.read_excel(raw_path+'US County Area.xlsx')\n",
    "area['NAME'] = area.NAME.apply(lambda x: x.lower())"
   ]
  },
  {
   "cell_type": "code",
   "execution_count": 5,
   "metadata": {},
   "outputs": [],
   "source": [
    "fips = pd.read_csv(raw_path+'FIPS code.csv')\n",
    "fips['name'] = fips.name.apply(lambda x: x.lower())"
   ]
  },
  {
   "cell_type": "code",
   "execution_count": 6,
   "metadata": {},
   "outputs": [],
   "source": [
    "pop = pd.read_excel(raw_path+'2019 Population2.xlsx')\n",
    "pop['name'] = pop.name.apply(lambda x: x.lstrip('.').lower())\n",
    "\n",
    "# split name into county name and state\n",
    "pop[['countyname', 'State']] = pop['name'].str.split(',', 1, expand=True)\n",
    "pop['State'] = pop.State.apply(lambda x: x.lstrip(' '))"
   ]
  },
  {
   "cell_type": "code",
   "execution_count": 7,
   "metadata": {},
   "outputs": [
    {
     "data": {
      "text/html": [
       "<div>\n",
       "<style scoped>\n",
       "    .dataframe tbody tr th:only-of-type {\n",
       "        vertical-align: middle;\n",
       "    }\n",
       "\n",
       "    .dataframe tbody tr th {\n",
       "        vertical-align: top;\n",
       "    }\n",
       "\n",
       "    .dataframe thead th {\n",
       "        text-align: right;\n",
       "    }\n",
       "</style>\n",
       "<table border=\"1\" class=\"dataframe\">\n",
       "  <thead>\n",
       "    <tr style=\"text-align: right;\">\n",
       "      <th></th>\n",
       "      <th>name</th>\n",
       "      <th>Population</th>\n",
       "      <th>countyname</th>\n",
       "      <th>State</th>\n",
       "    </tr>\n",
       "  </thead>\n",
       "  <tbody>\n",
       "    <tr>\n",
       "      <th>0</th>\n",
       "      <td>los angeles county, california</td>\n",
       "      <td>10039107</td>\n",
       "      <td>los angeles county</td>\n",
       "      <td>california</td>\n",
       "    </tr>\n",
       "    <tr>\n",
       "      <th>1</th>\n",
       "      <td>cook county, illinois</td>\n",
       "      <td>5150233</td>\n",
       "      <td>cook county</td>\n",
       "      <td>illinois</td>\n",
       "    </tr>\n",
       "    <tr>\n",
       "      <th>2</th>\n",
       "      <td>harris county, texas</td>\n",
       "      <td>4713325</td>\n",
       "      <td>harris county</td>\n",
       "      <td>texas</td>\n",
       "    </tr>\n",
       "    <tr>\n",
       "      <th>3</th>\n",
       "      <td>maricopa county, arizona</td>\n",
       "      <td>4485414</td>\n",
       "      <td>maricopa county</td>\n",
       "      <td>arizona</td>\n",
       "    </tr>\n",
       "    <tr>\n",
       "      <th>4</th>\n",
       "      <td>san diego county, california</td>\n",
       "      <td>3338330</td>\n",
       "      <td>san diego county</td>\n",
       "      <td>california</td>\n",
       "    </tr>\n",
       "  </tbody>\n",
       "</table>\n",
       "</div>"
      ],
      "text/plain": [
       "                             name  Population          countyname       State\n",
       "0  los angeles county, california    10039107  los angeles county  california\n",
       "1           cook county, illinois     5150233         cook county    illinois\n",
       "2            harris county, texas     4713325       harris county       texas\n",
       "3        maricopa county, arizona     4485414     maricopa county     arizona\n",
       "4    san diego county, california     3338330    san diego county  california"
      ]
     },
     "execution_count": 7,
     "metadata": {},
     "output_type": "execute_result"
    }
   ],
   "source": [
    "pop = pop.drop(['Unnamed: 2','Unnamed: 3'], axis = 1)\n",
    "pop.head()"
   ]
  },
  {
   "cell_type": "code",
   "execution_count": 8,
   "metadata": {},
   "outputs": [],
   "source": [
    "# merge population with FIPS by name\n",
    "popcode = pop.merge(fips, left_on='name', right_on='name', how='left')"
   ]
  },
  {
   "cell_type": "code",
   "execution_count": 9,
   "metadata": {},
   "outputs": [
    {
     "data": {
      "text/html": [
       "<div>\n",
       "<style scoped>\n",
       "    .dataframe tbody tr th:only-of-type {\n",
       "        vertical-align: middle;\n",
       "    }\n",
       "\n",
       "    .dataframe tbody tr th {\n",
       "        vertical-align: top;\n",
       "    }\n",
       "\n",
       "    .dataframe thead th {\n",
       "        text-align: right;\n",
       "    }\n",
       "</style>\n",
       "<table border=\"1\" class=\"dataframe\">\n",
       "  <thead>\n",
       "    <tr style=\"text-align: right;\">\n",
       "      <th></th>\n",
       "      <th>name</th>\n",
       "      <th>Population</th>\n",
       "      <th>countyname</th>\n",
       "      <th>State</th>\n",
       "      <th>code</th>\n",
       "    </tr>\n",
       "  </thead>\n",
       "  <tbody>\n",
       "    <tr>\n",
       "      <th>394</th>\n",
       "      <td>maui county, hawaii</td>\n",
       "      <td>167417</td>\n",
       "      <td>maui county</td>\n",
       "      <td>hawaii</td>\n",
       "      <td>NaN</td>\n",
       "    </tr>\n",
       "    <tr>\n",
       "      <th>2178</th>\n",
       "      <td>o'brien county, iowa</td>\n",
       "      <td>13753</td>\n",
       "      <td>o'brien county</td>\n",
       "      <td>iowa</td>\n",
       "      <td>NaN</td>\n",
       "    </tr>\n",
       "    <tr>\n",
       "      <th>3143</th>\n",
       "      <td>kalawao county, hawaii</td>\n",
       "      <td>86</td>\n",
       "      <td>kalawao county</td>\n",
       "      <td>hawaii</td>\n",
       "      <td>NaN</td>\n",
       "    </tr>\n",
       "  </tbody>\n",
       "</table>\n",
       "</div>"
      ],
      "text/plain": [
       "                        name  Population      countyname   State code\n",
       "394      maui county, hawaii      167417     maui county  hawaii  NaN\n",
       "2178    o'brien county, iowa       13753  o'brien county    iowa  NaN\n",
       "3143  kalawao county, hawaii          86  kalawao county  hawaii  NaN"
      ]
     },
     "execution_count": 9,
     "metadata": {},
     "output_type": "execute_result"
    }
   ],
   "source": [
    "# manual fixing where merging failed\n",
    "popcode[popcode.code.isna()]"
   ]
  },
  {
   "cell_type": "code",
   "execution_count": 10,
   "metadata": {},
   "outputs": [],
   "source": [
    "# 1: filling with \"maui\" from area (in fips maui is merged with kalawao under maui FIPS code)\n",
    "popcode.loc[popcode['name'].str.contains('maui'), 'code'] = area[area['NAME'].str.contains('maui')]['GEOID'].values"
   ]
  },
  {
   "cell_type": "code",
   "execution_count": 11,
   "metadata": {},
   "outputs": [],
   "source": [
    "# 2: filling with \"obrien\" from fips (without apostrophe)\n",
    "popcode.loc[popcode['name'].str.contains('brien'), 'code'] = fips[fips['name'].str.contains('brien')]['code'].values"
   ]
  },
  {
   "cell_type": "code",
   "execution_count": 12,
   "metadata": {},
   "outputs": [],
   "source": [
    "# 3: filling with \"kalawao\" from area (in fips maui is merged with kalawao under maui FIPS code)\n",
    "popcode.loc[popcode['name'].str.contains('kalawao'), 'code'] = area[area['NAME'].str.contains('kalawao')]['GEOID'].values"
   ]
  },
  {
   "cell_type": "code",
   "execution_count": 13,
   "metadata": {},
   "outputs": [],
   "source": [
    "popcode = popcode.reset_index(drop=True).copy()\n",
    "popcode['code'] = popcode['code'].astype(int).copy()"
   ]
  },
  {
   "cell_type": "code",
   "execution_count": 14,
   "metadata": {},
   "outputs": [],
   "source": [
    "# merge with longitude and latitude from area\n",
    "df = popcode.merge(area, left_on='code', right_on='GEOID', how='left')"
   ]
  },
  {
   "cell_type": "code",
   "execution_count": 15,
   "metadata": {},
   "outputs": [
    {
     "data": {
      "text/html": [
       "<div>\n",
       "<style scoped>\n",
       "    .dataframe tbody tr th:only-of-type {\n",
       "        vertical-align: middle;\n",
       "    }\n",
       "\n",
       "    .dataframe tbody tr th {\n",
       "        vertical-align: top;\n",
       "    }\n",
       "\n",
       "    .dataframe thead th {\n",
       "        text-align: right;\n",
       "    }\n",
       "</style>\n",
       "<table border=\"1\" class=\"dataframe\">\n",
       "  <thead>\n",
       "    <tr style=\"text-align: right;\">\n",
       "      <th></th>\n",
       "      <th>name</th>\n",
       "      <th>Population</th>\n",
       "      <th>countyname</th>\n",
       "      <th>State</th>\n",
       "      <th>code</th>\n",
       "      <th>GEOID</th>\n",
       "      <th>COUNTYNS</th>\n",
       "      <th>BASENAME</th>\n",
       "      <th>NAME</th>\n",
       "      <th>AREALAND</th>\n",
       "      <th>AREAWATER</th>\n",
       "      <th>CSA</th>\n",
       "      <th>CBSA</th>\n",
       "      <th>CENTLAT</th>\n",
       "      <th>CENTLON</th>\n",
       "      <th>INTPTLAT</th>\n",
       "      <th>INTPTLON</th>\n",
       "    </tr>\n",
       "  </thead>\n",
       "  <tbody>\n",
       "    <tr>\n",
       "      <th>1928</th>\n",
       "      <td>ste. genevieve county, missouri</td>\n",
       "      <td>17894</td>\n",
       "      <td>ste. genevieve county</td>\n",
       "      <td>missouri</td>\n",
       "      <td>29193</td>\n",
       "      <td>NaN</td>\n",
       "      <td>NaN</td>\n",
       "      <td>NaN</td>\n",
       "      <td>NaN</td>\n",
       "      <td>NaN</td>\n",
       "      <td>NaN</td>\n",
       "      <td>NaN</td>\n",
       "      <td>NaN</td>\n",
       "      <td>NaN</td>\n",
       "      <td>NaN</td>\n",
       "      <td>NaN</td>\n",
       "      <td>NaN</td>\n",
       "    </tr>\n",
       "    <tr>\n",
       "      <th>2003</th>\n",
       "      <td>park county, montana</td>\n",
       "      <td>16606</td>\n",
       "      <td>park county</td>\n",
       "      <td>montana</td>\n",
       "      <td>30901</td>\n",
       "      <td>NaN</td>\n",
       "      <td>NaN</td>\n",
       "      <td>NaN</td>\n",
       "      <td>NaN</td>\n",
       "      <td>NaN</td>\n",
       "      <td>NaN</td>\n",
       "      <td>NaN</td>\n",
       "      <td>NaN</td>\n",
       "      <td>NaN</td>\n",
       "      <td>NaN</td>\n",
       "      <td>NaN</td>\n",
       "      <td>NaN</td>\n",
       "    </tr>\n",
       "    <tr>\n",
       "      <th>2484</th>\n",
       "      <td>valdez-cordova census area, alaska</td>\n",
       "      <td>9202</td>\n",
       "      <td>valdez-cordova census area</td>\n",
       "      <td>alaska</td>\n",
       "      <td>2261</td>\n",
       "      <td>NaN</td>\n",
       "      <td>NaN</td>\n",
       "      <td>NaN</td>\n",
       "      <td>NaN</td>\n",
       "      <td>NaN</td>\n",
       "      <td>NaN</td>\n",
       "      <td>NaN</td>\n",
       "      <td>NaN</td>\n",
       "      <td>NaN</td>\n",
       "      <td>NaN</td>\n",
       "      <td>NaN</td>\n",
       "      <td>NaN</td>\n",
       "    </tr>\n",
       "  </tbody>\n",
       "</table>\n",
       "</div>"
      ],
      "text/plain": [
       "                                    name  Population  \\\n",
       "1928     ste. genevieve county, missouri       17894   \n",
       "2003                park county, montana       16606   \n",
       "2484  valdez-cordova census area, alaska        9202   \n",
       "\n",
       "                      countyname     State   code  GEOID  COUNTYNS BASENAME  \\\n",
       "1928       ste. genevieve county  missouri  29193    NaN       NaN      NaN   \n",
       "2003                 park county   montana  30901    NaN       NaN      NaN   \n",
       "2484  valdez-cordova census area    alaska   2261    NaN       NaN      NaN   \n",
       "\n",
       "     NAME  AREALAND  AREAWATER  CSA  CBSA  CENTLAT  CENTLON  INTPTLAT  \\\n",
       "1928  NaN       NaN        NaN  NaN   NaN      NaN      NaN       NaN   \n",
       "2003  NaN       NaN        NaN  NaN   NaN      NaN      NaN       NaN   \n",
       "2484  NaN       NaN        NaN  NaN   NaN      NaN      NaN       NaN   \n",
       "\n",
       "      INTPTLON  \n",
       "1928       NaN  \n",
       "2003       NaN  \n",
       "2484       NaN  "
      ]
     },
     "execution_count": 15,
     "metadata": {},
     "output_type": "execute_result"
    }
   ],
   "source": [
    "# long and lat missing for these three, dropping them\n",
    "df[df.GEOID.isna()]"
   ]
  },
  {
   "cell_type": "code",
   "execution_count": 16,
   "metadata": {},
   "outputs": [
    {
     "data": {
      "text/plain": [
       "(3141, 17)"
      ]
     },
     "execution_count": 16,
     "metadata": {},
     "output_type": "execute_result"
    }
   ],
   "source": [
    "df = df.dropna(subset=['GEOID']).reset_index(drop=True).copy()\n",
    "df.rename(columns={'code':'FIPS'}, inplace=True)\n",
    "df.shape"
   ]
  },
  {
   "cell_type": "markdown",
   "metadata": {},
   "source": [
    "# Load Data preprocessed in R"
   ]
  },
  {
   "cell_type": "code",
   "execution_count": 17,
   "metadata": {},
   "outputs": [],
   "source": [
    "daily = pd.read_csv(raw_path+'myfinal_daily_temp_ALL.csv')"
   ]
  },
  {
   "cell_type": "code",
   "execution_count": 18,
   "metadata": {},
   "outputs": [],
   "source": [
    "flights = pd.read_csv(flight_data_path_root+'county_flows_people.csv')## includes caapcity\n",
    "#flights = pd.read_csv(flight_data_path_root+'county_flows_flights.csv')## doesn't include capacity "
   ]
  },
  {
   "cell_type": "code",
   "execution_count": 19,
   "metadata": {},
   "outputs": [],
   "source": [
    "fips_to_id = daily[['ID', 'FIPS']].drop_duplicates().reset_index(drop=True).copy()"
   ]
  },
  {
   "cell_type": "code",
   "execution_count": 20,
   "metadata": {},
   "outputs": [],
   "source": [
    "fips_to_id_dict = {k:v for k,v in zip(fips_to_id['FIPS'].values, fips_to_id['ID'].values)}"
   ]
  },
  {
   "cell_type": "code",
   "execution_count": 21,
   "metadata": {},
   "outputs": [
    {
     "data": {
      "text/plain": [
       "3144"
      ]
     },
     "execution_count": 21,
     "metadata": {},
     "output_type": "execute_result"
    }
   ],
   "source": [
    "# sort of manual merge as I need to match 2 columns (county_origin, county_destination) to one column (FIPS)\n",
    "fips_flights = np.unique(list(flights['county_origin'].unique()) + list(flights['county_destination'].unique()))\n",
    "len(fips_flights)"
   ]
  },
  {
   "cell_type": "code",
   "execution_count": 22,
   "metadata": {},
   "outputs": [],
   "source": [
    "# fips in flights but not in daily\n",
    "todrop_flights = list(set(fips_flights) - set(fips_to_id['FIPS'].values))"
   ]
  },
  {
   "cell_type": "code",
   "execution_count": 23,
   "metadata": {},
   "outputs": [],
   "source": [
    "# fips in daily but not in flights (connecticut)\n",
    "todrop_daily = list(set(fips_to_id['FIPS'].values) - set(fips_flights))"
   ]
  },
  {
   "cell_type": "code",
   "execution_count": 24,
   "metadata": {},
   "outputs": [],
   "source": [
    "todrop_daily_IDs = [fips_to_id_dict[t] for t in todrop_daily]"
   ]
  },
  {
   "cell_type": "code",
   "execution_count": 25,
   "metadata": {},
   "outputs": [
    {
     "name": "stdout",
     "output_type": "stream",
     "text": [
      "(9881592, 3)\n",
      "(9834447, 3)\n"
     ]
    },
    {
     "data": {
      "text/html": [
       "<div>\n",
       "<style scoped>\n",
       "    .dataframe tbody tr th:only-of-type {\n",
       "        vertical-align: middle;\n",
       "    }\n",
       "\n",
       "    .dataframe tbody tr th {\n",
       "        vertical-align: top;\n",
       "    }\n",
       "\n",
       "    .dataframe thead th {\n",
       "        text-align: right;\n",
       "    }\n",
       "</style>\n",
       "<table border=\"1\" class=\"dataframe\">\n",
       "  <thead>\n",
       "    <tr style=\"text-align: right;\">\n",
       "      <th></th>\n",
       "      <th>county_origin</th>\n",
       "      <th>county_destination</th>\n",
       "      <th>flow</th>\n",
       "    </tr>\n",
       "  </thead>\n",
       "  <tbody>\n",
       "    <tr>\n",
       "      <th>0</th>\n",
       "      <td>1001</td>\n",
       "      <td>1003</td>\n",
       "      <td>0.000000</td>\n",
       "    </tr>\n",
       "    <tr>\n",
       "      <th>1</th>\n",
       "      <td>1001</td>\n",
       "      <td>1005</td>\n",
       "      <td>0.000000</td>\n",
       "    </tr>\n",
       "    <tr>\n",
       "      <th>2</th>\n",
       "      <td>1001</td>\n",
       "      <td>1007</td>\n",
       "      <td>0.152283</td>\n",
       "    </tr>\n",
       "    <tr>\n",
       "      <th>3</th>\n",
       "      <td>1001</td>\n",
       "      <td>1009</td>\n",
       "      <td>0.403788</td>\n",
       "    </tr>\n",
       "    <tr>\n",
       "      <th>4</th>\n",
       "      <td>1001</td>\n",
       "      <td>1011</td>\n",
       "      <td>0.000000</td>\n",
       "    </tr>\n",
       "    <tr>\n",
       "      <th>...</th>\n",
       "      <td>...</td>\n",
       "      <td>...</td>\n",
       "      <td>...</td>\n",
       "    </tr>\n",
       "    <tr>\n",
       "      <th>9881587</th>\n",
       "      <td>56045</td>\n",
       "      <td>56035</td>\n",
       "      <td>0.000000</td>\n",
       "    </tr>\n",
       "    <tr>\n",
       "      <th>9881588</th>\n",
       "      <td>56045</td>\n",
       "      <td>56037</td>\n",
       "      <td>0.000000</td>\n",
       "    </tr>\n",
       "    <tr>\n",
       "      <th>9881589</th>\n",
       "      <td>56045</td>\n",
       "      <td>56039</td>\n",
       "      <td>0.000000</td>\n",
       "    </tr>\n",
       "    <tr>\n",
       "      <th>9881590</th>\n",
       "      <td>56045</td>\n",
       "      <td>56041</td>\n",
       "      <td>0.000000</td>\n",
       "    </tr>\n",
       "    <tr>\n",
       "      <th>9881591</th>\n",
       "      <td>56045</td>\n",
       "      <td>56043</td>\n",
       "      <td>0.000000</td>\n",
       "    </tr>\n",
       "  </tbody>\n",
       "</table>\n",
       "<p>9787512 rows × 3 columns</p>\n",
       "</div>"
      ],
      "text/plain": [
       "         county_origin  county_destination      flow\n",
       "0                 1001                1003  0.000000\n",
       "1                 1001                1005  0.000000\n",
       "2                 1001                1007  0.152283\n",
       "3                 1001                1009  0.403788\n",
       "4                 1001                1011  0.000000\n",
       "...                ...                 ...       ...\n",
       "9881587          56045               56035  0.000000\n",
       "9881588          56045               56037  0.000000\n",
       "9881589          56045               56039  0.000000\n",
       "9881590          56045               56041  0.000000\n",
       "9881591          56045               56043  0.000000\n",
       "\n",
       "[9787512 rows x 3 columns]"
      ]
     },
     "execution_count": 25,
     "metadata": {},
     "output_type": "execute_result"
    }
   ],
   "source": [
    "print(flights.shape)\n",
    "flights = flights[~flights.county_origin.isin(todrop_flights)].copy()\n",
    "print(flights.shape)\n",
    "flights = flights[~flights.county_destination.isin(todrop_flights)].copy()\n",
    "flights"
   ]
  },
  {
   "cell_type": "code",
   "execution_count": 26,
   "metadata": {},
   "outputs": [
    {
     "name": "stdout",
     "output_type": "stream",
     "text": [
      "(3137, 2)\n",
      "(3129, 2)\n"
     ]
    }
   ],
   "source": [
    "print(fips_to_id.shape)\n",
    "fips_to_id = fips_to_id[~fips_to_id.FIPS.isin(todrop_daily)].copy()\n",
    "print(fips_to_id.shape)"
   ]
  },
  {
   "cell_type": "code",
   "execution_count": 27,
   "metadata": {},
   "outputs": [],
   "source": [
    "# merge with IDs"
   ]
  },
  {
   "cell_type": "code",
   "execution_count": 28,
   "metadata": {},
   "outputs": [],
   "source": [
    "flights = flights.merge(fips_to_id, left_on='county_origin', right_on='FIPS', how='inner').copy()\n",
    "flights.columns = ['county_origin', 'county_destination', 'flow', 'ID_origin', 'FIPS_origin']"
   ]
  },
  {
   "cell_type": "code",
   "execution_count": 29,
   "metadata": {},
   "outputs": [],
   "source": [
    "flights = flights.merge(fips_to_id, left_on='county_destination', right_on='FIPS', how='inner').copy()\n",
    "flights.columns = ['county_origin', 'county_destination', 'flow', 'ID_origin', 'FIPS_origin', 'ID_destination', 'FIPS_destination']\n"
   ]
  },
  {
   "cell_type": "code",
   "execution_count": 30,
   "metadata": {},
   "outputs": [
    {
     "name": "stdout",
     "output_type": "stream",
     "text": [
      "CPU times: user 1min 22s, sys: 662 ms, total: 1min 23s\n",
      "Wall time: 1min 23s\n"
     ]
    }
   ],
   "source": [
    "%%time\n",
    "flights['ID_o-d'] = flights.apply(lambda x:  '-'.join([str(i)\n",
    "                                   for i in sorted([x['ID_origin']] + [x['ID_destination']])]),\n",
    "              axis=1)"
   ]
  },
  {
   "cell_type": "code",
   "execution_count": 31,
   "metadata": {},
   "outputs": [
    {
     "name": "stdout",
     "output_type": "stream",
     "text": [
      "CPU times: user 9.48 s, sys: 160 ms, total: 9.64 s\n",
      "Wall time: 9.63 s\n"
     ]
    }
   ],
   "source": [
    "%%time\n",
    "flights_undir = flights.groupby('ID_o-d')[['flow']].sum().reset_index().copy()"
   ]
  },
  {
   "cell_type": "code",
   "execution_count": 32,
   "metadata": {},
   "outputs": [
    {
     "name": "stdout",
     "output_type": "stream",
     "text": [
      "CPU times: user 35.2 s, sys: 252 ms, total: 35.4 s\n",
      "Wall time: 35.4 s\n"
     ]
    }
   ],
   "source": [
    "%%time\n",
    "flights_undir['ID_a'] = flights_undir.apply(lambda x: int(x['ID_o-d'][:x['ID_o-d'].find('.')]), axis=1)"
   ]
  },
  {
   "cell_type": "code",
   "execution_count": 33,
   "metadata": {},
   "outputs": [
    {
     "name": "stdout",
     "output_type": "stream",
     "text": [
      "CPU times: user 36.2 s, sys: 272 ms, total: 36.5 s\n",
      "Wall time: 36.5 s\n"
     ]
    }
   ],
   "source": [
    "%%time\n",
    "flights_undir['ID_b'] = flights_undir.apply(lambda x: int(x['ID_o-d'][x['ID_o-d'].find('-')+1:-2]), axis=1)"
   ]
  },
  {
   "cell_type": "code",
   "execution_count": 34,
   "metadata": {},
   "outputs": [
    {
     "data": {
      "text/plain": [
       "0"
      ]
     },
     "execution_count": 34,
     "metadata": {},
     "output_type": "execute_result"
    }
   ],
   "source": [
    "(flights_undir['ID_a']==flights_undir['ID_b']).sum()"
   ]
  },
  {
   "cell_type": "code",
   "execution_count": 35,
   "metadata": {},
   "outputs": [
    {
     "data": {
      "text/plain": [
       "0"
      ]
     },
     "execution_count": 35,
     "metadata": {},
     "output_type": "execute_result"
    }
   ],
   "source": [
    "(flights_undir['ID_a']>flights_undir['ID_b']).sum()"
   ]
  },
  {
   "cell_type": "code",
   "execution_count": 36,
   "metadata": {},
   "outputs": [
    {
     "data": {
      "text/html": [
       "<div>\n",
       "<style scoped>\n",
       "    .dataframe tbody tr th:only-of-type {\n",
       "        vertical-align: middle;\n",
       "    }\n",
       "\n",
       "    .dataframe tbody tr th {\n",
       "        vertical-align: top;\n",
       "    }\n",
       "\n",
       "    .dataframe thead th {\n",
       "        text-align: right;\n",
       "    }\n",
       "</style>\n",
       "<table border=\"1\" class=\"dataframe\">\n",
       "  <thead>\n",
       "    <tr style=\"text-align: right;\">\n",
       "      <th></th>\n",
       "      <th>flow</th>\n",
       "      <th>ID_a</th>\n",
       "      <th>ID_b</th>\n",
       "    </tr>\n",
       "  </thead>\n",
       "  <tbody>\n",
       "    <tr>\n",
       "      <th>0</th>\n",
       "      <td>39362.434013</td>\n",
       "      <td>1</td>\n",
       "      <td>10</td>\n",
       "    </tr>\n",
       "    <tr>\n",
       "      <th>1</th>\n",
       "      <td>178807.062313</td>\n",
       "      <td>1</td>\n",
       "      <td>100</td>\n",
       "    </tr>\n",
       "    <tr>\n",
       "      <th>2</th>\n",
       "      <td>0.000000</td>\n",
       "      <td>1</td>\n",
       "      <td>1000</td>\n",
       "    </tr>\n",
       "    <tr>\n",
       "      <th>3</th>\n",
       "      <td>0.000000</td>\n",
       "      <td>1</td>\n",
       "      <td>1001</td>\n",
       "    </tr>\n",
       "    <tr>\n",
       "      <th>4</th>\n",
       "      <td>0.000000</td>\n",
       "      <td>1</td>\n",
       "      <td>1002</td>\n",
       "    </tr>\n",
       "    <tr>\n",
       "      <th>...</th>\n",
       "      <td>...</td>\n",
       "      <td>...</td>\n",
       "      <td>...</td>\n",
       "    </tr>\n",
       "    <tr>\n",
       "      <th>4893751</th>\n",
       "      <td>0.000000</td>\n",
       "      <td>999</td>\n",
       "      <td>3139</td>\n",
       "    </tr>\n",
       "    <tr>\n",
       "      <th>4893752</th>\n",
       "      <td>0.000000</td>\n",
       "      <td>999</td>\n",
       "      <td>3140</td>\n",
       "    </tr>\n",
       "    <tr>\n",
       "      <th>4893753</th>\n",
       "      <td>0.000000</td>\n",
       "      <td>999</td>\n",
       "      <td>3141</td>\n",
       "    </tr>\n",
       "    <tr>\n",
       "      <th>4893754</th>\n",
       "      <td>0.000000</td>\n",
       "      <td>999</td>\n",
       "      <td>3142</td>\n",
       "    </tr>\n",
       "    <tr>\n",
       "      <th>4893755</th>\n",
       "      <td>0.000000</td>\n",
       "      <td>999</td>\n",
       "      <td>3143</td>\n",
       "    </tr>\n",
       "  </tbody>\n",
       "</table>\n",
       "<p>4893756 rows × 3 columns</p>\n",
       "</div>"
      ],
      "text/plain": [
       "                  flow  ID_a  ID_b\n",
       "0         39362.434013     1    10\n",
       "1        178807.062313     1   100\n",
       "2             0.000000     1  1000\n",
       "3             0.000000     1  1001\n",
       "4             0.000000     1  1002\n",
       "...                ...   ...   ...\n",
       "4893751       0.000000   999  3139\n",
       "4893752       0.000000   999  3140\n",
       "4893753       0.000000   999  3141\n",
       "4893754       0.000000   999  3142\n",
       "4893755       0.000000   999  3143\n",
       "\n",
       "[4893756 rows x 3 columns]"
      ]
     },
     "execution_count": 36,
     "metadata": {},
     "output_type": "execute_result"
    }
   ],
   "source": [
    "flights_undir.drop(['ID_o-d'], axis=1, inplace=True)\n",
    "flights_undir"
   ]
  },
  {
   "cell_type": "code",
   "execution_count": 37,
   "metadata": {},
   "outputs": [
    {
     "name": "stdout",
     "output_type": "stream",
     "text": [
      "CPU times: user 1.19 s, sys: 272 ms, total: 1.46 s\n",
      "Wall time: 1.46 s\n"
     ]
    }
   ],
   "source": [
    "%%time\n",
    "flights_adj_mat = pd.crosstab(flights_undir['ID_a'], \n",
    "                              flights_undir['ID_b'], \n",
    "                              values=flights_undir['flow'], \n",
    "                              aggfunc='sum', dropna=False)\n"
   ]
  },
  {
   "cell_type": "code",
   "execution_count": 38,
   "metadata": {},
   "outputs": [],
   "source": [
    "flights_adj_mat.loc[3143] = len(flights_adj_mat.index)*[np.nan]"
   ]
  },
  {
   "cell_type": "code",
   "execution_count": 39,
   "metadata": {},
   "outputs": [],
   "source": [
    "flights_adj_mat.loc[:,1] = len(flights_adj_mat.index)*[np.nan]"
   ]
  },
  {
   "cell_type": "code",
   "execution_count": 40,
   "metadata": {},
   "outputs": [],
   "source": [
    "flights_adj_mat = flights_adj_mat[sorted(flights_adj_mat.columns)]"
   ]
  },
  {
   "cell_type": "code",
   "execution_count": 41,
   "metadata": {},
   "outputs": [],
   "source": [
    "flights_adj_mat = (flights_adj_mat.fillna(0.0).T + flights_adj_mat.fillna(0.0)).copy()"
   ]
  },
  {
   "cell_type": "code",
   "execution_count": 42,
   "metadata": {},
   "outputs": [],
   "source": [
    "flights_adj_mat['ID'] = [int(s) for s in flights_adj_mat.columns]"
   ]
  },
  {
   "cell_type": "code",
   "execution_count": 43,
   "metadata": {},
   "outputs": [],
   "source": [
    "flights_adj_mat.reset_index(drop=True, inplace=True)"
   ]
  },
  {
   "cell_type": "code",
   "execution_count": 44,
   "metadata": {},
   "outputs": [],
   "source": [
    "flights_adj_mat.to_csv(raw_path + f'flights_capacity_mat.csv')\n",
    "#flights_adj_mat.to_csv(raw_path + f'flights_nocapacity_mat.csv')"
   ]
  },
  {
   "cell_type": "code",
   "execution_count": 45,
   "metadata": {},
   "outputs": [],
   "source": [
    "# prune other networks"
   ]
  },
  {
   "cell_type": "code",
   "execution_count": 46,
   "metadata": {},
   "outputs": [],
   "source": [
    "sci = pd.read_csv(raw_path+'SCI_index_ALL.csv')"
   ]
  },
  {
   "cell_type": "code",
   "execution_count": 47,
   "metadata": {},
   "outputs": [],
   "source": [
    "sci['ID'] = [int(s) for s in sci.columns]\n",
    "sci = sci[~sci['ID'].isin(todrop_daily_IDs)].copy()\n",
    "sci = sci[[s for s in sci.columns if s not in [str(t) for t in todrop_daily_IDs]]].reset_index(drop=True).copy()"
   ]
  },
  {
   "cell_type": "code",
   "execution_count": 48,
   "metadata": {},
   "outputs": [],
   "source": [
    "sci.to_csv(raw_path+'SCI_index_ALL_pruned.csv')"
   ]
  },
  {
   "cell_type": "code",
   "execution_count": 49,
   "metadata": {},
   "outputs": [],
   "source": [
    "geodist = pd.read_csv(raw_path+'Geodist_ALL.csv')"
   ]
  },
  {
   "cell_type": "code",
   "execution_count": 50,
   "metadata": {},
   "outputs": [],
   "source": [
    "geodist['ID'] = [int(s) for s in geodist.columns]\n",
    "geodist = geodist[~geodist['ID'].isin(todrop_daily_IDs)].copy()\n",
    "geodist = geodist[[s for s in geodist.columns if s not in [str(t) for t in todrop_daily_IDs]]].reset_index(drop=True).copy()"
   ]
  },
  {
   "cell_type": "code",
   "execution_count": 51,
   "metadata": {},
   "outputs": [],
   "source": [
    "geodist.to_csv(raw_path+'Geodist_ALL_pruned.csv')"
   ]
  },
  {
   "cell_type": "code",
   "execution_count": 52,
   "metadata": {},
   "outputs": [],
   "source": [
    "# prune df"
   ]
  },
  {
   "cell_type": "code",
   "execution_count": 53,
   "metadata": {},
   "outputs": [],
   "source": [
    "df = pd.read_csv(raw_path+'confirmed_pop_ALL.csv')"
   ]
  },
  {
   "cell_type": "code",
   "execution_count": 54,
   "metadata": {},
   "outputs": [],
   "source": [
    "df = df.merge(fips_to_id[['ID']], on='ID', how='right').reset_index(drop=True).copy()"
   ]
  },
  {
   "cell_type": "code",
   "execution_count": 55,
   "metadata": {},
   "outputs": [],
   "source": [
    "df.to_csv(raw_path+'confirmed_pop_ALL_pruned.csv')"
   ]
  },
  {
   "cell_type": "code",
   "execution_count": 56,
   "metadata": {},
   "outputs": [],
   "source": [
    "daily = daily.merge(fips_to_id[['ID']], on='ID', how='right').reset_index(drop=True).copy()"
   ]
  },
  {
   "cell_type": "code",
   "execution_count": 57,
   "metadata": {},
   "outputs": [],
   "source": [
    "daily.to_csv(raw_path+'myfinal_daily_temp_ALL_pruned.csv')"
   ]
  },
  {
   "cell_type": "code",
   "execution_count": 58,
   "metadata": {},
   "outputs": [
    {
     "data": {
      "text/plain": [
       "set()"
      ]
     },
     "execution_count": 58,
     "metadata": {},
     "output_type": "execute_result"
    }
   ],
   "source": [
    "# sanity checks \n",
    "\n",
    "set(sorted(df['ID'])) - set(sorted(geodist['ID']))"
   ]
  },
  {
   "cell_type": "code",
   "execution_count": 59,
   "metadata": {},
   "outputs": [
    {
     "data": {
      "text/plain": [
       "set()"
      ]
     },
     "execution_count": 59,
     "metadata": {},
     "output_type": "execute_result"
    }
   ],
   "source": [
    "set(sorted(df['ID'])) - set(sorted(sci['ID']))"
   ]
  },
  {
   "cell_type": "code",
   "execution_count": 60,
   "metadata": {},
   "outputs": [
    {
     "data": {
      "text/plain": [
       "set()"
      ]
     },
     "execution_count": 60,
     "metadata": {},
     "output_type": "execute_result"
    }
   ],
   "source": [
    "set(sorted(df['ID'])) - set(sorted(flights_adj_mat['ID']))"
   ]
  },
  {
   "cell_type": "code",
   "execution_count": 61,
   "metadata": {},
   "outputs": [
    {
     "data": {
      "text/plain": [
       "{54, 63, 68, 94, 257, 367, 395, 409, 442, 535, 1928, 2004, 2180, 2485}"
      ]
     },
     "execution_count": 61,
     "metadata": {},
     "output_type": "execute_result"
    }
   ],
   "source": [
    "set(np.arange(1,3144)) - set(sorted(df['ID']))"
   ]
  },
  {
   "cell_type": "code",
   "execution_count": 62,
   "metadata": {},
   "outputs": [
    {
     "data": {
      "text/plain": [
       "{54, 63, 68, 94, 257, 367, 395, 409, 442, 535, 1928, 2004, 2180, 2485}"
      ]
     },
     "execution_count": 62,
     "metadata": {},
     "output_type": "execute_result"
    }
   ],
   "source": [
    "set(np.arange(1,3144)) - set(sorted(geodist['ID']))"
   ]
  },
  {
   "cell_type": "code",
   "execution_count": 63,
   "metadata": {},
   "outputs": [
    {
     "data": {
      "text/plain": [
       "{54, 63, 68, 94, 257, 367, 395, 409, 442, 535, 1928, 2004, 2180, 2485}"
      ]
     },
     "execution_count": 63,
     "metadata": {},
     "output_type": "execute_result"
    }
   ],
   "source": [
    "set(np.arange(1,3144)) - set(sorted(sci['ID']))"
   ]
  },
  {
   "cell_type": "code",
   "execution_count": 64,
   "metadata": {},
   "outputs": [
    {
     "data": {
      "text/plain": [
       "{54, 63, 68, 94, 257, 367, 395, 409, 442, 535, 1928, 2004, 2180, 2485}"
      ]
     },
     "execution_count": 64,
     "metadata": {},
     "output_type": "execute_result"
    }
   ],
   "source": [
    "set(np.arange(1,3144)) - set(sorted(flights_adj_mat['ID']))"
   ]
  },
  {
   "cell_type": "markdown",
   "metadata": {},
   "source": [
    "# Clustering"
   ]
  },
  {
   "cell_type": "markdown",
   "metadata": {},
   "source": [
    "## Split into small and big counties"
   ]
  },
  {
   "cell_type": "code",
   "execution_count": 65,
   "metadata": {},
   "outputs": [],
   "source": [
    "pop_thresh = 500000"
   ]
  },
  {
   "cell_type": "code",
   "execution_count": 66,
   "metadata": {},
   "outputs": [
    {
     "data": {
      "text/plain": [
       "(136, 690)"
      ]
     },
     "execution_count": 66,
     "metadata": {},
     "output_type": "execute_result"
    }
   ],
   "source": [
    "big_counties = df[df.Population>=pop_thresh].reset_index(drop=True).copy()\n",
    "big_counties.shape"
   ]
  },
  {
   "cell_type": "code",
   "execution_count": 67,
   "metadata": {},
   "outputs": [
    {
     "data": {
      "text/plain": [
       "(2993, 690)"
      ]
     },
     "execution_count": 67,
     "metadata": {},
     "output_type": "execute_result"
    }
   ],
   "source": [
    "small_counties = df[df.Population<pop_thresh].reset_index(drop=True).copy()\n",
    "small_counties.shape"
   ]
  },
  {
   "cell_type": "code",
   "execution_count": 68,
   "metadata": {},
   "outputs": [
    {
     "data": {
      "text/plain": [
       "49"
      ]
     },
     "execution_count": 68,
     "metadata": {},
     "output_type": "execute_result"
    }
   ],
   "source": [
    "states = list(set(small_counties.State.values))\n",
    "len(states)"
   ]
  },
  {
   "cell_type": "code",
   "execution_count": 69,
   "metadata": {},
   "outputs": [
    {
     "data": {
      "text/plain": [
       "State\n",
       "delaware            2\n",
       "hawaii              2\n",
       "rhode island        4\n",
       "massachusetts       7\n",
       "new hampshire      10\n",
       "new jersey         12\n",
       "arizona            13\n",
       "vermont            14\n",
       "nevada             16\n",
       "maine              16\n",
       "maryland           19\n",
       "wyoming            23\n",
       "utah               27\n",
       "alaska             28\n",
       "new mexico         32\n",
       "oregon             34\n",
       "washington         35\n",
       "california         42\n",
       "idaho              44\n",
       "south carolina     45\n",
       "north dakota       53\n",
       "new york           53\n",
       "florida            55\n",
       "west virginia      55\n",
       "montana            56\n",
       "colorado           59\n",
       "pennsylvania       60\n",
       "louisiana          64\n",
       "south dakota       66\n",
       "alabama            66\n",
       "wisconsin          70\n",
       "arkansas           75\n",
       "oklahoma           75\n",
       "michigan           79\n",
       "mississippi        82\n",
       "ohio               83\n",
       "minnesota          85\n",
       "indiana            91\n",
       "nebraska           92\n",
       "tennessee          93\n",
       "illinois           97\n",
       "north carolina     97\n",
       "iowa               98\n",
       "kansas            103\n",
       "missouri          113\n",
       "kentucky          119\n",
       "virginia          132\n",
       "georgia           155\n",
       "texas             242\n",
       "Name: FIPS, dtype: int64"
      ]
     },
     "execution_count": 69,
     "metadata": {},
     "output_type": "execute_result"
    }
   ],
   "source": [
    "small_counties.groupby('State').FIPS.count().sort_values()"
   ]
  },
  {
   "cell_type": "markdown",
   "metadata": {},
   "source": [
    "## Perform clustering"
   ]
  },
  {
   "cell_type": "code",
   "execution_count": 70,
   "metadata": {},
   "outputs": [],
   "source": [
    "# Runs in R; if to_point is False, it produces a distance matrix between all points; \n",
    "# If a point is provided, it produces a distance vector of that point from any other point;\n",
    "# Distance measure used: geodesic\n",
    "# From geodist docs: \"\"geodesic\" denotes the very accurate geodesic methods given in Karney (2013) \"Algorithms for geodesics\" J Geod 87:43-55,\"\n",
    "# We can use these distances as alternatives: \"haversine\" \"vincenty\", \"cheap\"\n",
    "\n",
    "def pygeodist(pd_df, to_point=False, point=None):\n",
    "    \"\"\"\n",
    "    pd_df must have columns 'x' and 'y' such that 'x' is the lng coordinate\n",
    "    and 'y' is the lat coordinate\n",
    "    \"\"\"\n",
    "    geodist=importr('geodist')\n",
    "    with localconverter(ro.default_converter + pandas2ri.converter):\n",
    "        if to_point:\n",
    "            return geodist.geodist(pd_df, point, measure = \"haversine\")\n",
    "        else:\n",
    "            return geodist.geodist(pd_df, measure = \"haversine\")\n",
    "        "
   ]
  },
  {
   "cell_type": "code",
   "execution_count": 71,
   "metadata": {},
   "outputs": [],
   "source": [
    "all_res = {s:{} for s in states}"
   ]
  },
  {
   "cell_type": "code",
   "execution_count": 72,
   "metadata": {},
   "outputs": [],
   "source": [
    "cols = ['Population',  'FIPS', 'Lat', 'Long_', 'State', 'ID'] # 'name', 'countyname',"
   ]
  },
  {
   "cell_type": "code",
   "execution_count": 73,
   "metadata": {},
   "outputs": [
    {
     "name": "stdout",
     "output_type": "stream",
     "text": [
      "0 new york\n",
      "1 louisiana\n",
      "2 south carolina\n",
      "3 alaska\n",
      "4 massachusetts\n",
      "5 texas\n",
      "6 kentucky\n",
      "7 iowa\n",
      "8 california\n",
      "9 vermont\n",
      "10 oklahoma\n",
      "11 minnesota\n",
      "12 rhode island\n",
      "13 alabama\n",
      "14 maine\n",
      "15 new mexico\n",
      "16 montana\n",
      "17 new jersey\n",
      "18 south dakota\n",
      "19 florida\n",
      "20 virginia\n",
      "21 pennsylvania\n",
      "22 michigan\n",
      "23 wisconsin\n",
      "24 indiana\n",
      "25 mississippi\n",
      "26 illinois\n",
      "27 arizona\n",
      "28 arkansas\n",
      "29 utah\n",
      "30 maryland\n",
      "31 oregon\n",
      "32 nebraska\n",
      "33 hawaii\n",
      "34 north carolina\n",
      "35 ohio\n",
      "36 delaware\n",
      "37 north dakota\n",
      "38 washington\n",
      "39 new hampshire\n",
      "40 georgia\n",
      "41 idaho\n",
      "42 kansas\n",
      "43 wyoming\n",
      "44 tennessee\n",
      "45 missouri\n",
      "46 nevada\n",
      "47 west virginia\n",
      "48 colorado\n",
      "CPU times: user 6min 11s, sys: 20.4 s, total: 6min 31s\n",
      "Wall time: 6min 32s\n"
     ]
    }
   ],
   "source": [
    "%%time\n",
    "for s_ix, s in enumerate(states):\n",
    "    # For current state s:\n",
    "    print(s_ix, s)\n",
    "\n",
    "    state_df = small_counties[small_counties.State==s][cols].reset_index(drop=True).copy()\n",
    "    state_df.columns = ['Population', 'FIPS', 'y', 'x', 'State', 'ID']\n",
    "\n",
    "    # save mapping of ID to FIPS code\n",
    "    idx_to_fips = {i:code for i,code in enumerate(state_df['FIPS'].values)}\n",
    "    all_res[s]['idx_to_fips'] = idx_to_fips\n",
    "\n",
    "    # compute distance between all points\n",
    "    dist = pygeodist(state_df)\n",
    "    \n",
    "    # init tree as dict of {ID:emptylist} for each county\n",
    "    tree = {i:[] for i in list(state_df.index)}\n",
    "\n",
    "    # store initial smallest population value\n",
    "    smallest_pop_val = state_df.sort_values('Population').reset_index()['Population'][0]\n",
    "\n",
    "    # stopping criterion: all new counties are bigger than pop_thresh or the merge of all counties doesn't exceed pop_thresh\n",
    "    while ((smallest_pop_val < pop_thresh) and (len(state_df['Population'].unique())!=1)):\n",
    "        # ID of smallest county\n",
    "        smallest = state_df.sort_values('Population').index[0]\n",
    "\n",
    "        # ID of closest county that is not equal to smallest county\n",
    "        closest = np.argsort(dist[smallest])[np.where(np.sort(dist[smallest])!=0)[0][0]]\n",
    "\n",
    "        # new population, lat and long for smallest and closest county\n",
    "        new_pop = state_df.iloc[smallest]['Population'] + state_df.iloc[closest]['Population'] \n",
    "        new_lat_y = (state_df.iloc[smallest]['y'] + state_df.iloc[closest]['y'])/2\n",
    "        new_long_x = (state_df.iloc[smallest]['x'] + state_df.iloc[closest]['x'])/2\n",
    "\n",
    "        # store group of closest counties and delete key where closest appears\n",
    "        try:\n",
    "            all_closest = [closest] + tree[closest]\n",
    "            tree.pop(closest)\n",
    "        except:\n",
    "            for k,v in tree.copy().items():\n",
    "                if closest in v:\n",
    "                    all_closest = [k] + tree[k]\n",
    "                    tree.pop(k)\n",
    "\n",
    "        # update key where smallest appears adding all the closest counties\n",
    "        try:\n",
    "            tree[smallest] = tree[smallest] + all_closest\n",
    "            list_to_update = [smallest] + tree[smallest]\n",
    "        except:\n",
    "            for k,v in tree.items():\n",
    "                if smallest in v:\n",
    "                    tree[k] = tree[k] + all_closest\n",
    "                    list_to_update = [k] + tree[k]\n",
    "\n",
    "        # update each smallest and closest county to new pop, lat, long\n",
    "        for county in list_to_update:\n",
    "            state_df.loc[state_df.index==county, 'Population'] = new_pop\n",
    "            state_df.loc[state_df.index==county, 'y'] = new_lat_y\n",
    "            state_df.loc[state_df.index==county, 'x'] = new_long_x\n",
    "\n",
    "        # update dist for all counties with recalculated lat and long for list_to_update\n",
    "        dist = pygeodist(state_df)\n",
    "\n",
    "        # update smallest population value\n",
    "        smallest_pop_val = state_df.sort_values('Population').reset_index()['Population'][0]\n",
    "\n",
    "    # store tree and df for current state\n",
    "    all_res[s]['tree'] = tree\n",
    "    all_res[s]['state_df'] = state_df"
   ]
  },
  {
   "cell_type": "code",
   "execution_count": 74,
   "metadata": {},
   "outputs": [
    {
     "data": {
      "text/plain": [
       "196"
      ]
     },
     "execution_count": 74,
     "metadata": {},
     "output_type": "execute_result"
    }
   ],
   "source": [
    "total_no_small_counties = sum([len(all_res[s]['tree']) for s in states])\n",
    "total_no_small_counties"
   ]
  },
  {
   "cell_type": "code",
   "execution_count": 75,
   "metadata": {},
   "outputs": [
    {
     "data": {
      "text/plain": [
       "332"
      ]
     },
     "execution_count": 75,
     "metadata": {},
     "output_type": "execute_result"
    }
   ],
   "source": [
    "total_no_counties = big_counties.shape[0] + total_no_small_counties\n",
    "total_no_counties"
   ]
  },
  {
   "cell_type": "code",
   "execution_count": 76,
   "metadata": {},
   "outputs": [],
   "source": [
    "save_path = save_path_root + f'meta_flights_{total_no_counties}/'\n",
    "if not os.path.exists(save_path):\n",
    "    os.makedirs(save_path)"
   ]
  },
  {
   "cell_type": "code",
   "execution_count": 77,
   "metadata": {},
   "outputs": [
    {
     "data": {
      "text/plain": [
       "['Population', 'FIPS', 'Lat', 'Long_', 'State', 'ID']"
      ]
     },
     "execution_count": 77,
     "metadata": {},
     "output_type": "execute_result"
    }
   ],
   "source": [
    "cols"
   ]
  },
  {
   "cell_type": "code",
   "execution_count": 78,
   "metadata": {},
   "outputs": [],
   "source": [
    "big_counties = big_counties[cols].copy()\n",
    "big_counties.columns = ['Population', 'FIPS', 'y', 'x', 'State', 'ID']"
   ]
  },
  {
   "cell_type": "code",
   "execution_count": 79,
   "metadata": {},
   "outputs": [
    {
     "data": {
      "text/html": [
       "<div>\n",
       "<style scoped>\n",
       "    .dataframe tbody tr th:only-of-type {\n",
       "        vertical-align: middle;\n",
       "    }\n",
       "\n",
       "    .dataframe tbody tr th {\n",
       "        vertical-align: top;\n",
       "    }\n",
       "\n",
       "    .dataframe thead th {\n",
       "        text-align: right;\n",
       "    }\n",
       "</style>\n",
       "<table border=\"1\" class=\"dataframe\">\n",
       "  <thead>\n",
       "    <tr style=\"text-align: right;\">\n",
       "      <th></th>\n",
       "      <th>ID_metacounty</th>\n",
       "      <th>Population</th>\n",
       "      <th>FIPS</th>\n",
       "      <th>Lat</th>\n",
       "      <th>Long_</th>\n",
       "      <th>State</th>\n",
       "      <th>ID</th>\n",
       "    </tr>\n",
       "  </thead>\n",
       "  <tbody>\n",
       "    <tr>\n",
       "      <th>0</th>\n",
       "      <td>0</td>\n",
       "      <td>619018</td>\n",
       "      <td>1089</td>\n",
       "      <td>34.444911</td>\n",
       "      <td>-85.998297</td>\n",
       "      <td>alabama</td>\n",
       "      <td>190</td>\n",
       "    </tr>\n",
       "    <tr>\n",
       "      <th>1</th>\n",
       "      <td>0</td>\n",
       "      <td>619018</td>\n",
       "      <td>1095</td>\n",
       "      <td>34.444911</td>\n",
       "      <td>-85.998297</td>\n",
       "      <td>alabama</td>\n",
       "      <td>622</td>\n",
       "    </tr>\n",
       "    <tr>\n",
       "      <th>2</th>\n",
       "      <td>0</td>\n",
       "      <td>619018</td>\n",
       "      <td>1049</td>\n",
       "      <td>34.444911</td>\n",
       "      <td>-85.998297</td>\n",
       "      <td>alabama</td>\n",
       "      <td>760</td>\n",
       "    </tr>\n",
       "    <tr>\n",
       "      <th>3</th>\n",
       "      <td>0</td>\n",
       "      <td>619018</td>\n",
       "      <td>1071</td>\n",
       "      <td>34.444911</td>\n",
       "      <td>-85.998297</td>\n",
       "      <td>alabama</td>\n",
       "      <td>965</td>\n",
       "    </tr>\n",
       "    <tr>\n",
       "      <th>4</th>\n",
       "      <td>0</td>\n",
       "      <td>619018</td>\n",
       "      <td>1019</td>\n",
       "      <td>34.444911</td>\n",
       "      <td>-85.998297</td>\n",
       "      <td>alabama</td>\n",
       "      <td>1559</td>\n",
       "    </tr>\n",
       "    <tr>\n",
       "      <th>...</th>\n",
       "      <td>...</td>\n",
       "      <td>...</td>\n",
       "      <td>...</td>\n",
       "      <td>...</td>\n",
       "      <td>...</td>\n",
       "      <td>...</td>\n",
       "      <td>...</td>\n",
       "    </tr>\n",
       "    <tr>\n",
       "      <th>3124</th>\n",
       "      <td>331</td>\n",
       "      <td>578759</td>\n",
       "      <td>56043</td>\n",
       "      <td>42.882320</td>\n",
       "      <td>-107.620012</td>\n",
       "      <td>wyoming</td>\n",
       "      <td>2612</td>\n",
       "    </tr>\n",
       "    <tr>\n",
       "      <th>3125</th>\n",
       "      <td>331</td>\n",
       "      <td>578759</td>\n",
       "      <td>56011</td>\n",
       "      <td>42.882320</td>\n",
       "      <td>-107.620012</td>\n",
       "      <td>wyoming</td>\n",
       "      <td>2625</td>\n",
       "    </tr>\n",
       "    <tr>\n",
       "      <th>3126</th>\n",
       "      <td>331</td>\n",
       "      <td>578759</td>\n",
       "      <td>56045</td>\n",
       "      <td>42.882320</td>\n",
       "      <td>-107.620012</td>\n",
       "      <td>wyoming</td>\n",
       "      <td>2675</td>\n",
       "    </tr>\n",
       "    <tr>\n",
       "      <th>3127</th>\n",
       "      <td>331</td>\n",
       "      <td>578759</td>\n",
       "      <td>56017</td>\n",
       "      <td>42.882320</td>\n",
       "      <td>-107.620012</td>\n",
       "      <td>wyoming</td>\n",
       "      <td>2867</td>\n",
       "    </tr>\n",
       "    <tr>\n",
       "      <th>3128</th>\n",
       "      <td>331</td>\n",
       "      <td>578759</td>\n",
       "      <td>56027</td>\n",
       "      <td>42.882320</td>\n",
       "      <td>-107.620012</td>\n",
       "      <td>wyoming</td>\n",
       "      <td>3014</td>\n",
       "    </tr>\n",
       "  </tbody>\n",
       "</table>\n",
       "<p>3129 rows × 7 columns</p>\n",
       "</div>"
      ],
      "text/plain": [
       "      ID_metacounty  Population   FIPS        Lat       Long_    State    ID\n",
       "0                 0      619018   1089  34.444911  -85.998297  alabama   190\n",
       "1                 0      619018   1095  34.444911  -85.998297  alabama   622\n",
       "2                 0      619018   1049  34.444911  -85.998297  alabama   760\n",
       "3                 0      619018   1071  34.444911  -85.998297  alabama   965\n",
       "4                 0      619018   1019  34.444911  -85.998297  alabama  1559\n",
       "...             ...         ...    ...        ...         ...      ...   ...\n",
       "3124            331      578759  56043  42.882320 -107.620012  wyoming  2612\n",
       "3125            331      578759  56011  42.882320 -107.620012  wyoming  2625\n",
       "3126            331      578759  56045  42.882320 -107.620012  wyoming  2675\n",
       "3127            331      578759  56017  42.882320 -107.620012  wyoming  2867\n",
       "3128            331      578759  56027  42.882320 -107.620012  wyoming  3014\n",
       "\n",
       "[3129 rows x 7 columns]"
      ]
     },
     "execution_count": 79,
     "metadata": {},
     "output_type": "execute_result"
    }
   ],
   "source": [
    "# long_df has rows equal to original number of counties, their FIPS, but new population, long and lat\n",
    "# We can use this to merge with other relevant info\n",
    "long_df = pd.concat([all_res[s]['state_df'] for s in states]+[big_counties])\n",
    "long_df = long_df.sort_values(['State', 'Population']).reset_index(drop=True).copy()\n",
    "long_df.columns = cols\n",
    "long_df.insert(loc=0, column='ID_metacounty', \n",
    "                   value=long_df.set_index(['Population','Lat', 'Long_']).index.factorize()[0])\n",
    "long_df"
   ]
  },
  {
   "cell_type": "code",
   "execution_count": 80,
   "metadata": {},
   "outputs": [
    {
     "data": {
      "text/plain": [
       "3129"
      ]
     },
     "execution_count": 80,
     "metadata": {},
     "output_type": "execute_result"
    }
   ],
   "source": [
    "len(long_df.FIPS.unique())"
   ]
  },
  {
   "cell_type": "code",
   "execution_count": 81,
   "metadata": {},
   "outputs": [],
   "source": [
    "long_df.to_csv(save_path + f'COVID_{total_no_counties}_counties_long_pruned.csv')"
   ]
  },
  {
   "cell_type": "markdown",
   "metadata": {},
   "source": [
    "# Merge with other variables"
   ]
  },
  {
   "cell_type": "code",
   "execution_count": 82,
   "metadata": {},
   "outputs": [
    {
     "data": {
      "text/plain": [
       "(3129, 7)"
      ]
     },
     "execution_count": 82,
     "metadata": {},
     "output_type": "execute_result"
    }
   ],
   "source": [
    "long_df.shape"
   ]
  },
  {
   "cell_type": "code",
   "execution_count": 83,
   "metadata": {},
   "outputs": [
    {
     "data": {
      "text/plain": [
       "Index(['FIPS', 'ID', 'County', 'Population', 'FIPSnew', 'County1', 'State',\n",
       "       'Lat', 'Long_', 'density_sk', 'Date', 'cum_Confirmed',\n",
       "       'daily_confirmed', 'cum_Vaccinated', 'daily_vaccinated',\n",
       "       'per_daily_vaccinated', 'ContainmentHealthIndex',\n",
       "       'ContainmentHealthIndex1', 'country', 'T'],\n",
       "      dtype='object')"
      ]
     },
     "execution_count": 83,
     "metadata": {},
     "output_type": "execute_result"
    }
   ],
   "source": [
    "daily.columns"
   ]
  },
  {
   "cell_type": "code",
   "execution_count": 84,
   "metadata": {},
   "outputs": [],
   "source": [
    "# drop original Population, Lat and Long_\n",
    "daily.drop(['Population', 'Lat', 'Long_'], axis=1, inplace=True)"
   ]
  },
  {
   "cell_type": "code",
   "execution_count": 85,
   "metadata": {},
   "outputs": [
    {
     "data": {
      "text/plain": [
       "((2124591, 17), (3129, 7))"
      ]
     },
     "execution_count": 85,
     "metadata": {},
     "output_type": "execute_result"
    }
   ],
   "source": [
    "daily.shape, long_df.shape"
   ]
  },
  {
   "cell_type": "code",
   "execution_count": 86,
   "metadata": {},
   "outputs": [],
   "source": [
    "all_long_df = long_df.merge(daily, on=['FIPS', 'ID', 'State'], how='inner')"
   ]
  },
  {
   "cell_type": "code",
   "execution_count": 87,
   "metadata": {},
   "outputs": [
    {
     "data": {
      "text/plain": [
       "(2124591, 21)"
      ]
     },
     "execution_count": 87,
     "metadata": {},
     "output_type": "execute_result"
    }
   ],
   "source": [
    "all_long_df.shape"
   ]
  },
  {
   "cell_type": "code",
   "execution_count": 88,
   "metadata": {},
   "outputs": [
    {
     "data": {
      "text/html": [
       "<div>\n",
       "<style scoped>\n",
       "    .dataframe tbody tr th:only-of-type {\n",
       "        vertical-align: middle;\n",
       "    }\n",
       "\n",
       "    .dataframe tbody tr th {\n",
       "        vertical-align: top;\n",
       "    }\n",
       "\n",
       "    .dataframe thead th {\n",
       "        text-align: right;\n",
       "    }\n",
       "</style>\n",
       "<table border=\"1\" class=\"dataframe\">\n",
       "  <thead>\n",
       "    <tr style=\"text-align: right;\">\n",
       "      <th></th>\n",
       "      <th>ID_metacounty</th>\n",
       "      <th>Population</th>\n",
       "      <th>FIPS</th>\n",
       "      <th>Lat</th>\n",
       "      <th>Long_</th>\n",
       "      <th>State</th>\n",
       "      <th>ID</th>\n",
       "      <th>County</th>\n",
       "      <th>FIPSnew</th>\n",
       "      <th>County1</th>\n",
       "      <th>...</th>\n",
       "      <th>Date</th>\n",
       "      <th>cum_Confirmed</th>\n",
       "      <th>daily_confirmed</th>\n",
       "      <th>cum_Vaccinated</th>\n",
       "      <th>daily_vaccinated</th>\n",
       "      <th>per_daily_vaccinated</th>\n",
       "      <th>ContainmentHealthIndex</th>\n",
       "      <th>ContainmentHealthIndex1</th>\n",
       "      <th>country</th>\n",
       "      <th>T</th>\n",
       "    </tr>\n",
       "  </thead>\n",
       "  <tbody>\n",
       "    <tr>\n",
       "      <th>0</th>\n",
       "      <td>0</td>\n",
       "      <td>619018</td>\n",
       "      <td>1089</td>\n",
       "      <td>34.444911</td>\n",
       "      <td>-85.998297</td>\n",
       "      <td>alabama</td>\n",
       "      <td>190</td>\n",
       "      <td>madison county, alabama</td>\n",
       "      <td>1089</td>\n",
       "      <td>madison county</td>\n",
       "      <td>...</td>\n",
       "      <td>2020-01-22</td>\n",
       "      <td>0</td>\n",
       "      <td>0</td>\n",
       "      <td>0</td>\n",
       "      <td>0</td>\n",
       "      <td>0.0</td>\n",
       "      <td>0.0</td>\n",
       "      <td>0.0</td>\n",
       "      <td>US</td>\n",
       "      <td>0.420791</td>\n",
       "    </tr>\n",
       "    <tr>\n",
       "      <th>1</th>\n",
       "      <td>0</td>\n",
       "      <td>619018</td>\n",
       "      <td>1089</td>\n",
       "      <td>34.444911</td>\n",
       "      <td>-85.998297</td>\n",
       "      <td>alabama</td>\n",
       "      <td>190</td>\n",
       "      <td>madison county, alabama</td>\n",
       "      <td>1089</td>\n",
       "      <td>madison county</td>\n",
       "      <td>...</td>\n",
       "      <td>2020-01-23</td>\n",
       "      <td>0</td>\n",
       "      <td>0</td>\n",
       "      <td>0</td>\n",
       "      <td>0</td>\n",
       "      <td>0.0</td>\n",
       "      <td>0.0</td>\n",
       "      <td>0.0</td>\n",
       "      <td>US</td>\n",
       "      <td>4.985396</td>\n",
       "    </tr>\n",
       "    <tr>\n",
       "      <th>2</th>\n",
       "      <td>0</td>\n",
       "      <td>619018</td>\n",
       "      <td>1089</td>\n",
       "      <td>34.444911</td>\n",
       "      <td>-85.998297</td>\n",
       "      <td>alabama</td>\n",
       "      <td>190</td>\n",
       "      <td>madison county, alabama</td>\n",
       "      <td>1089</td>\n",
       "      <td>madison county</td>\n",
       "      <td>...</td>\n",
       "      <td>2020-01-24</td>\n",
       "      <td>0</td>\n",
       "      <td>0</td>\n",
       "      <td>0</td>\n",
       "      <td>0</td>\n",
       "      <td>0.0</td>\n",
       "      <td>0.0</td>\n",
       "      <td>0.0</td>\n",
       "      <td>US</td>\n",
       "      <td>8.402002</td>\n",
       "    </tr>\n",
       "    <tr>\n",
       "      <th>3</th>\n",
       "      <td>0</td>\n",
       "      <td>619018</td>\n",
       "      <td>1089</td>\n",
       "      <td>34.444911</td>\n",
       "      <td>-85.998297</td>\n",
       "      <td>alabama</td>\n",
       "      <td>190</td>\n",
       "      <td>madison county, alabama</td>\n",
       "      <td>1089</td>\n",
       "      <td>madison county</td>\n",
       "      <td>...</td>\n",
       "      <td>2020-01-25</td>\n",
       "      <td>0</td>\n",
       "      <td>0</td>\n",
       "      <td>0</td>\n",
       "      <td>0</td>\n",
       "      <td>0.0</td>\n",
       "      <td>0.0</td>\n",
       "      <td>0.0</td>\n",
       "      <td>US</td>\n",
       "      <td>5.432438</td>\n",
       "    </tr>\n",
       "    <tr>\n",
       "      <th>4</th>\n",
       "      <td>0</td>\n",
       "      <td>619018</td>\n",
       "      <td>1089</td>\n",
       "      <td>34.444911</td>\n",
       "      <td>-85.998297</td>\n",
       "      <td>alabama</td>\n",
       "      <td>190</td>\n",
       "      <td>madison county, alabama</td>\n",
       "      <td>1089</td>\n",
       "      <td>madison county</td>\n",
       "      <td>...</td>\n",
       "      <td>2020-01-26</td>\n",
       "      <td>0</td>\n",
       "      <td>0</td>\n",
       "      <td>0</td>\n",
       "      <td>0</td>\n",
       "      <td>0.0</td>\n",
       "      <td>0.0</td>\n",
       "      <td>0.0</td>\n",
       "      <td>US</td>\n",
       "      <td>3.982701</td>\n",
       "    </tr>\n",
       "  </tbody>\n",
       "</table>\n",
       "<p>5 rows × 21 columns</p>\n",
       "</div>"
      ],
      "text/plain": [
       "   ID_metacounty  Population  FIPS        Lat      Long_    State   ID  \\\n",
       "0              0      619018  1089  34.444911 -85.998297  alabama  190   \n",
       "1              0      619018  1089  34.444911 -85.998297  alabama  190   \n",
       "2              0      619018  1089  34.444911 -85.998297  alabama  190   \n",
       "3              0      619018  1089  34.444911 -85.998297  alabama  190   \n",
       "4              0      619018  1089  34.444911 -85.998297  alabama  190   \n",
       "\n",
       "                    County  FIPSnew         County1  ...        Date  \\\n",
       "0  madison county, alabama     1089  madison county  ...  2020-01-22   \n",
       "1  madison county, alabama     1089  madison county  ...  2020-01-23   \n",
       "2  madison county, alabama     1089  madison county  ...  2020-01-24   \n",
       "3  madison county, alabama     1089  madison county  ...  2020-01-25   \n",
       "4  madison county, alabama     1089  madison county  ...  2020-01-26   \n",
       "\n",
       "  cum_Confirmed  daily_confirmed  cum_Vaccinated  daily_vaccinated  \\\n",
       "0             0                0               0                 0   \n",
       "1             0                0               0                 0   \n",
       "2             0                0               0                 0   \n",
       "3             0                0               0                 0   \n",
       "4             0                0               0                 0   \n",
       "\n",
       "   per_daily_vaccinated  ContainmentHealthIndex  ContainmentHealthIndex1  \\\n",
       "0                   0.0                     0.0                      0.0   \n",
       "1                   0.0                     0.0                      0.0   \n",
       "2                   0.0                     0.0                      0.0   \n",
       "3                   0.0                     0.0                      0.0   \n",
       "4                   0.0                     0.0                      0.0   \n",
       "\n",
       "   country         T  \n",
       "0       US  0.420791  \n",
       "1       US  4.985396  \n",
       "2       US  8.402002  \n",
       "3       US  5.432438  \n",
       "4       US  3.982701  \n",
       "\n",
       "[5 rows x 21 columns]"
      ]
     },
     "execution_count": 88,
     "metadata": {},
     "output_type": "execute_result"
    }
   ],
   "source": [
    "all_long_df.head()"
   ]
  },
  {
   "cell_type": "code",
   "execution_count": 89,
   "metadata": {},
   "outputs": [
    {
     "data": {
      "text/plain": [
       "Index(['ID_metacounty', 'Population', 'FIPS', 'Lat', 'Long_', 'State', 'ID',\n",
       "       'County', 'FIPSnew', 'County1', 'density_sk', 'Date', 'cum_Confirmed',\n",
       "       'daily_confirmed', 'cum_Vaccinated', 'daily_vaccinated',\n",
       "       'per_daily_vaccinated', 'ContainmentHealthIndex',\n",
       "       'ContainmentHealthIndex1', 'country', 'T'],\n",
       "      dtype='object')"
      ]
     },
     "execution_count": 89,
     "metadata": {},
     "output_type": "execute_result"
    }
   ],
   "source": [
    "all_long_df.columns"
   ]
  },
  {
   "cell_type": "markdown",
   "metadata": {},
   "source": [
    "# Aggregate distance networks"
   ]
  },
  {
   "cell_type": "markdown",
   "metadata": {},
   "source": [
    "## Flights"
   ]
  },
  {
   "cell_type": "code",
   "execution_count": 90,
   "metadata": {},
   "outputs": [
    {
     "data": {
      "text/plain": [
       "(3129, 3130)"
      ]
     },
     "execution_count": 90,
     "metadata": {},
     "output_type": "execute_result"
    }
   ],
   "source": [
    "# merge with metacounty ID\n",
    "flights_adj_mat = flights_adj_mat.merge(long_df[['ID', 'ID_metacounty']], on='ID').copy()\n",
    "ID_col = flights_adj_mat['ID'].values\n",
    "flights_adj_mat1 = flights_adj_mat.drop('ID', axis=1)\n",
    "flights_adj_mat1.shape"
   ]
  },
  {
   "cell_type": "code",
   "execution_count": 91,
   "metadata": {},
   "outputs": [],
   "source": [
    "# group rows my metacounty ID and compute mean\n",
    "flights_step1 = flights_adj_mat1.groupby('ID_metacounty', as_index=False).mean()"
   ]
  },
  {
   "cell_type": "code",
   "execution_count": 92,
   "metadata": {},
   "outputs": [
    {
     "data": {
      "text/plain": [
       "(3129, 332)"
      ]
     },
     "execution_count": 92,
     "metadata": {},
     "output_type": "execute_result"
    }
   ],
   "source": [
    "# transpose\n",
    "flights_step1 = flights_step1.T.copy()\n",
    "flights_step1.drop('ID_metacounty', inplace=True)\n",
    "flights_step1.shape"
   ]
  },
  {
   "cell_type": "code",
   "execution_count": 93,
   "metadata": {},
   "outputs": [],
   "source": [
    "# add ID column back\n",
    "flights_step1['ID'] = ID_col"
   ]
  },
  {
   "cell_type": "code",
   "execution_count": 94,
   "metadata": {},
   "outputs": [],
   "source": [
    "# merge with metacounty ID\n",
    "flights_step1 = flights_step1.merge(long_df[['ID', 'ID_metacounty']], on='ID').copy()\n",
    "flights_step1 = flights_step1.drop('ID', axis=1)"
   ]
  },
  {
   "cell_type": "code",
   "execution_count": 95,
   "metadata": {},
   "outputs": [
    {
     "data": {
      "text/plain": [
       "(332, 332)"
      ]
     },
     "execution_count": 95,
     "metadata": {},
     "output_type": "execute_result"
    }
   ],
   "source": [
    "# group rows my metacounty ID and compute mean\n",
    "flights_step2 = flights_step1.groupby('ID_metacounty', as_index=False).mean()\n",
    "flights_step2 = flights_step2.T.copy()\n",
    "flights_step2.drop('ID_metacounty', inplace=True)\n",
    "flights_step2.shape"
   ]
  },
  {
   "cell_type": "code",
   "execution_count": 96,
   "metadata": {},
   "outputs": [
    {
     "data": {
      "text/html": [
       "<div>\n",
       "<style scoped>\n",
       "    .dataframe tbody tr th:only-of-type {\n",
       "        vertical-align: middle;\n",
       "    }\n",
       "\n",
       "    .dataframe tbody tr th {\n",
       "        vertical-align: top;\n",
       "    }\n",
       "\n",
       "    .dataframe thead th {\n",
       "        text-align: right;\n",
       "    }\n",
       "</style>\n",
       "<table border=\"1\" class=\"dataframe\">\n",
       "  <thead>\n",
       "    <tr style=\"text-align: right;\">\n",
       "      <th></th>\n",
       "      <th>0</th>\n",
       "      <th>1</th>\n",
       "      <th>2</th>\n",
       "      <th>3</th>\n",
       "      <th>4</th>\n",
       "      <th>5</th>\n",
       "      <th>6</th>\n",
       "      <th>7</th>\n",
       "      <th>8</th>\n",
       "      <th>9</th>\n",
       "      <th>...</th>\n",
       "      <th>322</th>\n",
       "      <th>323</th>\n",
       "      <th>324</th>\n",
       "      <th>325</th>\n",
       "      <th>326</th>\n",
       "      <th>327</th>\n",
       "      <th>328</th>\n",
       "      <th>329</th>\n",
       "      <th>330</th>\n",
       "      <th>331</th>\n",
       "    </tr>\n",
       "  </thead>\n",
       "  <tbody>\n",
       "    <tr>\n",
       "      <th>0</th>\n",
       "      <td>0.000000</td>\n",
       "      <td>0.000000</td>\n",
       "      <td>1.204956</td>\n",
       "      <td>0.000000</td>\n",
       "      <td>1.499261</td>\n",
       "      <td>0.466508</td>\n",
       "      <td>1.517879</td>\n",
       "      <td>0.023092</td>\n",
       "      <td>0.000000</td>\n",
       "      <td>90.684098</td>\n",
       "      <td>...</td>\n",
       "      <td>9.604288</td>\n",
       "      <td>0.0</td>\n",
       "      <td>1.302158</td>\n",
       "      <td>0.011912</td>\n",
       "      <td>0.043539</td>\n",
       "      <td>1.875833</td>\n",
       "      <td>1.883827</td>\n",
       "      <td>3.770333</td>\n",
       "      <td>46.060474</td>\n",
       "      <td>0.00000</td>\n",
       "    </tr>\n",
       "    <tr>\n",
       "      <th>1</th>\n",
       "      <td>0.000000</td>\n",
       "      <td>0.000000</td>\n",
       "      <td>1.498988</td>\n",
       "      <td>10.766026</td>\n",
       "      <td>0.000000</td>\n",
       "      <td>0.599722</td>\n",
       "      <td>0.000000</td>\n",
       "      <td>0.000000</td>\n",
       "      <td>0.000000</td>\n",
       "      <td>0.000000</td>\n",
       "      <td>...</td>\n",
       "      <td>0.000000</td>\n",
       "      <td>0.0</td>\n",
       "      <td>0.000000</td>\n",
       "      <td>0.000000</td>\n",
       "      <td>0.000000</td>\n",
       "      <td>0.000000</td>\n",
       "      <td>0.000000</td>\n",
       "      <td>0.000000</td>\n",
       "      <td>1.298312</td>\n",
       "      <td>0.00000</td>\n",
       "    </tr>\n",
       "    <tr>\n",
       "      <th>2</th>\n",
       "      <td>1.204956</td>\n",
       "      <td>1.498988</td>\n",
       "      <td>0.000000</td>\n",
       "      <td>0.000000</td>\n",
       "      <td>0.115925</td>\n",
       "      <td>1.188628</td>\n",
       "      <td>0.000000</td>\n",
       "      <td>0.000000</td>\n",
       "      <td>0.000000</td>\n",
       "      <td>0.000000</td>\n",
       "      <td>...</td>\n",
       "      <td>0.312434</td>\n",
       "      <td>0.0</td>\n",
       "      <td>0.000000</td>\n",
       "      <td>0.025824</td>\n",
       "      <td>0.000000</td>\n",
       "      <td>0.158290</td>\n",
       "      <td>3.511468</td>\n",
       "      <td>0.000000</td>\n",
       "      <td>0.321847</td>\n",
       "      <td>0.25590</td>\n",
       "    </tr>\n",
       "    <tr>\n",
       "      <th>3</th>\n",
       "      <td>0.000000</td>\n",
       "      <td>10.766026</td>\n",
       "      <td>0.000000</td>\n",
       "      <td>0.000000</td>\n",
       "      <td>0.062934</td>\n",
       "      <td>0.265027</td>\n",
       "      <td>0.000000</td>\n",
       "      <td>0.000000</td>\n",
       "      <td>0.000000</td>\n",
       "      <td>0.000000</td>\n",
       "      <td>...</td>\n",
       "      <td>0.000000</td>\n",
       "      <td>0.0</td>\n",
       "      <td>0.000000</td>\n",
       "      <td>0.000000</td>\n",
       "      <td>0.000000</td>\n",
       "      <td>0.000000</td>\n",
       "      <td>0.000000</td>\n",
       "      <td>0.000000</td>\n",
       "      <td>0.000000</td>\n",
       "      <td>0.00000</td>\n",
       "    </tr>\n",
       "    <tr>\n",
       "      <th>4</th>\n",
       "      <td>1.499261</td>\n",
       "      <td>0.000000</td>\n",
       "      <td>0.115925</td>\n",
       "      <td>0.062934</td>\n",
       "      <td>0.000000</td>\n",
       "      <td>0.044995</td>\n",
       "      <td>0.134993</td>\n",
       "      <td>0.002054</td>\n",
       "      <td>0.000000</td>\n",
       "      <td>8.064988</td>\n",
       "      <td>...</td>\n",
       "      <td>0.854157</td>\n",
       "      <td>0.0</td>\n",
       "      <td>0.115807</td>\n",
       "      <td>0.001059</td>\n",
       "      <td>0.003872</td>\n",
       "      <td>0.166827</td>\n",
       "      <td>0.167538</td>\n",
       "      <td>0.335314</td>\n",
       "      <td>4.103976</td>\n",
       "      <td>0.00000</td>\n",
       "    </tr>\n",
       "    <tr>\n",
       "      <th>...</th>\n",
       "      <td>...</td>\n",
       "      <td>...</td>\n",
       "      <td>...</td>\n",
       "      <td>...</td>\n",
       "      <td>...</td>\n",
       "      <td>...</td>\n",
       "      <td>...</td>\n",
       "      <td>...</td>\n",
       "      <td>...</td>\n",
       "      <td>...</td>\n",
       "      <td>...</td>\n",
       "      <td>...</td>\n",
       "      <td>...</td>\n",
       "      <td>...</td>\n",
       "      <td>...</td>\n",
       "      <td>...</td>\n",
       "      <td>...</td>\n",
       "      <td>...</td>\n",
       "      <td>...</td>\n",
       "      <td>...</td>\n",
       "      <td>...</td>\n",
       "    </tr>\n",
       "    <tr>\n",
       "      <th>327</th>\n",
       "      <td>1.875833</td>\n",
       "      <td>0.000000</td>\n",
       "      <td>0.158290</td>\n",
       "      <td>0.000000</td>\n",
       "      <td>0.166827</td>\n",
       "      <td>0.063329</td>\n",
       "      <td>0.137133</td>\n",
       "      <td>37.746257</td>\n",
       "      <td>0.000000</td>\n",
       "      <td>5.343031</td>\n",
       "      <td>...</td>\n",
       "      <td>0.171720</td>\n",
       "      <td>0.0</td>\n",
       "      <td>135.764368</td>\n",
       "      <td>6.175954</td>\n",
       "      <td>12.172612</td>\n",
       "      <td>0.000000</td>\n",
       "      <td>224.781365</td>\n",
       "      <td>25.079919</td>\n",
       "      <td>159.967962</td>\n",
       "      <td>0.00000</td>\n",
       "    </tr>\n",
       "    <tr>\n",
       "      <th>328</th>\n",
       "      <td>1.883827</td>\n",
       "      <td>0.000000</td>\n",
       "      <td>3.511468</td>\n",
       "      <td>0.000000</td>\n",
       "      <td>0.167538</td>\n",
       "      <td>1.404885</td>\n",
       "      <td>0.000000</td>\n",
       "      <td>1013.906254</td>\n",
       "      <td>0.000000</td>\n",
       "      <td>175.934828</td>\n",
       "      <td>...</td>\n",
       "      <td>2.821335</td>\n",
       "      <td>0.0</td>\n",
       "      <td>3052.207380</td>\n",
       "      <td>146.025490</td>\n",
       "      <td>350.845014</td>\n",
       "      <td>224.781365</td>\n",
       "      <td>0.000000</td>\n",
       "      <td>510.368143</td>\n",
       "      <td>1768.672671</td>\n",
       "      <td>0.00000</td>\n",
       "    </tr>\n",
       "    <tr>\n",
       "      <th>329</th>\n",
       "      <td>3.770333</td>\n",
       "      <td>0.000000</td>\n",
       "      <td>0.000000</td>\n",
       "      <td>0.000000</td>\n",
       "      <td>0.335314</td>\n",
       "      <td>0.000000</td>\n",
       "      <td>0.199513</td>\n",
       "      <td>10.721841</td>\n",
       "      <td>0.000000</td>\n",
       "      <td>0.000000</td>\n",
       "      <td>...</td>\n",
       "      <td>0.097209</td>\n",
       "      <td>0.0</td>\n",
       "      <td>201.405760</td>\n",
       "      <td>1.873762</td>\n",
       "      <td>15.049398</td>\n",
       "      <td>25.079919</td>\n",
       "      <td>510.368143</td>\n",
       "      <td>0.000000</td>\n",
       "      <td>209.605434</td>\n",
       "      <td>0.00000</td>\n",
       "    </tr>\n",
       "    <tr>\n",
       "      <th>330</th>\n",
       "      <td>46.060474</td>\n",
       "      <td>1.298312</td>\n",
       "      <td>0.321847</td>\n",
       "      <td>0.000000</td>\n",
       "      <td>4.103976</td>\n",
       "      <td>0.176286</td>\n",
       "      <td>85.332435</td>\n",
       "      <td>123.378676</td>\n",
       "      <td>0.652208</td>\n",
       "      <td>507.482579</td>\n",
       "      <td>...</td>\n",
       "      <td>2.416581</td>\n",
       "      <td>0.0</td>\n",
       "      <td>2461.228114</td>\n",
       "      <td>32.942711</td>\n",
       "      <td>33.643024</td>\n",
       "      <td>159.967962</td>\n",
       "      <td>1768.672671</td>\n",
       "      <td>209.605434</td>\n",
       "      <td>0.000000</td>\n",
       "      <td>0.01556</td>\n",
       "    </tr>\n",
       "    <tr>\n",
       "      <th>331</th>\n",
       "      <td>0.000000</td>\n",
       "      <td>0.000000</td>\n",
       "      <td>0.255900</td>\n",
       "      <td>0.000000</td>\n",
       "      <td>0.000000</td>\n",
       "      <td>0.102382</td>\n",
       "      <td>0.000000</td>\n",
       "      <td>0.181168</td>\n",
       "      <td>0.000000</td>\n",
       "      <td>0.000000</td>\n",
       "      <td>...</td>\n",
       "      <td>0.000000</td>\n",
       "      <td>0.0</td>\n",
       "      <td>0.000000</td>\n",
       "      <td>0.000000</td>\n",
       "      <td>0.011532</td>\n",
       "      <td>0.000000</td>\n",
       "      <td>0.000000</td>\n",
       "      <td>0.000000</td>\n",
       "      <td>0.015560</td>\n",
       "      <td>0.00000</td>\n",
       "    </tr>\n",
       "  </tbody>\n",
       "</table>\n",
       "<p>332 rows × 332 columns</p>\n",
       "</div>"
      ],
      "text/plain": [
       "           0          1         2          3         4         5          6    \\\n",
       "0     0.000000   0.000000  1.204956   0.000000  1.499261  0.466508   1.517879   \n",
       "1     0.000000   0.000000  1.498988  10.766026  0.000000  0.599722   0.000000   \n",
       "2     1.204956   1.498988  0.000000   0.000000  0.115925  1.188628   0.000000   \n",
       "3     0.000000  10.766026  0.000000   0.000000  0.062934  0.265027   0.000000   \n",
       "4     1.499261   0.000000  0.115925   0.062934  0.000000  0.044995   0.134993   \n",
       "..         ...        ...       ...        ...       ...       ...        ...   \n",
       "327   1.875833   0.000000  0.158290   0.000000  0.166827  0.063329   0.137133   \n",
       "328   1.883827   0.000000  3.511468   0.000000  0.167538  1.404885   0.000000   \n",
       "329   3.770333   0.000000  0.000000   0.000000  0.335314  0.000000   0.199513   \n",
       "330  46.060474   1.298312  0.321847   0.000000  4.103976  0.176286  85.332435   \n",
       "331   0.000000   0.000000  0.255900   0.000000  0.000000  0.102382   0.000000   \n",
       "\n",
       "             7         8           9    ...       322  323          324  \\\n",
       "0       0.023092  0.000000   90.684098  ...  9.604288  0.0     1.302158   \n",
       "1       0.000000  0.000000    0.000000  ...  0.000000  0.0     0.000000   \n",
       "2       0.000000  0.000000    0.000000  ...  0.312434  0.0     0.000000   \n",
       "3       0.000000  0.000000    0.000000  ...  0.000000  0.0     0.000000   \n",
       "4       0.002054  0.000000    8.064988  ...  0.854157  0.0     0.115807   \n",
       "..           ...       ...         ...  ...       ...  ...          ...   \n",
       "327    37.746257  0.000000    5.343031  ...  0.171720  0.0   135.764368   \n",
       "328  1013.906254  0.000000  175.934828  ...  2.821335  0.0  3052.207380   \n",
       "329    10.721841  0.000000    0.000000  ...  0.097209  0.0   201.405760   \n",
       "330   123.378676  0.652208  507.482579  ...  2.416581  0.0  2461.228114   \n",
       "331     0.181168  0.000000    0.000000  ...  0.000000  0.0     0.000000   \n",
       "\n",
       "            325         326         327          328         329          330  \\\n",
       "0      0.011912    0.043539    1.875833     1.883827    3.770333    46.060474   \n",
       "1      0.000000    0.000000    0.000000     0.000000    0.000000     1.298312   \n",
       "2      0.025824    0.000000    0.158290     3.511468    0.000000     0.321847   \n",
       "3      0.000000    0.000000    0.000000     0.000000    0.000000     0.000000   \n",
       "4      0.001059    0.003872    0.166827     0.167538    0.335314     4.103976   \n",
       "..          ...         ...         ...          ...         ...          ...   \n",
       "327    6.175954   12.172612    0.000000   224.781365   25.079919   159.967962   \n",
       "328  146.025490  350.845014  224.781365     0.000000  510.368143  1768.672671   \n",
       "329    1.873762   15.049398   25.079919   510.368143    0.000000   209.605434   \n",
       "330   32.942711   33.643024  159.967962  1768.672671  209.605434     0.000000   \n",
       "331    0.000000    0.011532    0.000000     0.000000    0.000000     0.015560   \n",
       "\n",
       "         331  \n",
       "0    0.00000  \n",
       "1    0.00000  \n",
       "2    0.25590  \n",
       "3    0.00000  \n",
       "4    0.00000  \n",
       "..       ...  \n",
       "327  0.00000  \n",
       "328  0.00000  \n",
       "329  0.00000  \n",
       "330  0.01556  \n",
       "331  0.00000  \n",
       "\n",
       "[332 rows x 332 columns]"
      ]
     },
     "execution_count": 96,
     "metadata": {},
     "output_type": "execute_result"
    }
   ],
   "source": [
    "# fill diagonal with zeros\n",
    "flights_step2 = flights_step2.where(np.identity(flights_step2.shape[0]) != 1,0).copy()\n",
    "flights_step2"
   ]
  },
  {
   "cell_type": "code",
   "execution_count": 97,
   "metadata": {},
   "outputs": [],
   "source": [
    "flights_step2.to_csv(save_path + f'flights_{total_no_counties}_meta_capacity.csv')\n",
    "#flights_step2.to_csv(save_path + f'flights_{total_no_counties}_meta_nocapacity.csv')"
   ]
  },
  {
   "cell_type": "markdown",
   "metadata": {},
   "source": [
    "## Geodist"
   ]
  },
  {
   "cell_type": "code",
   "execution_count": 98,
   "metadata": {},
   "outputs": [
    {
     "data": {
      "text/plain": [
       "(3129, 3130)"
      ]
     },
     "execution_count": 98,
     "metadata": {},
     "output_type": "execute_result"
    }
   ],
   "source": [
    "# merge with metacounty ID\n",
    "geodist = geodist.merge(long_df[['ID', 'ID_metacounty']], on='ID').copy()\n",
    "ID_col = geodist['ID'].values\n",
    "geodist1 = geodist.drop('ID', axis=1)\n",
    "geodist1.shape"
   ]
  },
  {
   "cell_type": "code",
   "execution_count": 99,
   "metadata": {},
   "outputs": [],
   "source": [
    "# group rows my metacounty ID and compute mean\n",
    "geo_step1 = geodist1.groupby('ID_metacounty', as_index=False).mean()"
   ]
  },
  {
   "cell_type": "code",
   "execution_count": 100,
   "metadata": {},
   "outputs": [
    {
     "data": {
      "text/plain": [
       "(3129, 332)"
      ]
     },
     "execution_count": 100,
     "metadata": {},
     "output_type": "execute_result"
    }
   ],
   "source": [
    "# transpose\n",
    "geo_step1 = geo_step1.T.copy()\n",
    "geo_step1.drop('ID_metacounty', inplace=True)\n",
    "geo_step1.shape"
   ]
  },
  {
   "cell_type": "code",
   "execution_count": 101,
   "metadata": {},
   "outputs": [],
   "source": [
    "# add ID column back\n",
    "geo_step1['ID'] = ID_col"
   ]
  },
  {
   "cell_type": "code",
   "execution_count": 102,
   "metadata": {},
   "outputs": [],
   "source": [
    "# merge with metacounty ID\n",
    "geo_step1 = geo_step1.merge(long_df[['ID', 'ID_metacounty']], on='ID').copy()\n",
    "geo_step1 = geo_step1.drop('ID', axis=1)"
   ]
  },
  {
   "cell_type": "code",
   "execution_count": 103,
   "metadata": {},
   "outputs": [
    {
     "data": {
      "text/plain": [
       "(332, 332)"
      ]
     },
     "execution_count": 103,
     "metadata": {},
     "output_type": "execute_result"
    }
   ],
   "source": [
    "# group rows my metacounty ID and compute mean\n",
    "geo_step2 = geo_step1.groupby('ID_metacounty', as_index=False).mean()\n",
    "geo_step2 = geo_step2.T.copy()\n",
    "geo_step2.drop('ID_metacounty', inplace=True)\n",
    "geo_step2.shape"
   ]
  },
  {
   "cell_type": "code",
   "execution_count": 104,
   "metadata": {},
   "outputs": [
    {
     "data": {
      "text/html": [
       "<div>\n",
       "<style scoped>\n",
       "    .dataframe tbody tr th:only-of-type {\n",
       "        vertical-align: middle;\n",
       "    }\n",
       "\n",
       "    .dataframe tbody tr th {\n",
       "        vertical-align: top;\n",
       "    }\n",
       "\n",
       "    .dataframe thead th {\n",
       "        text-align: right;\n",
       "    }\n",
       "</style>\n",
       "<table border=\"1\" class=\"dataframe\">\n",
       "  <thead>\n",
       "    <tr style=\"text-align: right;\">\n",
       "      <th></th>\n",
       "      <th>0</th>\n",
       "      <th>1</th>\n",
       "      <th>2</th>\n",
       "      <th>3</th>\n",
       "      <th>4</th>\n",
       "      <th>5</th>\n",
       "      <th>6</th>\n",
       "      <th>7</th>\n",
       "      <th>8</th>\n",
       "      <th>9</th>\n",
       "      <th>...</th>\n",
       "      <th>322</th>\n",
       "      <th>323</th>\n",
       "      <th>324</th>\n",
       "      <th>325</th>\n",
       "      <th>326</th>\n",
       "      <th>327</th>\n",
       "      <th>328</th>\n",
       "      <th>329</th>\n",
       "      <th>330</th>\n",
       "      <th>331</th>\n",
       "    </tr>\n",
       "  </thead>\n",
       "  <tbody>\n",
       "    <tr>\n",
       "      <th>0</th>\n",
       "      <td>0.000000e+00</td>\n",
       "      <td>1.366681e+05</td>\n",
       "      <td>3.133887e+05</td>\n",
       "      <td>3.847941e+05</td>\n",
       "      <td>1.482835e+05</td>\n",
       "      <td>1.958932e+05</td>\n",
       "      <td>5.217304e+06</td>\n",
       "      <td>2.254423e+06</td>\n",
       "      <td>2.396243e+06</td>\n",
       "      <td>2.403061e+06</td>\n",
       "      <td>...</td>\n",
       "      <td>7.665846e+05</td>\n",
       "      <td>5.881815e+05</td>\n",
       "      <td>9.961987e+05</td>\n",
       "      <td>1.072605e+06</td>\n",
       "      <td>1.288892e+06</td>\n",
       "      <td>1.045283e+06</td>\n",
       "      <td>9.603773e+05</td>\n",
       "      <td>1.213918e+06</td>\n",
       "      <td>9.474787e+05</td>\n",
       "      <td>2.061360e+06</td>\n",
       "    </tr>\n",
       "    <tr>\n",
       "      <th>1</th>\n",
       "      <td>1.366681e+05</td>\n",
       "      <td>0.000000e+00</td>\n",
       "      <td>2.277198e+05</td>\n",
       "      <td>2.580612e+05</td>\n",
       "      <td>1.025178e+05</td>\n",
       "      <td>1.175284e+05</td>\n",
       "      <td>5.257519e+06</td>\n",
       "      <td>2.182129e+06</td>\n",
       "      <td>2.337074e+06</td>\n",
       "      <td>2.328744e+06</td>\n",
       "      <td>...</td>\n",
       "      <td>8.961697e+05</td>\n",
       "      <td>7.173518e+05</td>\n",
       "      <td>1.081232e+06</td>\n",
       "      <td>1.153655e+06</td>\n",
       "      <td>1.366322e+06</td>\n",
       "      <td>1.140012e+06</td>\n",
       "      <td>1.056031e+06</td>\n",
       "      <td>1.306429e+06</td>\n",
       "      <td>1.037728e+06</td>\n",
       "      <td>2.059987e+06</td>\n",
       "    </tr>\n",
       "    <tr>\n",
       "      <th>2</th>\n",
       "      <td>3.133887e+05</td>\n",
       "      <td>2.277198e+05</td>\n",
       "      <td>0.000000e+00</td>\n",
       "      <td>1.809742e+05</td>\n",
       "      <td>3.128583e+05</td>\n",
       "      <td>1.835763e+05</td>\n",
       "      <td>5.476610e+06</td>\n",
       "      <td>2.300375e+06</td>\n",
       "      <td>2.475100e+06</td>\n",
       "      <td>2.442823e+06</td>\n",
       "      <td>...</td>\n",
       "      <td>1.003726e+06</td>\n",
       "      <td>8.291225e+05</td>\n",
       "      <td>1.299040e+06</td>\n",
       "      <td>1.372906e+06</td>\n",
       "      <td>1.586944e+06</td>\n",
       "      <td>1.352365e+06</td>\n",
       "      <td>1.267773e+06</td>\n",
       "      <td>1.520073e+06</td>\n",
       "      <td>1.252672e+06</td>\n",
       "      <td>2.260318e+06</td>\n",
       "    </tr>\n",
       "    <tr>\n",
       "      <th>3</th>\n",
       "      <td>3.847941e+05</td>\n",
       "      <td>2.580612e+05</td>\n",
       "      <td>1.809742e+05</td>\n",
       "      <td>0.000000e+00</td>\n",
       "      <td>3.176369e+05</td>\n",
       "      <td>2.214443e+05</td>\n",
       "      <td>5.420924e+06</td>\n",
       "      <td>2.147139e+06</td>\n",
       "      <td>2.330319e+06</td>\n",
       "      <td>2.287638e+06</td>\n",
       "      <td>...</td>\n",
       "      <td>1.130123e+06</td>\n",
       "      <td>9.522154e+05</td>\n",
       "      <td>1.315782e+06</td>\n",
       "      <td>1.383796e+06</td>\n",
       "      <td>1.591186e+06</td>\n",
       "      <td>1.382288e+06</td>\n",
       "      <td>1.299538e+06</td>\n",
       "      <td>1.545872e+06</td>\n",
       "      <td>1.276999e+06</td>\n",
       "      <td>2.168065e+06</td>\n",
       "    </tr>\n",
       "    <tr>\n",
       "      <th>4</th>\n",
       "      <td>1.482835e+05</td>\n",
       "      <td>1.025178e+05</td>\n",
       "      <td>3.128583e+05</td>\n",
       "      <td>3.176369e+05</td>\n",
       "      <td>0.000000e+00</td>\n",
       "      <td>1.877990e+05</td>\n",
       "      <td>5.174549e+06</td>\n",
       "      <td>2.127152e+06</td>\n",
       "      <td>2.275206e+06</td>\n",
       "      <td>2.274875e+06</td>\n",
       "      <td>...</td>\n",
       "      <td>8.872654e+05</td>\n",
       "      <td>7.100464e+05</td>\n",
       "      <td>1.008903e+06</td>\n",
       "      <td>1.079733e+06</td>\n",
       "      <td>1.290651e+06</td>\n",
       "      <td>1.071834e+06</td>\n",
       "      <td>9.886255e+05</td>\n",
       "      <td>1.236771e+06</td>\n",
       "      <td>9.678760e+05</td>\n",
       "      <td>1.980087e+06</td>\n",
       "    </tr>\n",
       "    <tr>\n",
       "      <th>...</th>\n",
       "      <td>...</td>\n",
       "      <td>...</td>\n",
       "      <td>...</td>\n",
       "      <td>...</td>\n",
       "      <td>...</td>\n",
       "      <td>...</td>\n",
       "      <td>...</td>\n",
       "      <td>...</td>\n",
       "      <td>...</td>\n",
       "      <td>...</td>\n",
       "      <td>...</td>\n",
       "      <td>...</td>\n",
       "      <td>...</td>\n",
       "      <td>...</td>\n",
       "      <td>...</td>\n",
       "      <td>...</td>\n",
       "      <td>...</td>\n",
       "      <td>...</td>\n",
       "      <td>...</td>\n",
       "      <td>...</td>\n",
       "      <td>...</td>\n",
       "    </tr>\n",
       "    <tr>\n",
       "      <th>327</th>\n",
       "      <td>1.045283e+06</td>\n",
       "      <td>1.140012e+06</td>\n",
       "      <td>1.352365e+06</td>\n",
       "      <td>1.382288e+06</td>\n",
       "      <td>1.071834e+06</td>\n",
       "      <td>1.211182e+06</td>\n",
       "      <td>4.306586e+06</td>\n",
       "      <td>2.277421e+06</td>\n",
       "      <td>2.287832e+06</td>\n",
       "      <td>2.426849e+06</td>\n",
       "      <td>...</td>\n",
       "      <td>8.500572e+05</td>\n",
       "      <td>8.438916e+05</td>\n",
       "      <td>1.242679e+05</td>\n",
       "      <td>1.662044e+05</td>\n",
       "      <td>3.229979e+05</td>\n",
       "      <td>0.000000e+00</td>\n",
       "      <td>8.918011e+04</td>\n",
       "      <td>1.833067e+05</td>\n",
       "      <td>1.220584e+05</td>\n",
       "      <td>1.532297e+06</td>\n",
       "    </tr>\n",
       "    <tr>\n",
       "      <th>328</th>\n",
       "      <td>9.603773e+05</td>\n",
       "      <td>1.056031e+06</td>\n",
       "      <td>1.267773e+06</td>\n",
       "      <td>1.299538e+06</td>\n",
       "      <td>9.886255e+05</td>\n",
       "      <td>1.127165e+06</td>\n",
       "      <td>4.381833e+06</td>\n",
       "      <td>2.264691e+06</td>\n",
       "      <td>2.286173e+06</td>\n",
       "      <td>2.415251e+06</td>\n",
       "      <td>...</td>\n",
       "      <td>7.881383e+05</td>\n",
       "      <td>7.707937e+05</td>\n",
       "      <td>1.181773e+05</td>\n",
       "      <td>1.972188e+05</td>\n",
       "      <td>3.886009e+05</td>\n",
       "      <td>8.918011e+04</td>\n",
       "      <td>0.000000e+00</td>\n",
       "      <td>2.612042e+05</td>\n",
       "      <td>6.666998e+04</td>\n",
       "      <td>1.562229e+06</td>\n",
       "    </tr>\n",
       "    <tr>\n",
       "      <th>329</th>\n",
       "      <td>1.213918e+06</td>\n",
       "      <td>1.306429e+06</td>\n",
       "      <td>1.520073e+06</td>\n",
       "      <td>1.545872e+06</td>\n",
       "      <td>1.236771e+06</td>\n",
       "      <td>1.377734e+06</td>\n",
       "      <td>4.153014e+06</td>\n",
       "      <td>2.301469e+06</td>\n",
       "      <td>2.289841e+06</td>\n",
       "      <td>2.447998e+06</td>\n",
       "      <td>...</td>\n",
       "      <td>9.892710e+05</td>\n",
       "      <td>9.991613e+05</td>\n",
       "      <td>2.476014e+05</td>\n",
       "      <td>2.204424e+05</td>\n",
       "      <td>2.296811e+05</td>\n",
       "      <td>1.833067e+05</td>\n",
       "      <td>2.612042e+05</td>\n",
       "      <td>0.000000e+00</td>\n",
       "      <td>2.798602e+05</td>\n",
       "      <td>1.475298e+06</td>\n",
       "    </tr>\n",
       "    <tr>\n",
       "      <th>330</th>\n",
       "      <td>9.474787e+05</td>\n",
       "      <td>1.037728e+06</td>\n",
       "      <td>1.252672e+06</td>\n",
       "      <td>1.276999e+06</td>\n",
       "      <td>9.678760e+05</td>\n",
       "      <td>1.110040e+06</td>\n",
       "      <td>4.365319e+06</td>\n",
       "      <td>2.205032e+06</td>\n",
       "      <td>2.227394e+06</td>\n",
       "      <td>2.355580e+06</td>\n",
       "      <td>...</td>\n",
       "      <td>8.247077e+05</td>\n",
       "      <td>7.962257e+05</td>\n",
       "      <td>8.088767e+04</td>\n",
       "      <td>1.687160e+05</td>\n",
       "      <td>3.723538e+05</td>\n",
       "      <td>1.220584e+05</td>\n",
       "      <td>6.666998e+04</td>\n",
       "      <td>2.798602e+05</td>\n",
       "      <td>0.000000e+00</td>\n",
       "      <td>1.512422e+06</td>\n",
       "    </tr>\n",
       "    <tr>\n",
       "      <th>331</th>\n",
       "      <td>2.061360e+06</td>\n",
       "      <td>2.059987e+06</td>\n",
       "      <td>2.260318e+06</td>\n",
       "      <td>2.168065e+06</td>\n",
       "      <td>1.980087e+06</td>\n",
       "      <td>2.124014e+06</td>\n",
       "      <td>3.349569e+06</td>\n",
       "      <td>1.204315e+06</td>\n",
       "      <td>1.046975e+06</td>\n",
       "      <td>1.302563e+06</td>\n",
       "      <td>...</td>\n",
       "      <td>2.309511e+06</td>\n",
       "      <td>2.235414e+06</td>\n",
       "      <td>1.444681e+06</td>\n",
       "      <td>1.380948e+06</td>\n",
       "      <td>1.273851e+06</td>\n",
       "      <td>1.532297e+06</td>\n",
       "      <td>1.562229e+06</td>\n",
       "      <td>1.475298e+06</td>\n",
       "      <td>1.512422e+06</td>\n",
       "      <td>0.000000e+00</td>\n",
       "    </tr>\n",
       "  </tbody>\n",
       "</table>\n",
       "<p>332 rows × 332 columns</p>\n",
       "</div>"
      ],
      "text/plain": [
       "              0             1             2             3             4    \\\n",
       "0    0.000000e+00  1.366681e+05  3.133887e+05  3.847941e+05  1.482835e+05   \n",
       "1    1.366681e+05  0.000000e+00  2.277198e+05  2.580612e+05  1.025178e+05   \n",
       "2    3.133887e+05  2.277198e+05  0.000000e+00  1.809742e+05  3.128583e+05   \n",
       "3    3.847941e+05  2.580612e+05  1.809742e+05  0.000000e+00  3.176369e+05   \n",
       "4    1.482835e+05  1.025178e+05  3.128583e+05  3.176369e+05  0.000000e+00   \n",
       "..            ...           ...           ...           ...           ...   \n",
       "327  1.045283e+06  1.140012e+06  1.352365e+06  1.382288e+06  1.071834e+06   \n",
       "328  9.603773e+05  1.056031e+06  1.267773e+06  1.299538e+06  9.886255e+05   \n",
       "329  1.213918e+06  1.306429e+06  1.520073e+06  1.545872e+06  1.236771e+06   \n",
       "330  9.474787e+05  1.037728e+06  1.252672e+06  1.276999e+06  9.678760e+05   \n",
       "331  2.061360e+06  2.059987e+06  2.260318e+06  2.168065e+06  1.980087e+06   \n",
       "\n",
       "              5             6             7             8             9    \\\n",
       "0    1.958932e+05  5.217304e+06  2.254423e+06  2.396243e+06  2.403061e+06   \n",
       "1    1.175284e+05  5.257519e+06  2.182129e+06  2.337074e+06  2.328744e+06   \n",
       "2    1.835763e+05  5.476610e+06  2.300375e+06  2.475100e+06  2.442823e+06   \n",
       "3    2.214443e+05  5.420924e+06  2.147139e+06  2.330319e+06  2.287638e+06   \n",
       "4    1.877990e+05  5.174549e+06  2.127152e+06  2.275206e+06  2.274875e+06   \n",
       "..            ...           ...           ...           ...           ...   \n",
       "327  1.211182e+06  4.306586e+06  2.277421e+06  2.287832e+06  2.426849e+06   \n",
       "328  1.127165e+06  4.381833e+06  2.264691e+06  2.286173e+06  2.415251e+06   \n",
       "329  1.377734e+06  4.153014e+06  2.301469e+06  2.289841e+06  2.447998e+06   \n",
       "330  1.110040e+06  4.365319e+06  2.205032e+06  2.227394e+06  2.355580e+06   \n",
       "331  2.124014e+06  3.349569e+06  1.204315e+06  1.046975e+06  1.302563e+06   \n",
       "\n",
       "     ...           322           323           324           325  \\\n",
       "0    ...  7.665846e+05  5.881815e+05  9.961987e+05  1.072605e+06   \n",
       "1    ...  8.961697e+05  7.173518e+05  1.081232e+06  1.153655e+06   \n",
       "2    ...  1.003726e+06  8.291225e+05  1.299040e+06  1.372906e+06   \n",
       "3    ...  1.130123e+06  9.522154e+05  1.315782e+06  1.383796e+06   \n",
       "4    ...  8.872654e+05  7.100464e+05  1.008903e+06  1.079733e+06   \n",
       "..   ...           ...           ...           ...           ...   \n",
       "327  ...  8.500572e+05  8.438916e+05  1.242679e+05  1.662044e+05   \n",
       "328  ...  7.881383e+05  7.707937e+05  1.181773e+05  1.972188e+05   \n",
       "329  ...  9.892710e+05  9.991613e+05  2.476014e+05  2.204424e+05   \n",
       "330  ...  8.247077e+05  7.962257e+05  8.088767e+04  1.687160e+05   \n",
       "331  ...  2.309511e+06  2.235414e+06  1.444681e+06  1.380948e+06   \n",
       "\n",
       "              326           327           328           329           330  \\\n",
       "0    1.288892e+06  1.045283e+06  9.603773e+05  1.213918e+06  9.474787e+05   \n",
       "1    1.366322e+06  1.140012e+06  1.056031e+06  1.306429e+06  1.037728e+06   \n",
       "2    1.586944e+06  1.352365e+06  1.267773e+06  1.520073e+06  1.252672e+06   \n",
       "3    1.591186e+06  1.382288e+06  1.299538e+06  1.545872e+06  1.276999e+06   \n",
       "4    1.290651e+06  1.071834e+06  9.886255e+05  1.236771e+06  9.678760e+05   \n",
       "..            ...           ...           ...           ...           ...   \n",
       "327  3.229979e+05  0.000000e+00  8.918011e+04  1.833067e+05  1.220584e+05   \n",
       "328  3.886009e+05  8.918011e+04  0.000000e+00  2.612042e+05  6.666998e+04   \n",
       "329  2.296811e+05  1.833067e+05  2.612042e+05  0.000000e+00  2.798602e+05   \n",
       "330  3.723538e+05  1.220584e+05  6.666998e+04  2.798602e+05  0.000000e+00   \n",
       "331  1.273851e+06  1.532297e+06  1.562229e+06  1.475298e+06  1.512422e+06   \n",
       "\n",
       "              331  \n",
       "0    2.061360e+06  \n",
       "1    2.059987e+06  \n",
       "2    2.260318e+06  \n",
       "3    2.168065e+06  \n",
       "4    1.980087e+06  \n",
       "..            ...  \n",
       "327  1.532297e+06  \n",
       "328  1.562229e+06  \n",
       "329  1.475298e+06  \n",
       "330  1.512422e+06  \n",
       "331  0.000000e+00  \n",
       "\n",
       "[332 rows x 332 columns]"
      ]
     },
     "execution_count": 104,
     "metadata": {},
     "output_type": "execute_result"
    }
   ],
   "source": [
    "# fill diagonal with zeros\n",
    "geo_step2 = geo_step2.where(np.identity(geo_step2.shape[0]) != 1,0).copy()\n",
    "geo_step2"
   ]
  },
  {
   "cell_type": "code",
   "execution_count": 105,
   "metadata": {},
   "outputs": [],
   "source": [
    "geo_step2.to_csv(save_path + f'geodist_{total_no_counties}_meta_pruned.csv')"
   ]
  },
  {
   "cell_type": "markdown",
   "metadata": {},
   "source": [
    "## SCI"
   ]
  },
  {
   "cell_type": "code",
   "execution_count": 106,
   "metadata": {},
   "outputs": [
    {
     "data": {
      "text/plain": [
       "(3129, 3130)"
      ]
     },
     "execution_count": 106,
     "metadata": {},
     "output_type": "execute_result"
    }
   ],
   "source": [
    "# merge with metacounty ID\n",
    "sci = sci.merge(long_df[['ID', 'ID_metacounty']], on='ID').copy()\n",
    "ID_col = sci['ID'].values\n",
    "sci = sci.drop('ID', axis=1)\n",
    "sci.shape"
   ]
  },
  {
   "cell_type": "code",
   "execution_count": 107,
   "metadata": {},
   "outputs": [],
   "source": [
    "# group rows my metacounty ID and compute mean\n",
    "sci_step1 = sci.groupby('ID_metacounty', as_index=False).mean()"
   ]
  },
  {
   "cell_type": "code",
   "execution_count": 108,
   "metadata": {},
   "outputs": [
    {
     "data": {
      "text/plain": [
       "(3129, 332)"
      ]
     },
     "execution_count": 108,
     "metadata": {},
     "output_type": "execute_result"
    }
   ],
   "source": [
    "# transpose\n",
    "sci_step1 = sci_step1.T.copy()\n",
    "sci_step1.drop('ID_metacounty', inplace=True)\n",
    "sci_step1.shape"
   ]
  },
  {
   "cell_type": "code",
   "execution_count": 109,
   "metadata": {},
   "outputs": [],
   "source": [
    "# add ID column back\n",
    "sci_step1['ID'] = ID_col"
   ]
  },
  {
   "cell_type": "code",
   "execution_count": 110,
   "metadata": {},
   "outputs": [],
   "source": [
    "# merge with metacounty ID\n",
    "sci_step1 = sci_step1.merge(long_df[['ID', 'ID_metacounty']], on='ID').copy()\n",
    "sci_step1 = sci_step1.drop('ID', axis=1)"
   ]
  },
  {
   "cell_type": "code",
   "execution_count": 111,
   "metadata": {},
   "outputs": [
    {
     "data": {
      "text/plain": [
       "(332, 332)"
      ]
     },
     "execution_count": 111,
     "metadata": {},
     "output_type": "execute_result"
    }
   ],
   "source": [
    "# group rows my metacounty ID and compute mean\n",
    "sci_step2 = sci_step1.groupby('ID_metacounty', as_index=False).mean()\n",
    "sci_step2 = sci_step2.T.copy()\n",
    "sci_step2.drop('ID_metacounty', inplace=True)\n",
    "sci_step2.shape"
   ]
  },
  {
   "cell_type": "code",
   "execution_count": 112,
   "metadata": {},
   "outputs": [
    {
     "data": {
      "text/html": [
       "<div>\n",
       "<style scoped>\n",
       "    .dataframe tbody tr th:only-of-type {\n",
       "        vertical-align: middle;\n",
       "    }\n",
       "\n",
       "    .dataframe tbody tr th {\n",
       "        vertical-align: top;\n",
       "    }\n",
       "\n",
       "    .dataframe thead th {\n",
       "        text-align: right;\n",
       "    }\n",
       "</style>\n",
       "<table border=\"1\" class=\"dataframe\">\n",
       "  <thead>\n",
       "    <tr style=\"text-align: right;\">\n",
       "      <th></th>\n",
       "      <th>0</th>\n",
       "      <th>1</th>\n",
       "      <th>2</th>\n",
       "      <th>3</th>\n",
       "      <th>4</th>\n",
       "      <th>5</th>\n",
       "      <th>6</th>\n",
       "      <th>7</th>\n",
       "      <th>8</th>\n",
       "      <th>9</th>\n",
       "      <th>...</th>\n",
       "      <th>322</th>\n",
       "      <th>323</th>\n",
       "      <th>324</th>\n",
       "      <th>325</th>\n",
       "      <th>326</th>\n",
       "      <th>327</th>\n",
       "      <th>328</th>\n",
       "      <th>329</th>\n",
       "      <th>330</th>\n",
       "      <th>331</th>\n",
       "    </tr>\n",
       "  </thead>\n",
       "  <tbody>\n",
       "    <tr>\n",
       "      <th>0</th>\n",
       "      <td>0.000000</td>\n",
       "      <td>73284.400000</td>\n",
       "      <td>27020.733333</td>\n",
       "      <td>33758.250000</td>\n",
       "      <td>137248.186667</td>\n",
       "      <td>118675.808696</td>\n",
       "      <td>2141.285714</td>\n",
       "      <td>1192.733333</td>\n",
       "      <td>1083.000000</td>\n",
       "      <td>1215.600000</td>\n",
       "      <td>...</td>\n",
       "      <td>1707.366667</td>\n",
       "      <td>2193.544000</td>\n",
       "      <td>913.600000</td>\n",
       "      <td>1010.687500</td>\n",
       "      <td>908.526316</td>\n",
       "      <td>828.425000</td>\n",
       "      <td>1139.800000</td>\n",
       "      <td>857.470000</td>\n",
       "      <td>1077.428571</td>\n",
       "      <td>1599.991304</td>\n",
       "    </tr>\n",
       "    <tr>\n",
       "      <th>1</th>\n",
       "      <td>73284.400000</td>\n",
       "      <td>0.000000</td>\n",
       "      <td>85252.466667</td>\n",
       "      <td>108973.500000</td>\n",
       "      <td>175693.400000</td>\n",
       "      <td>244054.304348</td>\n",
       "      <td>1776.071429</td>\n",
       "      <td>949.333333</td>\n",
       "      <td>997.428571</td>\n",
       "      <td>1443.000000</td>\n",
       "      <td>...</td>\n",
       "      <td>1129.533333</td>\n",
       "      <td>1494.840000</td>\n",
       "      <td>1800.000000</td>\n",
       "      <td>617.000000</td>\n",
       "      <td>597.947368</td>\n",
       "      <td>834.250000</td>\n",
       "      <td>4178.000000</td>\n",
       "      <td>601.300000</td>\n",
       "      <td>1334.142857</td>\n",
       "      <td>1498.913043</td>\n",
       "    </tr>\n",
       "    <tr>\n",
       "      <th>2</th>\n",
       "      <td>27020.733333</td>\n",
       "      <td>85252.466667</td>\n",
       "      <td>0.000000</td>\n",
       "      <td>335364.633333</td>\n",
       "      <td>29533.142222</td>\n",
       "      <td>179109.252174</td>\n",
       "      <td>2296.469048</td>\n",
       "      <td>1355.344444</td>\n",
       "      <td>1011.466667</td>\n",
       "      <td>1645.133333</td>\n",
       "      <td>...</td>\n",
       "      <td>1851.440000</td>\n",
       "      <td>1614.074667</td>\n",
       "      <td>1148.733333</td>\n",
       "      <td>898.458333</td>\n",
       "      <td>838.814035</td>\n",
       "      <td>808.058333</td>\n",
       "      <td>2872.733333</td>\n",
       "      <td>841.253333</td>\n",
       "      <td>1193.990476</td>\n",
       "      <td>1422.040580</td>\n",
       "    </tr>\n",
       "    <tr>\n",
       "      <th>3</th>\n",
       "      <td>33758.250000</td>\n",
       "      <td>108973.500000</td>\n",
       "      <td>335364.633333</td>\n",
       "      <td>0.000000</td>\n",
       "      <td>51957.425000</td>\n",
       "      <td>387523.032609</td>\n",
       "      <td>1909.700893</td>\n",
       "      <td>978.750000</td>\n",
       "      <td>1007.160714</td>\n",
       "      <td>1143.375000</td>\n",
       "      <td>...</td>\n",
       "      <td>1469.062500</td>\n",
       "      <td>1481.770000</td>\n",
       "      <td>913.625000</td>\n",
       "      <td>1105.820312</td>\n",
       "      <td>906.236842</td>\n",
       "      <td>1117.468750</td>\n",
       "      <td>2778.000000</td>\n",
       "      <td>896.031250</td>\n",
       "      <td>1246.857143</td>\n",
       "      <td>1766.380435</td>\n",
       "    </tr>\n",
       "    <tr>\n",
       "      <th>4</th>\n",
       "      <td>137248.186667</td>\n",
       "      <td>175693.400000</td>\n",
       "      <td>29533.142222</td>\n",
       "      <td>51957.425000</td>\n",
       "      <td>0.000000</td>\n",
       "      <td>186742.773913</td>\n",
       "      <td>1660.764286</td>\n",
       "      <td>1275.955556</td>\n",
       "      <td>1094.228571</td>\n",
       "      <td>1145.333333</td>\n",
       "      <td>...</td>\n",
       "      <td>1732.253333</td>\n",
       "      <td>2499.216000</td>\n",
       "      <td>839.400000</td>\n",
       "      <td>978.462500</td>\n",
       "      <td>846.800000</td>\n",
       "      <td>869.700000</td>\n",
       "      <td>1355.866667</td>\n",
       "      <td>789.930000</td>\n",
       "      <td>1276.371429</td>\n",
       "      <td>1857.049275</td>\n",
       "    </tr>\n",
       "    <tr>\n",
       "      <th>...</th>\n",
       "      <td>...</td>\n",
       "      <td>...</td>\n",
       "      <td>...</td>\n",
       "      <td>...</td>\n",
       "      <td>...</td>\n",
       "      <td>...</td>\n",
       "      <td>...</td>\n",
       "      <td>...</td>\n",
       "      <td>...</td>\n",
       "      <td>...</td>\n",
       "      <td>...</td>\n",
       "      <td>...</td>\n",
       "      <td>...</td>\n",
       "      <td>...</td>\n",
       "      <td>...</td>\n",
       "      <td>...</td>\n",
       "      <td>...</td>\n",
       "      <td>...</td>\n",
       "      <td>...</td>\n",
       "      <td>...</td>\n",
       "      <td>...</td>\n",
       "    </tr>\n",
       "    <tr>\n",
       "      <th>327</th>\n",
       "      <td>828.425000</td>\n",
       "      <td>834.250000</td>\n",
       "      <td>808.058333</td>\n",
       "      <td>1117.468750</td>\n",
       "      <td>869.700000</td>\n",
       "      <td>925.891304</td>\n",
       "      <td>2481.611607</td>\n",
       "      <td>1365.895833</td>\n",
       "      <td>1563.250000</td>\n",
       "      <td>1882.625000</td>\n",
       "      <td>...</td>\n",
       "      <td>814.991667</td>\n",
       "      <td>749.110000</td>\n",
       "      <td>82440.125000</td>\n",
       "      <td>96798.500000</td>\n",
       "      <td>30527.085526</td>\n",
       "      <td>0.000000</td>\n",
       "      <td>111392.000000</td>\n",
       "      <td>123248.187500</td>\n",
       "      <td>85689.928571</td>\n",
       "      <td>2303.652174</td>\n",
       "    </tr>\n",
       "    <tr>\n",
       "      <th>328</th>\n",
       "      <td>1139.800000</td>\n",
       "      <td>4178.000000</td>\n",
       "      <td>2872.733333</td>\n",
       "      <td>2778.000000</td>\n",
       "      <td>1355.866667</td>\n",
       "      <td>2677.826087</td>\n",
       "      <td>1459.785714</td>\n",
       "      <td>1799.833333</td>\n",
       "      <td>1214.428571</td>\n",
       "      <td>2556.000000</td>\n",
       "      <td>...</td>\n",
       "      <td>696.500000</td>\n",
       "      <td>656.080000</td>\n",
       "      <td>71207.000000</td>\n",
       "      <td>29458.875000</td>\n",
       "      <td>14494.105263</td>\n",
       "      <td>111392.000000</td>\n",
       "      <td>0.000000</td>\n",
       "      <td>38726.200000</td>\n",
       "      <td>119358.285714</td>\n",
       "      <td>1240.217391</td>\n",
       "    </tr>\n",
       "    <tr>\n",
       "      <th>329</th>\n",
       "      <td>857.470000</td>\n",
       "      <td>601.300000</td>\n",
       "      <td>841.253333</td>\n",
       "      <td>896.031250</td>\n",
       "      <td>789.930000</td>\n",
       "      <td>703.245652</td>\n",
       "      <td>3670.460714</td>\n",
       "      <td>1737.125000</td>\n",
       "      <td>2418.978571</td>\n",
       "      <td>1868.550000</td>\n",
       "      <td>...</td>\n",
       "      <td>929.501667</td>\n",
       "      <td>760.086000</td>\n",
       "      <td>55321.700000</td>\n",
       "      <td>69746.425000</td>\n",
       "      <td>125520.481579</td>\n",
       "      <td>123248.187500</td>\n",
       "      <td>38726.200000</td>\n",
       "      <td>0.000000</td>\n",
       "      <td>40625.714286</td>\n",
       "      <td>4131.486957</td>\n",
       "    </tr>\n",
       "    <tr>\n",
       "      <th>330</th>\n",
       "      <td>1077.428571</td>\n",
       "      <td>1334.142857</td>\n",
       "      <td>1193.990476</td>\n",
       "      <td>1246.857143</td>\n",
       "      <td>1276.371429</td>\n",
       "      <td>1277.229814</td>\n",
       "      <td>1939.040816</td>\n",
       "      <td>1657.642857</td>\n",
       "      <td>1628.775510</td>\n",
       "      <td>2170.285714</td>\n",
       "      <td>...</td>\n",
       "      <td>898.300000</td>\n",
       "      <td>722.645714</td>\n",
       "      <td>177161.142857</td>\n",
       "      <td>124248.660714</td>\n",
       "      <td>27727.962406</td>\n",
       "      <td>85689.928571</td>\n",
       "      <td>119358.285714</td>\n",
       "      <td>40625.714286</td>\n",
       "      <td>0.000000</td>\n",
       "      <td>2403.055901</td>\n",
       "    </tr>\n",
       "    <tr>\n",
       "      <th>331</th>\n",
       "      <td>1599.991304</td>\n",
       "      <td>1498.913043</td>\n",
       "      <td>1422.040580</td>\n",
       "      <td>1766.380435</td>\n",
       "      <td>1857.049275</td>\n",
       "      <td>1423.406427</td>\n",
       "      <td>11793.461180</td>\n",
       "      <td>8545.413043</td>\n",
       "      <td>10044.826087</td>\n",
       "      <td>4658.608696</td>\n",
       "      <td>...</td>\n",
       "      <td>2283.071014</td>\n",
       "      <td>1546.970435</td>\n",
       "      <td>2455.913043</td>\n",
       "      <td>4111.788043</td>\n",
       "      <td>5014.871854</td>\n",
       "      <td>2303.652174</td>\n",
       "      <td>1240.217391</td>\n",
       "      <td>4131.486957</td>\n",
       "      <td>2403.055901</td>\n",
       "      <td>0.000000</td>\n",
       "    </tr>\n",
       "  </tbody>\n",
       "</table>\n",
       "<p>332 rows × 332 columns</p>\n",
       "</div>"
      ],
      "text/plain": [
       "               0              1              2              3    \\\n",
       "0         0.000000   73284.400000   27020.733333   33758.250000   \n",
       "1     73284.400000       0.000000   85252.466667  108973.500000   \n",
       "2     27020.733333   85252.466667       0.000000  335364.633333   \n",
       "3     33758.250000  108973.500000  335364.633333       0.000000   \n",
       "4    137248.186667  175693.400000   29533.142222   51957.425000   \n",
       "..             ...            ...            ...            ...   \n",
       "327     828.425000     834.250000     808.058333    1117.468750   \n",
       "328    1139.800000    4178.000000    2872.733333    2778.000000   \n",
       "329     857.470000     601.300000     841.253333     896.031250   \n",
       "330    1077.428571    1334.142857    1193.990476    1246.857143   \n",
       "331    1599.991304    1498.913043    1422.040580    1766.380435   \n",
       "\n",
       "               4              5             6            7             8    \\\n",
       "0    137248.186667  118675.808696   2141.285714  1192.733333   1083.000000   \n",
       "1    175693.400000  244054.304348   1776.071429   949.333333    997.428571   \n",
       "2     29533.142222  179109.252174   2296.469048  1355.344444   1011.466667   \n",
       "3     51957.425000  387523.032609   1909.700893   978.750000   1007.160714   \n",
       "4         0.000000  186742.773913   1660.764286  1275.955556   1094.228571   \n",
       "..             ...            ...           ...          ...           ...   \n",
       "327     869.700000     925.891304   2481.611607  1365.895833   1563.250000   \n",
       "328    1355.866667    2677.826087   1459.785714  1799.833333   1214.428571   \n",
       "329     789.930000     703.245652   3670.460714  1737.125000   2418.978571   \n",
       "330    1276.371429    1277.229814   1939.040816  1657.642857   1628.775510   \n",
       "331    1857.049275    1423.406427  11793.461180  8545.413043  10044.826087   \n",
       "\n",
       "             9    ...          322          323            324            325  \\\n",
       "0    1215.600000  ...  1707.366667  2193.544000     913.600000    1010.687500   \n",
       "1    1443.000000  ...  1129.533333  1494.840000    1800.000000     617.000000   \n",
       "2    1645.133333  ...  1851.440000  1614.074667    1148.733333     898.458333   \n",
       "3    1143.375000  ...  1469.062500  1481.770000     913.625000    1105.820312   \n",
       "4    1145.333333  ...  1732.253333  2499.216000     839.400000     978.462500   \n",
       "..           ...  ...          ...          ...            ...            ...   \n",
       "327  1882.625000  ...   814.991667   749.110000   82440.125000   96798.500000   \n",
       "328  2556.000000  ...   696.500000   656.080000   71207.000000   29458.875000   \n",
       "329  1868.550000  ...   929.501667   760.086000   55321.700000   69746.425000   \n",
       "330  2170.285714  ...   898.300000   722.645714  177161.142857  124248.660714   \n",
       "331  4658.608696  ...  2283.071014  1546.970435    2455.913043    4111.788043   \n",
       "\n",
       "               326            327            328            329  \\\n",
       "0       908.526316     828.425000    1139.800000     857.470000   \n",
       "1       597.947368     834.250000    4178.000000     601.300000   \n",
       "2       838.814035     808.058333    2872.733333     841.253333   \n",
       "3       906.236842    1117.468750    2778.000000     896.031250   \n",
       "4       846.800000     869.700000    1355.866667     789.930000   \n",
       "..             ...            ...            ...            ...   \n",
       "327   30527.085526       0.000000  111392.000000  123248.187500   \n",
       "328   14494.105263  111392.000000       0.000000   38726.200000   \n",
       "329  125520.481579  123248.187500   38726.200000       0.000000   \n",
       "330   27727.962406   85689.928571  119358.285714   40625.714286   \n",
       "331    5014.871854    2303.652174    1240.217391    4131.486957   \n",
       "\n",
       "               330          331  \n",
       "0      1077.428571  1599.991304  \n",
       "1      1334.142857  1498.913043  \n",
       "2      1193.990476  1422.040580  \n",
       "3      1246.857143  1766.380435  \n",
       "4      1276.371429  1857.049275  \n",
       "..             ...          ...  \n",
       "327   85689.928571  2303.652174  \n",
       "328  119358.285714  1240.217391  \n",
       "329   40625.714286  4131.486957  \n",
       "330       0.000000  2403.055901  \n",
       "331    2403.055901     0.000000  \n",
       "\n",
       "[332 rows x 332 columns]"
      ]
     },
     "execution_count": 112,
     "metadata": {},
     "output_type": "execute_result"
    }
   ],
   "source": [
    "# fill diagonal with zeros\n",
    "sci_step2 = sci_step2.where(np.identity(sci_step2.shape[0]) != 1,0).copy()\n",
    "sci_step2"
   ]
  },
  {
   "cell_type": "code",
   "execution_count": 113,
   "metadata": {},
   "outputs": [
    {
     "data": {
      "text/plain": [
       "(332, 332)"
      ]
     },
     "execution_count": 113,
     "metadata": {},
     "output_type": "execute_result"
    }
   ],
   "source": [
    "sci_step2.shape"
   ]
  },
  {
   "cell_type": "code",
   "execution_count": 114,
   "metadata": {},
   "outputs": [],
   "source": [
    "sci_step2.to_csv(save_path + f'sci_index_{total_no_counties}_meta_pruned.csv')"
   ]
  },
  {
   "cell_type": "markdown",
   "metadata": {},
   "source": [
    "# Long df with one row per FIPS but with aggregated data"
   ]
  },
  {
   "cell_type": "code",
   "execution_count": 115,
   "metadata": {},
   "outputs": [],
   "source": [
    "ID_metacounty = all_long_df['ID_metacounty'].values\n",
    "dates = all_long_df['Date'].values\n",
    "# keep unique identifiers\n",
    "df_keep = all_long_df[['ID_metacounty', 'ID', 'FIPS', 'Date', 'FIPSnew']]\n",
    "\n",
    "# transform string vars\n",
    "to_keep1 = ['ID_metacounty', 'State', 'country', 'County', 'County1', 'Date']\n",
    "red_long_df1 = all_long_df[to_keep1]\n",
    "\n",
    "# transform numerical vars\n",
    "to_drop2 = ['County','State', 'country','County1','ID', 'FIPS', 'FIPSnew']\n",
    "red_long_df2 = all_long_df.drop(to_drop2, axis=1)\n"
   ]
  },
  {
   "cell_type": "code",
   "execution_count": 116,
   "metadata": {},
   "outputs": [
    {
     "name": "stdout",
     "output_type": "stream",
     "text": [
      "CPU times: user 3min 43s, sys: 388 ms, total: 3min 43s\n",
      "Wall time: 3min 43s\n"
     ]
    },
    {
     "data": {
      "text/plain": [
       "(2124591, 6)"
      ]
     },
     "execution_count": 116,
     "metadata": {},
     "output_type": "execute_result"
    }
   ],
   "source": [
    "%%time\n",
    "# transform string vars\n",
    "final_long_df1 = red_long_df1.groupby(['ID_metacounty', 'Date']).transform(lambda x: {\"State\":x.iloc[0],\n",
    "                                                                              \"country\":x.iloc[0],\n",
    "                                                                             \"County\":x.iloc[0],\n",
    "                                                                         \"County1\":x.iloc[0]}[x.name]) \n",
    "\n",
    "final_long_df1['ID_metacounty_1'] = ID_metacounty\n",
    "final_long_df1['Date_1'] = dates\n",
    "final_long_df1.shape"
   ]
  },
  {
   "cell_type": "code",
   "execution_count": 117,
   "metadata": {},
   "outputs": [
    {
     "name": "stdout",
     "output_type": "stream",
     "text": [
      "CPU times: user 19min 57s, sys: 887 ms, total: 19min 58s\n",
      "Wall time: 19min 56s\n"
     ]
    },
    {
     "data": {
      "text/plain": [
       "(2124591, 14)"
      ]
     },
     "execution_count": 117,
     "metadata": {},
     "output_type": "execute_result"
    }
   ],
   "source": [
    "%%time\n",
    "# transform numerical vars\n",
    "final_long_df2 = red_long_df2.groupby(['ID_metacounty', 'Date']).transform(lambda x: {\"Population\":x.iloc[0],\n",
    "                                                                             \"Lat\":x.iloc[0], \n",
    "                                                                             \"Long_\":x.iloc[0],\n",
    "                                                    \"density_sk\":x.mean(),\n",
    "                                                        \"cum_Confirmed\":x.sum(),\n",
    "                                                   \"daily_confirmed\":x.sum(),\n",
    "                                                   \"cum_Vaccinated\":x.iloc[0], \n",
    "                                                   \"daily_vaccinated\":x.iloc[0], \"per_daily_vaccinated\":x.mean(), \n",
    "                                                   \"ContainmentHealthIndex\":x.iloc[0], \n",
    "                                                   \"ContainmentHealthIndex1\":x.iloc[0], \n",
    "                                                   \"T\":x.mean(),}[x.name])\n",
    "\n",
    "final_long_df2['ID_metacounty_2'] = ID_metacounty\n",
    "final_long_df2['Date_2'] = dates\n",
    "final_long_df2.shape"
   ]
  },
  {
   "cell_type": "code",
   "execution_count": 118,
   "metadata": {},
   "outputs": [
    {
     "data": {
      "text/plain": [
       "(2124591, 21)"
      ]
     },
     "execution_count": 118,
     "metadata": {},
     "output_type": "execute_result"
    }
   ],
   "source": [
    "# merge\n",
    "final_long_df = pd.concat([final_long_df1.drop(['ID_metacounty_1', 'Date_1'], axis=1).copy(), \n",
    "                           final_long_df2.drop(['ID_metacounty_2', 'Date_2'], axis=1).copy(), \n",
    "                           df_keep], axis=1).copy()\n",
    "final_long_df.shape"
   ]
  },
  {
   "cell_type": "code",
   "execution_count": 119,
   "metadata": {},
   "outputs": [],
   "source": [
    "final_long_df.to_csv(save_path + f'COVID_{total_no_counties}_counties_meta_long_pruned.csv')"
   ]
  },
  {
   "cell_type": "code",
   "execution_count": 120,
   "metadata": {},
   "outputs": [
    {
     "data": {
      "text/plain": [
       "Index(['State', 'country', 'County', 'County1', 'Population', 'Lat', 'Long_',\n",
       "       'density_sk', 'cum_Confirmed', 'daily_confirmed', 'cum_Vaccinated',\n",
       "       'daily_vaccinated', 'per_daily_vaccinated', 'ContainmentHealthIndex',\n",
       "       'ContainmentHealthIndex1', 'T', 'ID_metacounty', 'ID', 'FIPS', 'Date',\n",
       "       'FIPSnew'],\n",
       "      dtype='object')"
      ]
     },
     "execution_count": 120,
     "metadata": {},
     "output_type": "execute_result"
    }
   ],
   "source": [
    "final_long_df.columns"
   ]
  },
  {
   "cell_type": "markdown",
   "metadata": {},
   "source": [
    "# Aggregated df with one row per ID_metacounty-Date"
   ]
  },
  {
   "cell_type": "code",
   "execution_count": 121,
   "metadata": {},
   "outputs": [
    {
     "data": {
      "text/plain": [
       "(225428, 16)"
      ]
     },
     "execution_count": 121,
     "metadata": {},
     "output_type": "execute_result"
    }
   ],
   "source": [
    "to_drop = ['FIPS', 'ID', 'County',\n",
    "       'FIPSnew', 'County1']\n",
    "red_long_df = all_long_df.drop(to_drop, axis=1)\n",
    "final_short_df = red_long_df.groupby(['ID_metacounty','Date'], as_index=False).agg({\"Population\":\"first\", \n",
    "                                                                                    \"Lat\":\"first\", \"Long_\":\"first\",\n",
    "                                                                                    \"State\":\"first\",\n",
    "                                                    \"density_sk\":\"mean\", \"Date\":\"first\",\n",
    "                                                        \"cum_Confirmed\":\"sum\",\n",
    "                                                   \"daily_confirmed\":\"sum\",\n",
    "                                                   \"cum_Vaccinated\":\"first\", \n",
    "                                                   \"daily_vaccinated\":\"first\", \"per_daily_vaccinated\":\"mean\", \n",
    "                                                   \"ContainmentHealthIndex\":\"first\", \n",
    "                                                   \"ContainmentHealthIndex1\":\"first\", \"country\":\"first\",\n",
    "                                                   \"T\":\"mean\",})\n",
    "final_short_df.shape"
   ]
  },
  {
   "cell_type": "code",
   "execution_count": 122,
   "metadata": {},
   "outputs": [],
   "source": [
    "final_short_df.to_csv(save_path + f'COVID_{total_no_counties}_counties_meta_agg_pruned.csv')"
   ]
  },
  {
   "cell_type": "code",
   "execution_count": 123,
   "metadata": {},
   "outputs": [
    {
     "data": {
      "text/plain": [
       "Index(['ID_metacounty', 'Population', 'Lat', 'Long_', 'State', 'density_sk',\n",
       "       'Date', 'cum_Confirmed', 'daily_confirmed', 'cum_Vaccinated',\n",
       "       'daily_vaccinated', 'per_daily_vaccinated', 'ContainmentHealthIndex',\n",
       "       'ContainmentHealthIndex1', 'country', 'T'],\n",
       "      dtype='object')"
      ]
     },
     "execution_count": 123,
     "metadata": {},
     "output_type": "execute_result"
    }
   ],
   "source": [
    "final_short_df.columns"
   ]
  }
 ],
 "metadata": {
  "kernelspec": {
   "display_name": "Python 3",
   "language": "python",
   "name": "python3"
  },
  "language_info": {
   "codemirror_mode": {
    "name": "ipython",
    "version": 3
   },
   "file_extension": ".py",
   "mimetype": "text/x-python",
   "name": "python",
   "nbconvert_exporter": "python",
   "pygments_lexer": "ipython3",
   "version": "3.8.8"
  },
  "toc": {
   "base_numbering": 1,
   "nav_menu": {},
   "number_sections": true,
   "sideBar": true,
   "skip_h1_title": false,
   "title_cell": "Table of Contents",
   "title_sidebar": "Contents",
   "toc_cell": false,
   "toc_position": {},
   "toc_section_display": true,
   "toc_window_display": false
  }
 },
 "nbformat": 4,
 "nbformat_minor": 4
}
